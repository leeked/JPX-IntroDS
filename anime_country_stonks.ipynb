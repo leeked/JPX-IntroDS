{
 "cells": [
  {
   "cell_type": "markdown",
   "metadata": {
    "id": "H7KquDBA4OQB"
   },
   "source": [
    "# JPX Tokyo Stock Exchange Prediction Challenge\n",
    "\n",
    "## Time Series Analysis\n",
    "\n",
    "Authors: Jeremy Jang (jj2798), Kevin Lee (kl3642), Kevin Zheng (kz1252)"
   ]
  },
  {
   "cell_type": "markdown",
   "metadata": {
    "id": "WYXISRJx4uwk"
   },
   "source": [
    "## 1. Preliminary EDA and Data Engineering"
   ]
  },
  {
   "cell_type": "markdown",
   "metadata": {
    "id": "KBRvLeHV4z0m"
   },
   "source": [
    "Necessary Packages"
   ]
  },
  {
   "cell_type": "code",
   "execution_count": 46,
   "metadata": {},
   "outputs": [],
   "source": [
    "# If you need missingno\n",
    "\n",
    "#!pip install missingno"
   ]
  },
  {
   "cell_type": "code",
   "execution_count": 47,
   "metadata": {
    "id": "0isHEL_4wHBh"
   },
   "outputs": [],
   "source": [
    "import numpy as np\n",
    "import pandas as pd\n",
    "import matplotlib.pyplot as plt\n",
    "import seaborn as sns\n",
    "import missingno as msno\n",
    "\n",
    "#need to import all of the relevant sklearn stuff and corr/arma models\n",
    "from statsmodels.tsa.statespace.sarimax import SARIMAX"
   ]
  },
  {
   "cell_type": "markdown",
   "metadata": {
    "id": "KdomYySS5HL3"
   },
   "source": [
    "First we load the data into the variable `df`."
   ]
  },
  {
   "cell_type": "code",
   "execution_count": 48,
   "metadata": {
    "colab": {
     "base_uri": "https://localhost:8080/",
     "height": 310
    },
    "id": "usgZHTqM5Fh2",
    "outputId": "49831c97-40aa-475d-8945-9bfc2f392eab"
   },
   "outputs": [],
   "source": [
    "df = pd.read_csv('stock_prices.csv', parse_dates=['Date'],index_col='Date')\n",
    "df.index = pd.DatetimeIndex(df.index).to_period('D')"
   ]
  },
  {
   "cell_type": "code",
   "execution_count": 49,
   "metadata": {
    "id": "mTL0ykSa81ek"
   },
   "outputs": [
    {
     "data": {
      "text/html": [
       "<div>\n",
       "<style scoped>\n",
       "    .dataframe tbody tr th:only-of-type {\n",
       "        vertical-align: middle;\n",
       "    }\n",
       "\n",
       "    .dataframe tbody tr th {\n",
       "        vertical-align: top;\n",
       "    }\n",
       "\n",
       "    .dataframe thead th {\n",
       "        text-align: right;\n",
       "    }\n",
       "</style>\n",
       "<table border=\"1\" class=\"dataframe\">\n",
       "  <thead>\n",
       "    <tr style=\"text-align: right;\">\n",
       "      <th></th>\n",
       "      <th>RowId</th>\n",
       "      <th>SecuritiesCode</th>\n",
       "      <th>Open</th>\n",
       "      <th>High</th>\n",
       "      <th>Low</th>\n",
       "      <th>Close</th>\n",
       "      <th>Volume</th>\n",
       "      <th>AdjustmentFactor</th>\n",
       "      <th>ExpectedDividend</th>\n",
       "      <th>SupervisionFlag</th>\n",
       "      <th>Target</th>\n",
       "    </tr>\n",
       "    <tr>\n",
       "      <th>Date</th>\n",
       "      <th></th>\n",
       "      <th></th>\n",
       "      <th></th>\n",
       "      <th></th>\n",
       "      <th></th>\n",
       "      <th></th>\n",
       "      <th></th>\n",
       "      <th></th>\n",
       "      <th></th>\n",
       "      <th></th>\n",
       "      <th></th>\n",
       "    </tr>\n",
       "  </thead>\n",
       "  <tbody>\n",
       "    <tr>\n",
       "      <th>2017-01-04</th>\n",
       "      <td>20170104_1301</td>\n",
       "      <td>1301</td>\n",
       "      <td>2734.0</td>\n",
       "      <td>2755.0</td>\n",
       "      <td>2730.0</td>\n",
       "      <td>2742.0</td>\n",
       "      <td>31400</td>\n",
       "      <td>1.0</td>\n",
       "      <td>NaN</td>\n",
       "      <td>False</td>\n",
       "      <td>0.000730</td>\n",
       "    </tr>\n",
       "    <tr>\n",
       "      <th>2017-01-04</th>\n",
       "      <td>20170104_1332</td>\n",
       "      <td>1332</td>\n",
       "      <td>568.0</td>\n",
       "      <td>576.0</td>\n",
       "      <td>563.0</td>\n",
       "      <td>571.0</td>\n",
       "      <td>2798500</td>\n",
       "      <td>1.0</td>\n",
       "      <td>NaN</td>\n",
       "      <td>False</td>\n",
       "      <td>0.012324</td>\n",
       "    </tr>\n",
       "    <tr>\n",
       "      <th>2017-01-04</th>\n",
       "      <td>20170104_1333</td>\n",
       "      <td>1333</td>\n",
       "      <td>3150.0</td>\n",
       "      <td>3210.0</td>\n",
       "      <td>3140.0</td>\n",
       "      <td>3210.0</td>\n",
       "      <td>270800</td>\n",
       "      <td>1.0</td>\n",
       "      <td>NaN</td>\n",
       "      <td>False</td>\n",
       "      <td>0.006154</td>\n",
       "    </tr>\n",
       "    <tr>\n",
       "      <th>2017-01-04</th>\n",
       "      <td>20170104_1376</td>\n",
       "      <td>1376</td>\n",
       "      <td>1510.0</td>\n",
       "      <td>1550.0</td>\n",
       "      <td>1510.0</td>\n",
       "      <td>1550.0</td>\n",
       "      <td>11300</td>\n",
       "      <td>1.0</td>\n",
       "      <td>NaN</td>\n",
       "      <td>False</td>\n",
       "      <td>0.011053</td>\n",
       "    </tr>\n",
       "    <tr>\n",
       "      <th>2017-01-04</th>\n",
       "      <td>20170104_1377</td>\n",
       "      <td>1377</td>\n",
       "      <td>3270.0</td>\n",
       "      <td>3350.0</td>\n",
       "      <td>3270.0</td>\n",
       "      <td>3330.0</td>\n",
       "      <td>150800</td>\n",
       "      <td>1.0</td>\n",
       "      <td>NaN</td>\n",
       "      <td>False</td>\n",
       "      <td>0.003026</td>\n",
       "    </tr>\n",
       "  </tbody>\n",
       "</table>\n",
       "</div>"
      ],
      "text/plain": [
       "                    RowId  SecuritiesCode    Open    High     Low   Close  \\\n",
       "Date                                                                        \n",
       "2017-01-04  20170104_1301            1301  2734.0  2755.0  2730.0  2742.0   \n",
       "2017-01-04  20170104_1332            1332   568.0   576.0   563.0   571.0   \n",
       "2017-01-04  20170104_1333            1333  3150.0  3210.0  3140.0  3210.0   \n",
       "2017-01-04  20170104_1376            1376  1510.0  1550.0  1510.0  1550.0   \n",
       "2017-01-04  20170104_1377            1377  3270.0  3350.0  3270.0  3330.0   \n",
       "\n",
       "             Volume  AdjustmentFactor  ExpectedDividend  SupervisionFlag  \\\n",
       "Date                                                                       \n",
       "2017-01-04    31400               1.0               NaN            False   \n",
       "2017-01-04  2798500               1.0               NaN            False   \n",
       "2017-01-04   270800               1.0               NaN            False   \n",
       "2017-01-04    11300               1.0               NaN            False   \n",
       "2017-01-04   150800               1.0               NaN            False   \n",
       "\n",
       "              Target  \n",
       "Date                  \n",
       "2017-01-04  0.000730  \n",
       "2017-01-04  0.012324  \n",
       "2017-01-04  0.006154  \n",
       "2017-01-04  0.011053  \n",
       "2017-01-04  0.003026  "
      ]
     },
     "execution_count": 49,
     "metadata": {},
     "output_type": "execute_result"
    }
   ],
   "source": [
    "df.head()"
   ]
  },
  {
   "cell_type": "markdown",
   "metadata": {},
   "source": [
    "Now let's take a look at each feature and the target..."
   ]
  },
  {
   "cell_type": "code",
   "execution_count": 50,
   "metadata": {
    "colab": {
     "base_uri": "https://localhost:8080/"
    },
    "id": "4K_kphnu87lE",
    "outputId": "cf7950c2-0c53-40ea-bbc3-4bc864ddcaaf"
   },
   "outputs": [
    {
     "name": "stdout",
     "output_type": "stream",
     "text": [
      "<class 'pandas.core.frame.DataFrame'>\n",
      "PeriodIndex: 2332531 entries, 2017-01-04 to 2021-12-03\n",
      "Freq: D\n",
      "Data columns (total 11 columns):\n",
      " #   Column            Dtype  \n",
      "---  ------            -----  \n",
      " 0   RowId             object \n",
      " 1   SecuritiesCode    int64  \n",
      " 2   Open              float64\n",
      " 3   High              float64\n",
      " 4   Low               float64\n",
      " 5   Close             float64\n",
      " 6   Volume            int64  \n",
      " 7   AdjustmentFactor  float64\n",
      " 8   ExpectedDividend  float64\n",
      " 9   SupervisionFlag   bool   \n",
      " 10  Target            float64\n",
      "dtypes: bool(1), float64(7), int64(2), object(1)\n",
      "memory usage: 198.0+ MB\n",
      "None\n",
      "\n",
      "Unique Securities:\n",
      "[1301 1332 1333 ... 4168 7342 4169]\n",
      "Num unique:  2000\n",
      "AKA 2000 total tickers\n"
     ]
    }
   ],
   "source": [
    "print(df.info())\n",
    "\n",
    "print('\\nUnique Securities:')\n",
    "print(df.SecuritiesCode.unique())\n",
    "print('Num unique: ',len(df.SecuritiesCode.unique()))\n",
    "print('AKA 2000 total tickers')"
   ]
  },
  {
   "cell_type": "code",
   "execution_count": 51,
   "metadata": {},
   "outputs": [
    {
     "name": "stdout",
     "output_type": "stream",
     "text": [
      "       SecuritiesCode          Open          High           Low         Close  \\\n",
      "count    2.332531e+06  2.324923e+06  2.324923e+06  2.324923e+06  2.324923e+06   \n",
      "mean     5.894835e+03  2.594511e+03  2.626540e+03  2.561227e+03  2.594023e+03   \n",
      "std      2.404161e+03  3.577192e+03  3.619363e+03  3.533494e+03  3.576538e+03   \n",
      "min      1.301000e+03  1.400000e+01  1.500000e+01  1.300000e+01  1.400000e+01   \n",
      "25%      3.891000e+03  1.022000e+03  1.035000e+03  1.009000e+03  1.022000e+03   \n",
      "50%      6.238000e+03  1.812000e+03  1.834000e+03  1.790000e+03  1.811000e+03   \n",
      "75%      7.965000e+03  3.030000e+03  3.070000e+03  2.995000e+03  3.030000e+03   \n",
      "max      9.997000e+03  1.099500e+05  1.105000e+05  1.072000e+05  1.095500e+05   \n",
      "\n",
      "             Volume  AdjustmentFactor  ExpectedDividend        Target  \n",
      "count  2.332531e+06      2.332531e+06      18865.000000  2.332293e+06  \n",
      "mean   6.919366e+05      1.000508e+00         22.017730  4.450964e-04  \n",
      "std    3.911256e+06      6.773040e-02         29.882453  2.339879e-02  \n",
      "min    0.000000e+00      1.000000e-01          0.000000 -5.785414e-01  \n",
      "25%    3.030000e+04      1.000000e+00          5.000000 -1.049869e-02  \n",
      "50%    1.071000e+05      1.000000e+00         15.000000  0.000000e+00  \n",
      "75%    4.021000e+05      1.000000e+00         30.000000  1.053159e-02  \n",
      "max    6.436540e+08      2.000000e+01       1070.000000  1.119512e+00  \n"
     ]
    }
   ],
   "source": [
    "print(df.describe())"
   ]
  },
  {
   "cell_type": "markdown",
   "metadata": {},
   "source": [
    "And how many NaN values there are..."
   ]
  },
  {
   "cell_type": "code",
   "execution_count": 52,
   "metadata": {},
   "outputs": [
    {
     "name": "stdout",
     "output_type": "stream",
     "text": [
      "\n",
      "NaN Values:\n",
      "RowId                     0\n",
      "SecuritiesCode            0\n",
      "Open                   7608\n",
      "High                   7608\n",
      "Low                    7608\n",
      "Close                  7608\n",
      "Volume                    0\n",
      "AdjustmentFactor          0\n",
      "ExpectedDividend    2313666\n",
      "SupervisionFlag           0\n",
      "Target                  238\n",
      "dtype: int64\n",
      "\n",
      "Total NaN:  2344336\n"
     ]
    }
   ],
   "source": [
    "print('\\nNaN Values:')\n",
    "print(df.isnull().sum())\n",
    "print('\\nTotal NaN: ',df.isnull().sum().sum())"
   ]
  },
  {
   "cell_type": "code",
   "execution_count": 53,
   "metadata": {},
   "outputs": [
    {
     "data": {
      "text/plain": [
       "<AxesSubplot:>"
      ]
     },
     "execution_count": 53,
     "metadata": {},
     "output_type": "execute_result"
    },
    {
     "data": {
      "image/png": "[encoded data removed]",
      "text/plain": [
       "<Figure size 1800x720 with 2 Axes>"
      ]
     },
     "metadata": {
      "needs_background": "light"
     },
     "output_type": "display_data"
    }
   ],
   "source": [
    "msno.matrix(df)"
   ]
  },
  {
   "cell_type": "markdown",
   "metadata": {},
   "source": [
    "We can see that there are quite a few missing value, namely from the features `[Open, High, Low, Close, ExpectedDividend, Target]`. The competition provides us with a file that contains the descriptions for each feature in our dataset."
   ]
  },
  {
   "cell_type": "code",
   "execution_count": 54,
   "metadata": {},
   "outputs": [],
   "source": [
    "spec = pd.read_csv('stock_price_spec.csv')"
   ]
  },
  {
   "cell_type": "code",
   "execution_count": 55,
   "metadata": {},
   "outputs": [
    {
     "data": {
      "text/html": [
       "<div>\n",
       "<style scoped>\n",
       "    .dataframe tbody tr th:only-of-type {\n",
       "        vertical-align: middle;\n",
       "    }\n",
       "\n",
       "    .dataframe tbody tr th {\n",
       "        vertical-align: top;\n",
       "    }\n",
       "\n",
       "    .dataframe thead th {\n",
       "        text-align: right;\n",
       "    }\n",
       "</style>\n",
       "<table border=\"1\" class=\"dataframe\">\n",
       "  <thead>\n",
       "    <tr style=\"text-align: right;\">\n",
       "      <th></th>\n",
       "      <th>Column</th>\n",
       "      <th>Sample value</th>\n",
       "      <th>Type</th>\n",
       "      <th>Addendum</th>\n",
       "      <th>Remarks</th>\n",
       "    </tr>\n",
       "  </thead>\n",
       "  <tbody>\n",
       "    <tr>\n",
       "      <th>0</th>\n",
       "      <td>RowId</td>\n",
       "      <td>20170104_1301</td>\n",
       "      <td>string</td>\n",
       "      <td>NaN</td>\n",
       "      <td>Unique ID of price records</td>\n",
       "    </tr>\n",
       "    <tr>\n",
       "      <th>1</th>\n",
       "      <td>Date</td>\n",
       "      <td>2017-01-04 0:00:00</td>\n",
       "      <td>date</td>\n",
       "      <td>NaN</td>\n",
       "      <td>Trade date</td>\n",
       "    </tr>\n",
       "    <tr>\n",
       "      <th>2</th>\n",
       "      <td>SecuritiesCode</td>\n",
       "      <td>1301</td>\n",
       "      <td>Int64</td>\n",
       "      <td>NaN</td>\n",
       "      <td>Local securities code</td>\n",
       "    </tr>\n",
       "    <tr>\n",
       "      <th>3</th>\n",
       "      <td>Open</td>\n",
       "      <td>2734</td>\n",
       "      <td>float</td>\n",
       "      <td>NaN</td>\n",
       "      <td>first traded price on a day</td>\n",
       "    </tr>\n",
       "    <tr>\n",
       "      <th>4</th>\n",
       "      <td>High</td>\n",
       "      <td>2755</td>\n",
       "      <td>float</td>\n",
       "      <td>NaN</td>\n",
       "      <td>highest traded price on a day</td>\n",
       "    </tr>\n",
       "    <tr>\n",
       "      <th>5</th>\n",
       "      <td>Low</td>\n",
       "      <td>2730</td>\n",
       "      <td>float</td>\n",
       "      <td>NaN</td>\n",
       "      <td>lowest traded price on a day</td>\n",
       "    </tr>\n",
       "    <tr>\n",
       "      <th>6</th>\n",
       "      <td>Close</td>\n",
       "      <td>2742</td>\n",
       "      <td>float</td>\n",
       "      <td>NaN</td>\n",
       "      <td>last traded price on a day</td>\n",
       "    </tr>\n",
       "    <tr>\n",
       "      <th>7</th>\n",
       "      <td>Volume</td>\n",
       "      <td>31400</td>\n",
       "      <td>Int64</td>\n",
       "      <td>NaN</td>\n",
       "      <td>number of traded stocks on a day</td>\n",
       "    </tr>\n",
       "    <tr>\n",
       "      <th>8</th>\n",
       "      <td>AdjustmentFactor</td>\n",
       "      <td>1</td>\n",
       "      <td>float</td>\n",
       "      <td>NaN</td>\n",
       "      <td>to calculate theoretical price/volume when spl...</td>\n",
       "    </tr>\n",
       "    <tr>\n",
       "      <th>9</th>\n",
       "      <td>SupervisionFlag</td>\n",
       "      <td>FALSE</td>\n",
       "      <td>boolean</td>\n",
       "      <td>NaN</td>\n",
       "      <td>Flag of Securities Under Supervision &amp; Securit...</td>\n",
       "    </tr>\n",
       "    <tr>\n",
       "      <th>10</th>\n",
       "      <td>ExpectedDividend</td>\n",
       "      <td>NaN</td>\n",
       "      <td>float</td>\n",
       "      <td>NaN</td>\n",
       "      <td>Expected dividend value for ex-right date. Thi...</td>\n",
       "    </tr>\n",
       "    <tr>\n",
       "      <th>11</th>\n",
       "      <td>ExpectedDividend</td>\n",
       "      <td>NaN</td>\n",
       "      <td>float</td>\n",
       "      <td>NaN</td>\n",
       "      <td>Expected dividend value for ex-right date. Thi...</td>\n",
       "    </tr>\n",
       "    <tr>\n",
       "      <th>12</th>\n",
       "      <td>Target</td>\n",
       "      <td>0.00073</td>\n",
       "      <td>float</td>\n",
       "      <td>NaN</td>\n",
       "      <td>Change ratio of adjusted closing price between...</td>\n",
       "    </tr>\n",
       "  </tbody>\n",
       "</table>\n",
       "</div>"
      ],
      "text/plain": [
       "              Column        Sample value     Type  Addendum  \\\n",
       "0              RowId       20170104_1301   string       NaN   \n",
       "1               Date  2017-01-04 0:00:00     date       NaN   \n",
       "2     SecuritiesCode                1301    Int64       NaN   \n",
       "3               Open                2734    float       NaN   \n",
       "4               High                2755    float       NaN   \n",
       "5                Low                2730    float       NaN   \n",
       "6              Close                2742    float       NaN   \n",
       "7             Volume               31400    Int64       NaN   \n",
       "8   AdjustmentFactor                   1    float       NaN   \n",
       "9    SupervisionFlag               FALSE  boolean       NaN   \n",
       "10  ExpectedDividend                 NaN    float       NaN   \n",
       "11  ExpectedDividend                 NaN    float       NaN   \n",
       "12            Target             0.00073    float       NaN   \n",
       "\n",
       "                                              Remarks  \n",
       "0                          Unique ID of price records  \n",
       "1                                          Trade date  \n",
       "2                               Local securities code  \n",
       "3                         first traded price on a day  \n",
       "4                       highest traded price on a day  \n",
       "5                        lowest traded price on a day  \n",
       "6                          last traded price on a day  \n",
       "7                    number of traded stocks on a day  \n",
       "8   to calculate theoretical price/volume when spl...  \n",
       "9   Flag of Securities Under Supervision & Securit...  \n",
       "10  Expected dividend value for ex-right date. Thi...  \n",
       "11  Expected dividend value for ex-right date. Thi...  \n",
       "12  Change ratio of adjusted closing price between...  "
      ]
     },
     "execution_count": 55,
     "metadata": {},
     "output_type": "execute_result"
    }
   ],
   "source": [
    "spec"
   ]
  },
  {
   "cell_type": "markdown",
   "metadata": {},
   "source": [
    "From this information, we can understand that we will not be needing the following features: `[RowId, SupervisionFlag, ExpectedDividend, Target]`. We will need the SecurityCode to pick the stocks to analyze. Our analysis will be chiefly concerned with the date and the close adjusted price of the stocks, so we can disregard `[Open, High, Low]` as well. We have also already determined that the Volume is weakly correlated at best with the close price, so we will also be discarding that feature. The adjustment factor is required to compute the close adjusted price."
   ]
  },
  {
   "cell_type": "code",
   "execution_count": 56,
   "metadata": {},
   "outputs": [
    {
     "data": {
      "text/html": [
       "<div>\n",
       "<style scoped>\n",
       "    .dataframe tbody tr th:only-of-type {\n",
       "        vertical-align: middle;\n",
       "    }\n",
       "\n",
       "    .dataframe tbody tr th {\n",
       "        vertical-align: top;\n",
       "    }\n",
       "\n",
       "    .dataframe thead th {\n",
       "        text-align: right;\n",
       "    }\n",
       "</style>\n",
       "<table border=\"1\" class=\"dataframe\">\n",
       "  <thead>\n",
       "    <tr style=\"text-align: right;\">\n",
       "      <th></th>\n",
       "      <th>SecuritiesCode</th>\n",
       "      <th>Close</th>\n",
       "      <th>AdjustmentFactor</th>\n",
       "    </tr>\n",
       "    <tr>\n",
       "      <th>Date</th>\n",
       "      <th></th>\n",
       "      <th></th>\n",
       "      <th></th>\n",
       "    </tr>\n",
       "  </thead>\n",
       "  <tbody>\n",
       "    <tr>\n",
       "      <th>2017-01-04</th>\n",
       "      <td>1301</td>\n",
       "      <td>2742.0</td>\n",
       "      <td>1.0</td>\n",
       "    </tr>\n",
       "    <tr>\n",
       "      <th>2017-01-04</th>\n",
       "      <td>1332</td>\n",
       "      <td>571.0</td>\n",
       "      <td>1.0</td>\n",
       "    </tr>\n",
       "    <tr>\n",
       "      <th>2017-01-04</th>\n",
       "      <td>1333</td>\n",
       "      <td>3210.0</td>\n",
       "      <td>1.0</td>\n",
       "    </tr>\n",
       "    <tr>\n",
       "      <th>2017-01-04</th>\n",
       "      <td>1376</td>\n",
       "      <td>1550.0</td>\n",
       "      <td>1.0</td>\n",
       "    </tr>\n",
       "    <tr>\n",
       "      <th>2017-01-04</th>\n",
       "      <td>1377</td>\n",
       "      <td>3330.0</td>\n",
       "      <td>1.0</td>\n",
       "    </tr>\n",
       "    <tr>\n",
       "      <th>...</th>\n",
       "      <td>...</td>\n",
       "      <td>...</td>\n",
       "      <td>...</td>\n",
       "    </tr>\n",
       "    <tr>\n",
       "      <th>2021-12-03</th>\n",
       "      <td>9990</td>\n",
       "      <td>528.0</td>\n",
       "      <td>1.0</td>\n",
       "    </tr>\n",
       "    <tr>\n",
       "      <th>2021-12-03</th>\n",
       "      <td>9991</td>\n",
       "      <td>794.0</td>\n",
       "      <td>1.0</td>\n",
       "    </tr>\n",
       "    <tr>\n",
       "      <th>2021-12-03</th>\n",
       "      <td>9993</td>\n",
       "      <td>1645.0</td>\n",
       "      <td>1.0</td>\n",
       "    </tr>\n",
       "    <tr>\n",
       "      <th>2021-12-03</th>\n",
       "      <td>9994</td>\n",
       "      <td>2389.0</td>\n",
       "      <td>1.0</td>\n",
       "    </tr>\n",
       "    <tr>\n",
       "      <th>2021-12-03</th>\n",
       "      <td>9997</td>\n",
       "      <td>696.0</td>\n",
       "      <td>1.0</td>\n",
       "    </tr>\n",
       "  </tbody>\n",
       "</table>\n",
       "<p>2332531 rows × 3 columns</p>\n",
       "</div>"
      ],
      "text/plain": [
       "            SecuritiesCode   Close  AdjustmentFactor\n",
       "Date                                                \n",
       "2017-01-04            1301  2742.0               1.0\n",
       "2017-01-04            1332   571.0               1.0\n",
       "2017-01-04            1333  3210.0               1.0\n",
       "2017-01-04            1376  1550.0               1.0\n",
       "2017-01-04            1377  3330.0               1.0\n",
       "...                    ...     ...               ...\n",
       "2021-12-03            9990   528.0               1.0\n",
       "2021-12-03            9991   794.0               1.0\n",
       "2021-12-03            9993  1645.0               1.0\n",
       "2021-12-03            9994  2389.0               1.0\n",
       "2021-12-03            9997   696.0               1.0\n",
       "\n",
       "[2332531 rows x 3 columns]"
      ]
     },
     "execution_count": 56,
     "metadata": {},
     "output_type": "execute_result"
    }
   ],
   "source": [
    "# Drop unnecessary columns\n",
    "df.drop(columns=['RowId','Open','High','Low','Volume','SupervisionFlag','ExpectedDividend','Target'],inplace=True)\n",
    "df"
   ]
  },
  {
   "cell_type": "code",
   "execution_count": 57,
   "metadata": {},
   "outputs": [
    {
     "data": {
      "text/html": [
       "<div>\n",
       "<style scoped>\n",
       "    .dataframe tbody tr th:only-of-type {\n",
       "        vertical-align: middle;\n",
       "    }\n",
       "\n",
       "    .dataframe tbody tr th {\n",
       "        vertical-align: top;\n",
       "    }\n",
       "\n",
       "    .dataframe thead th {\n",
       "        text-align: right;\n",
       "    }\n",
       "</style>\n",
       "<table border=\"1\" class=\"dataframe\">\n",
       "  <thead>\n",
       "    <tr style=\"text-align: right;\">\n",
       "      <th></th>\n",
       "      <th>SecuritiesCode</th>\n",
       "      <th>Close</th>\n",
       "      <th>AdjustmentFactor</th>\n",
       "      <th>close_adj</th>\n",
       "    </tr>\n",
       "    <tr>\n",
       "      <th>Date</th>\n",
       "      <th></th>\n",
       "      <th></th>\n",
       "      <th></th>\n",
       "      <th></th>\n",
       "    </tr>\n",
       "  </thead>\n",
       "  <tbody>\n",
       "    <tr>\n",
       "      <th>2017-01-04</th>\n",
       "      <td>1301</td>\n",
       "      <td>2742.0</td>\n",
       "      <td>1.0</td>\n",
       "      <td>2742.0</td>\n",
       "    </tr>\n",
       "    <tr>\n",
       "      <th>2017-01-04</th>\n",
       "      <td>1332</td>\n",
       "      <td>571.0</td>\n",
       "      <td>1.0</td>\n",
       "      <td>571.0</td>\n",
       "    </tr>\n",
       "    <tr>\n",
       "      <th>2017-01-04</th>\n",
       "      <td>1333</td>\n",
       "      <td>3210.0</td>\n",
       "      <td>1.0</td>\n",
       "      <td>3210.0</td>\n",
       "    </tr>\n",
       "    <tr>\n",
       "      <th>2017-01-04</th>\n",
       "      <td>1376</td>\n",
       "      <td>1550.0</td>\n",
       "      <td>1.0</td>\n",
       "      <td>1550.0</td>\n",
       "    </tr>\n",
       "    <tr>\n",
       "      <th>2017-01-04</th>\n",
       "      <td>1377</td>\n",
       "      <td>3330.0</td>\n",
       "      <td>1.0</td>\n",
       "      <td>3330.0</td>\n",
       "    </tr>\n",
       "    <tr>\n",
       "      <th>...</th>\n",
       "      <td>...</td>\n",
       "      <td>...</td>\n",
       "      <td>...</td>\n",
       "      <td>...</td>\n",
       "    </tr>\n",
       "    <tr>\n",
       "      <th>2021-12-03</th>\n",
       "      <td>9990</td>\n",
       "      <td>528.0</td>\n",
       "      <td>1.0</td>\n",
       "      <td>528.0</td>\n",
       "    </tr>\n",
       "    <tr>\n",
       "      <th>2021-12-03</th>\n",
       "      <td>9991</td>\n",
       "      <td>794.0</td>\n",
       "      <td>1.0</td>\n",
       "      <td>794.0</td>\n",
       "    </tr>\n",
       "    <tr>\n",
       "      <th>2021-12-03</th>\n",
       "      <td>9993</td>\n",
       "      <td>1645.0</td>\n",
       "      <td>1.0</td>\n",
       "      <td>1645.0</td>\n",
       "    </tr>\n",
       "    <tr>\n",
       "      <th>2021-12-03</th>\n",
       "      <td>9994</td>\n",
       "      <td>2389.0</td>\n",
       "      <td>1.0</td>\n",
       "      <td>2389.0</td>\n",
       "    </tr>\n",
       "    <tr>\n",
       "      <th>2021-12-03</th>\n",
       "      <td>9997</td>\n",
       "      <td>696.0</td>\n",
       "      <td>1.0</td>\n",
       "      <td>696.0</td>\n",
       "    </tr>\n",
       "  </tbody>\n",
       "</table>\n",
       "<p>2332531 rows × 4 columns</p>\n",
       "</div>"
      ],
      "text/plain": [
       "            SecuritiesCode   Close  AdjustmentFactor  close_adj\n",
       "Date                                                           \n",
       "2017-01-04            1301  2742.0               1.0     2742.0\n",
       "2017-01-04            1332   571.0               1.0      571.0\n",
       "2017-01-04            1333  3210.0               1.0     3210.0\n",
       "2017-01-04            1376  1550.0               1.0     1550.0\n",
       "2017-01-04            1377  3330.0               1.0     3330.0\n",
       "...                    ...     ...               ...        ...\n",
       "2021-12-03            9990   528.0               1.0      528.0\n",
       "2021-12-03            9991   794.0               1.0      794.0\n",
       "2021-12-03            9993  1645.0               1.0     1645.0\n",
       "2021-12-03            9994  2389.0               1.0     2389.0\n",
       "2021-12-03            9997   696.0               1.0      696.0\n",
       "\n",
       "[2332531 rows x 4 columns]"
      ]
     },
     "execution_count": 57,
     "metadata": {},
     "output_type": "execute_result"
    }
   ],
   "source": [
    "# Compute Close Adjusted Price\n",
    "df['close_adj'] = df['Close'] / df['AdjustmentFactor']\n",
    "df"
   ]
  },
  {
   "cell_type": "code",
   "execution_count": 58,
   "metadata": {},
   "outputs": [
    {
     "data": {
      "text/html": [
       "<div>\n",
       "<style scoped>\n",
       "    .dataframe tbody tr th:only-of-type {\n",
       "        vertical-align: middle;\n",
       "    }\n",
       "\n",
       "    .dataframe tbody tr th {\n",
       "        vertical-align: top;\n",
       "    }\n",
       "\n",
       "    .dataframe thead th {\n",
       "        text-align: right;\n",
       "    }\n",
       "</style>\n",
       "<table border=\"1\" class=\"dataframe\">\n",
       "  <thead>\n",
       "    <tr style=\"text-align: right;\">\n",
       "      <th></th>\n",
       "      <th>SecuritiesCode</th>\n",
       "      <th>close_adj</th>\n",
       "    </tr>\n",
       "    <tr>\n",
       "      <th>Date</th>\n",
       "      <th></th>\n",
       "      <th></th>\n",
       "    </tr>\n",
       "  </thead>\n",
       "  <tbody>\n",
       "    <tr>\n",
       "      <th>2017-01-04</th>\n",
       "      <td>1301</td>\n",
       "      <td>2742.0</td>\n",
       "    </tr>\n",
       "    <tr>\n",
       "      <th>2017-01-04</th>\n",
       "      <td>1332</td>\n",
       "      <td>571.0</td>\n",
       "    </tr>\n",
       "    <tr>\n",
       "      <th>2017-01-04</th>\n",
       "      <td>1333</td>\n",
       "      <td>3210.0</td>\n",
       "    </tr>\n",
       "    <tr>\n",
       "      <th>2017-01-04</th>\n",
       "      <td>1376</td>\n",
       "      <td>1550.0</td>\n",
       "    </tr>\n",
       "    <tr>\n",
       "      <th>2017-01-04</th>\n",
       "      <td>1377</td>\n",
       "      <td>3330.0</td>\n",
       "    </tr>\n",
       "    <tr>\n",
       "      <th>...</th>\n",
       "      <td>...</td>\n",
       "      <td>...</td>\n",
       "    </tr>\n",
       "    <tr>\n",
       "      <th>2021-12-03</th>\n",
       "      <td>9990</td>\n",
       "      <td>528.0</td>\n",
       "    </tr>\n",
       "    <tr>\n",
       "      <th>2021-12-03</th>\n",
       "      <td>9991</td>\n",
       "      <td>794.0</td>\n",
       "    </tr>\n",
       "    <tr>\n",
       "      <th>2021-12-03</th>\n",
       "      <td>9993</td>\n",
       "      <td>1645.0</td>\n",
       "    </tr>\n",
       "    <tr>\n",
       "      <th>2021-12-03</th>\n",
       "      <td>9994</td>\n",
       "      <td>2389.0</td>\n",
       "    </tr>\n",
       "    <tr>\n",
       "      <th>2021-12-03</th>\n",
       "      <td>9997</td>\n",
       "      <td>696.0</td>\n",
       "    </tr>\n",
       "  </tbody>\n",
       "</table>\n",
       "<p>2332531 rows × 2 columns</p>\n",
       "</div>"
      ],
      "text/plain": [
       "            SecuritiesCode  close_adj\n",
       "Date                                 \n",
       "2017-01-04            1301     2742.0\n",
       "2017-01-04            1332      571.0\n",
       "2017-01-04            1333     3210.0\n",
       "2017-01-04            1376     1550.0\n",
       "2017-01-04            1377     3330.0\n",
       "...                    ...        ...\n",
       "2021-12-03            9990      528.0\n",
       "2021-12-03            9991      794.0\n",
       "2021-12-03            9993     1645.0\n",
       "2021-12-03            9994     2389.0\n",
       "2021-12-03            9997      696.0\n",
       "\n",
       "[2332531 rows x 2 columns]"
      ]
     },
     "execution_count": 58,
     "metadata": {},
     "output_type": "execute_result"
    }
   ],
   "source": [
    "df.drop(columns=['Close','AdjustmentFactor'],inplace=True)\n",
    "df"
   ]
  },
  {
   "cell_type": "markdown",
   "metadata": {
    "id": "rD4I-Y0TVJDV"
   },
   "source": [
    "Before we select the stocks to use, we cannot forget about the missing values. There are still 7608 missing entries for `[Open, High, Low, Close]`. Looking back at the matrix of missing values, we can observe that the missing values all occur on the same two instances. Based on this information, we can conclude that there must have been two separate instances in which the stock market failed to report the prices. Considering it does not make sense to impute prices for the analysis, we will drop the NaN values."
   ]
  },
  {
   "cell_type": "code",
   "execution_count": 59,
   "metadata": {
    "id": "Dt2qWnMrXZsk"
   },
   "outputs": [
    {
     "data": {
      "text/plain": [
       "SecuritiesCode    0\n",
       "close_adj         0\n",
       "dtype: int64"
      ]
     },
     "execution_count": 59,
     "metadata": {},
     "output_type": "execute_result"
    }
   ],
   "source": [
    "df.dropna(inplace=True)\n",
    "df.isnull().sum()"
   ]
  },
  {
   "cell_type": "markdown",
   "metadata": {},
   "source": [
    "Now we need to select the stocks to use in our analysis. We decided to choose stocks that reflect different behaviors (bull, bear, neutral). A \"bullish\" stock is one that experiences a prolonged period of rising stock prices (typically 20% or more over at least 2 months). A \"bearish\" stock is one that performs the opposite. A \"neutral\" or \"sideways\" stock is one whos prices appear to settle at a mean over a prolonged period of time.\n",
    "\n",
    "Based on these criteria, we decided to use the securities: `[7309,7287,7282]`."
   ]
  },
  {
   "cell_type": "code",
   "execution_count": 60,
   "metadata": {},
   "outputs": [],
   "source": [
    "sample_stocks = [7309, 7287, 7282]"
   ]
  },
  {
   "cell_type": "markdown",
   "metadata": {},
   "source": [
    "Now that we have chosen the stocks to predict on, we can start on some preliminary data analysis. To start, we will plot the close adjusted price over time for each of the stocks chosen to observe any obvious patterns."
   ]
  },
  {
   "cell_type": "code",
   "execution_count": 61,
   "metadata": {},
   "outputs": [
    {
     "data": {
      "image/png": "[encoded data removed]",
      "text/plain": [
       "<Figure size 432x288 with 1 Axes>"
      ]
     },
     "metadata": {
      "needs_background": "light"
     },
     "output_type": "display_data"
    },
    {
     "data": {
      "image/png": "[encoded data removed]",
      "text/plain": [
       "<Figure size 432x288 with 1 Axes>"
      ]
     },
     "metadata": {
      "needs_background": "light"
     },
     "output_type": "display_data"
    },
    {
     "data": {
      "image/png": "[encoded data removed]",
      "text/plain": [
       "<Figure size 432x288 with 1 Axes>"
      ]
     },
     "metadata": {
      "needs_background": "light"
     },
     "output_type": "display_data"
    }
   ],
   "source": [
    "for sample_stock in sample_stocks:\n",
    "    df[df[\"SecuritiesCode\"] == sample_stock][\"close_adj\"].plot()\n",
    "    plt.ylabel(\"Price\")\n",
    "    plt.xlabel(\"Date\")\n",
    "    plt.title(\"Adjusted Close Price of Stock {}\".format(sample_stock))\n",
    "    plt.show()"
   ]
  },
  {
   "cell_type": "markdown",
   "metadata": {},
   "source": [
    "The stocks chosen appear to respectively reflect the different trends defined above. However, to use the SARIMAX model, the data must be stationary. To test stationarity, we will use the adfuller test to calculate the p-value of each stock against a threshold of p=0.05"
   ]
  },
  {
   "cell_type": "code",
   "execution_count": 62,
   "metadata": {},
   "outputs": [
    {
     "name": "stdout",
     "output_type": "stream",
     "text": [
      "p-value for stock 7309: 0.9753507669820672\n",
      "\n",
      "p-value for stock 7287: 0.5279018137455542\n",
      "\n",
      "p-value for stock 7282: 0.08785546983486275\n",
      "\n"
     ]
    }
   ],
   "source": [
    "from statsmodels.tsa.stattools import adfuller\n",
    "for sample_stock in sample_stocks:\n",
    "      result = adfuller(df[(df[\"SecuritiesCode\"] == sample_stock)][\"close_adj\"])\n",
    "      print(\"p-value for stock {}: {}\\n\".format(sample_stock,result[1])) \n",
    "\n",
    "        \n"
   ]
  },
  {
   "cell_type": "markdown",
   "metadata": {},
   "source": [
    "The null hypothesis for the Augmented Dickey-Fuller test is that the data is non-stationary. Since the p-values for each stock chosen is above the threshold of 0.05, we are unable to reject the null hypothesis. This indicates that we need to modify the data to make it stationary. In this case, we take the first difference of the data and run the adfuller test again. "
   ]
  },
  {
   "cell_type": "code",
   "execution_count": 63,
   "metadata": {},
   "outputs": [
    {
     "name": "stdout",
     "output_type": "stream",
     "text": [
      "ADF statistic of first diff of stock 7309 -35.20846444911144\n",
      "p-value for first diff of stock 7309 0.0\n"
     ]
    },
    {
     "data": {
      "image/png": "[encoded data removed]",
      "text/plain": [
       "<Figure size 432x288 with 1 Axes>"
      ]
     },
     "metadata": {
      "needs_background": "light"
     },
     "output_type": "display_data"
    },
    {
     "name": "stdout",
     "output_type": "stream",
     "text": [
      "ADF statistic of first diff of stock 7287 -35.73564949218955\n",
      "p-value for first diff of stock 7287 0.0\n"
     ]
    },
    {
     "data": {
      "image/png": "[encoded data removed]",
      "text/plain": [
       "<Figure size 432x288 with 1 Axes>"
      ]
     },
     "metadata": {
      "needs_background": "light"
     },
     "output_type": "display_data"
    },
    {
     "name": "stdout",
     "output_type": "stream",
     "text": [
      "ADF statistic of first diff of stock 7282 -34.43174345364977\n",
      "p-value for first diff of stock 7282 0.0\n"
     ]
    },
    {
     "data": {
      "image/png": "[encoded data removed]",
      "text/plain": [
       "<Figure size 432x288 with 1 Axes>"
      ]
     },
     "metadata": {
      "needs_background": "light"
     },
     "output_type": "display_data"
    }
   ],
   "source": [
    "#First Diff\n",
    "for sample_stock in sample_stocks:\n",
    "\n",
    "    df_sample = df[(df[\"SecuritiesCode\"] == sample_stock)][\"close_adj\"].diff().dropna()\n",
    "    result = adfuller(df_sample)\n",
    "    print(\"ADF statistic of first diff of stock {}\".format(sample_stock), result[0])\n",
    "    print(\"p-value for first diff of stock {}\".format(sample_stock), result[1])\n",
    "    df_sample.plot()\n",
    "    plt.title(\"First diff of stock {}\".format(sample_stock))\n",
    "    plt.ylabel(\"Diff\")\n",
    "    plt.xlabel(\"Date\")\n",
    "    plt.show()"
   ]
  },
  {
   "cell_type": "markdown",
   "metadata": {},
   "source": [
    "Running the adfuller test against the first difference, we get a p-value of 0.0 for each stock with a test statistic ~-35.\n",
    "The low p-value indicates that we are able to reject the null hypothesis that the data is non-stationary, meaning we can use\n",
    "the first difference to make our data stationary. "
   ]
  },
  {
   "cell_type": "code",
   "execution_count": 64,
   "metadata": {},
   "outputs": [],
   "source": [
    "df_7309 = df[(df[\"SecuritiesCode\"] == 7309)][\"close_adj\"]\n",
    "df_7287 = df[(df[\"SecuritiesCode\"] == 7287)][\"close_adj\"]\n",
    "df_7282 = df[(df[\"SecuritiesCode\"] == 7282)][\"close_adj\"]"
   ]
  },
  {
   "cell_type": "markdown",
   "metadata": {},
   "source": [
    "Figuring out hyperparams and how many times to take diff\n",
    "\n",
    "Remember: SARIMAX will be set to have an order (p,1,q). We should leave the differencing to the model."
   ]
  },
  {
   "cell_type": "code",
   "execution_count": 65,
   "metadata": {},
   "outputs": [
    {
     "data": {
      "image/png": "[encoded data removed]",
      "text/plain": [
       "<Figure size 576x576 with 2 Axes>"
      ]
     },
     "metadata": {
      "needs_background": "light"
     },
     "output_type": "display_data"
    }
   ],
   "source": [
    "from statsmodels.graphics.tsaplots import plot_acf, plot_pacf\n",
    "\n",
    "fig, (ax1,ax2) = plt.subplots(2,1,figsize=(8,8))\n",
    "\n",
    "plot_acf(df_7309,lags=20,ax=ax1)\n",
    "\n",
    "plot_pacf(df_7309,lags=20,ax=ax2,method='ywm')\n",
    "\n",
    "plt.show()"
   ]
  },
  {
   "cell_type": "markdown",
   "metadata": {},
   "source": [
    "Before we run SARIMAX, we'll create a function to perform the gridsearch using various p, q values to find the optimal (p,0,q) for our SARIMAX model. \n",
    "\n",
    "* p -- AR (Auto Regressive) order\n",
    "* q -- MA (Moving Average) order"
   ]
  },
  {
   "cell_type": "code",
   "execution_count": 66,
   "metadata": {},
   "outputs": [],
   "source": [
    "def simulate_sarimax(n_p, n_q, df):\n",
    "    #return dictionary\n",
    "    aic_bic = []\n",
    "    #simulating 0...n_p for p, 0...n_q for q\n",
    "    for p in range(n_p):\n",
    "        for q in range(n_q):\n",
    "            try:\n",
    "                model = SARIMAX(df, order = (p,1,q), trend='c')\n",
    "                results = model.fit(method=\"powell\")\n",
    "                aic_bic.append((p,q,results.aic,results.bic))\n",
    "            except:\n",
    "                aic_bic.append((p, q,None,None))\n",
    "\n",
    "    return_df = pd.DataFrame(aic_bic, columns=['p','q','AIC','BIC'])\n",
    "    \n",
    "    return return_df"
   ]
  },
  {
   "cell_type": "code",
   "execution_count": 67,
   "metadata": {},
   "outputs": [],
   "source": [
    "#get the best (p,q) based on AIC and BIC -- based on smallest AIC/BIC values\n",
    "def grid_search(df):\n",
    "    print(df.sort_values(\"AIC\"))\n",
    "    print(df.sort_values(\"BIC\"))\n",
    "    \n",
    "    #return best_aic, best_bic"
   ]
  },
  {
   "cell_type": "markdown",
   "metadata": {},
   "source": [
    "Simulate Sarimax for company code 7309"
   ]
  },
  {
   "cell_type": "code",
   "execution_count": 68,
   "metadata": {
    "scrolled": false
   },
   "outputs": [
    {
     "name": "stdout",
     "output_type": "stream",
     "text": [
      "Optimization terminated successfully.\n",
      "         Current function value: 7.294178\n",
      "         Iterations: 1\n",
      "         Function evaluations: 38\n",
      "Optimization terminated successfully.\n",
      "         Current function value: 7.294041\n",
      "         Iterations: 1\n",
      "         Function evaluations: 30\n",
      "Optimization terminated successfully.\n",
      "         Current function value: 7.293561\n",
      "         Iterations: 1\n",
      "         Function evaluations: 40\n",
      "Optimization terminated successfully.\n",
      "         Current function value: 7.292947\n",
      "         Iterations: 1\n",
      "         Function evaluations: 49\n",
      "Optimization terminated successfully.\n",
      "         Current function value: 7.291881\n",
      "         Iterations: 1\n",
      "         Function evaluations: 59\n",
      "Optimization terminated successfully.\n",
      "         Current function value: 7.291608\n",
      "         Iterations: 1\n",
      "         Function evaluations: 72\n",
      "Optimization terminated successfully.\n",
      "         Current function value: 7.291235\n",
      "         Iterations: 1\n",
      "         Function evaluations: 81\n",
      "Optimization terminated successfully.\n",
      "         Current function value: 7.291206\n",
      "         Iterations: 1\n",
      "         Function evaluations: 92\n",
      "Optimization terminated successfully.\n",
      "         Current function value: 7.289506\n",
      "         Iterations: 1\n",
      "         Function evaluations: 104\n",
      "Optimization terminated successfully.\n",
      "         Current function value: 7.287902\n",
      "         Iterations: 1\n",
      "         Function evaluations: 116\n",
      "Optimization terminated successfully.\n",
      "         Current function value: 7.287751\n",
      "         Iterations: 1\n",
      "         Function evaluations: 124\n",
      "Optimization terminated successfully.\n",
      "         Current function value: 7.294049\n",
      "         Iterations: 1\n",
      "         Function evaluations: 30\n",
      "Optimization terminated successfully.\n",
      "         Current function value: 7.294171\n",
      "         Iterations: 1\n",
      "         Function evaluations: 45\n",
      "Optimization terminated successfully.\n",
      "         Current function value: 7.292791\n",
      "         Iterations: 1\n",
      "         Function evaluations: 53\n",
      "Optimization terminated successfully.\n",
      "         Current function value: 7.292276\n",
      "         Iterations: 1\n",
      "         Function evaluations: 66\n",
      "Optimization terminated successfully.\n",
      "         Current function value: 7.292496\n",
      "         Iterations: 2\n",
      "         Function evaluations: 155\n",
      "Optimization terminated successfully.\n",
      "         Current function value: 7.291649\n",
      "         Iterations: 2\n",
      "         Function evaluations: 178\n",
      "Optimization terminated successfully.\n",
      "         Current function value: 7.291506\n",
      "         Iterations: 1\n",
      "         Function evaluations: 97\n",
      "Optimization terminated successfully.\n",
      "         Current function value: 7.291026\n",
      "         Iterations: 1\n",
      "         Function evaluations: 106\n",
      "Optimization terminated successfully.\n",
      "         Current function value: 7.288959\n",
      "         Iterations: 1\n",
      "         Function evaluations: 114\n",
      "Optimization terminated successfully.\n",
      "         Current function value: 7.288080\n",
      "         Iterations: 1\n",
      "         Function evaluations: 123\n",
      "Optimization terminated successfully.\n",
      "         Current function value: 7.287518\n",
      "         Iterations: 1\n",
      "         Function evaluations: 137\n",
      "Optimization terminated successfully.\n",
      "         Current function value: 7.293572\n",
      "         Iterations: 1\n",
      "         Function evaluations: 41\n",
      "Optimization terminated successfully.\n",
      "         Current function value: 7.292936\n",
      "         Iterations: 2\n",
      "         Function evaluations: 116\n",
      "Optimization terminated successfully.\n",
      "         Current function value: 7.292047\n",
      "         Iterations: 1\n",
      "         Function evaluations: 68\n",
      "Optimization terminated successfully.\n",
      "         Current function value: 7.292140\n",
      "         Iterations: 1\n",
      "         Function evaluations: 78\n",
      "Optimization terminated successfully.\n",
      "         Current function value: 7.292531\n",
      "         Iterations: 1\n",
      "         Function evaluations: 88\n",
      "Optimization terminated successfully.\n",
      "         Current function value: 7.289579\n",
      "         Iterations: 2\n",
      "         Function evaluations: 201\n",
      "Optimization terminated successfully.\n",
      "         Current function value: 7.288792\n",
      "         Iterations: 1\n",
      "         Function evaluations: 109\n",
      "Optimization terminated successfully.\n",
      "         Current function value: 7.289933\n",
      "         Iterations: 1\n",
      "         Function evaluations: 118\n",
      "Optimization terminated successfully.\n",
      "         Current function value: 7.288942\n",
      "         Iterations: 1\n",
      "         Function evaluations: 127\n",
      "Optimization terminated successfully.\n",
      "         Current function value: 7.287758\n",
      "         Iterations: 1\n",
      "         Function evaluations: 139\n",
      "Optimization terminated successfully.\n",
      "         Current function value: 7.286584\n",
      "         Iterations: 1\n",
      "         Function evaluations: 152\n",
      "Optimization terminated successfully.\n",
      "         Current function value: 7.292978\n",
      "         Iterations: 1\n",
      "         Function evaluations: 53\n",
      "Optimization terminated successfully.\n",
      "         Current function value: 7.292989\n",
      "         Iterations: 1\n",
      "         Function evaluations: 62\n",
      "Optimization terminated successfully.\n",
      "         Current function value: 7.292154\n",
      "         Iterations: 1\n",
      "         Function evaluations: 80\n",
      "Optimization terminated successfully.\n",
      "         Current function value: 7.291681\n",
      "         Iterations: 2\n",
      "         Function evaluations: 188\n"
     ]
    },
    {
     "name": "stderr",
     "output_type": "stream",
     "text": [
      "C:\\Users\\leeke\\anaconda3\\envs\\introds\\lib\\site-packages\\statsmodels\\tsa\\statespace\\sarimax.py:966: UserWarning: Non-stationary starting autoregressive parameters found. Using zeros as starting parameters.\n",
      "  warn('Non-stationary starting autoregressive parameters'\n",
      "C:\\Users\\leeke\\anaconda3\\envs\\introds\\lib\\site-packages\\statsmodels\\tsa\\statespace\\sarimax.py:978: UserWarning: Non-invertible starting MA parameters found. Using zeros as starting parameters.\n",
      "  warn('Non-invertible starting MA parameters found.'\n"
     ]
    },
    {
     "name": "stdout",
     "output_type": "stream",
     "text": [
      "Optimization terminated successfully.\n",
      "         Current function value: 7.291829\n",
      "         Iterations: 2\n",
      "         Function evaluations: 191\n"
     ]
    },
    {
     "name": "stderr",
     "output_type": "stream",
     "text": [
      "C:\\Users\\leeke\\anaconda3\\envs\\introds\\lib\\site-packages\\statsmodels\\tsa\\statespace\\sarimax.py:966: UserWarning: Non-stationary starting autoregressive parameters found. Using zeros as starting parameters.\n",
      "  warn('Non-stationary starting autoregressive parameters'\n"
     ]
    },
    {
     "name": "stdout",
     "output_type": "stream",
     "text": [
      "Optimization terminated successfully.\n",
      "         Current function value: 7.292315\n",
      "         Iterations: 2\n",
      "         Function evaluations: 230\n",
      "Optimization terminated successfully.\n",
      "         Current function value: 7.289059\n",
      "         Iterations: 1\n",
      "         Function evaluations: 126\n",
      "Optimization terminated successfully.\n",
      "         Current function value: 7.289568\n",
      "         Iterations: 1\n",
      "         Function evaluations: 129\n",
      "Optimization terminated successfully.\n",
      "         Current function value: 7.288940\n",
      "         Iterations: 1\n",
      "         Function evaluations: 140\n",
      "Optimization terminated successfully.\n",
      "         Current function value: 7.287745\n",
      "         Iterations: 1\n",
      "         Function evaluations: 150\n",
      "Optimization terminated successfully.\n",
      "         Current function value: 7.286665\n",
      "         Iterations: 1\n",
      "         Function evaluations: 162\n",
      "Optimization terminated successfully.\n",
      "         Current function value: 7.291888\n",
      "         Iterations: 1\n",
      "         Function evaluations: 63\n",
      "Optimization terminated successfully.\n",
      "         Current function value: 7.291896\n",
      "         Iterations: 1\n",
      "         Function evaluations: 72\n",
      "Optimization terminated successfully.\n",
      "         Current function value: 7.291711\n",
      "         Iterations: 1\n",
      "         Function evaluations: 91\n"
     ]
    },
    {
     "name": "stderr",
     "output_type": "stream",
     "text": [
      "C:\\Users\\leeke\\anaconda3\\envs\\introds\\lib\\site-packages\\statsmodels\\tsa\\statespace\\sarimax.py:966: UserWarning: Non-stationary starting autoregressive parameters found. Using zeros as starting parameters.\n",
      "  warn('Non-stationary starting autoregressive parameters'\n",
      "C:\\Users\\leeke\\anaconda3\\envs\\introds\\lib\\site-packages\\statsmodels\\tsa\\statespace\\sarimax.py:978: UserWarning: Non-invertible starting MA parameters found. Using zeros as starting parameters.\n",
      "  warn('Non-invertible starting MA parameters found.'\n"
     ]
    },
    {
     "name": "stdout",
     "output_type": "stream",
     "text": [
      "Optimization terminated successfully.\n",
      "         Current function value: 7.291886\n",
      "         Iterations: 2\n",
      "         Function evaluations: 191\n"
     ]
    },
    {
     "name": "stderr",
     "output_type": "stream",
     "text": [
      "C:\\Users\\leeke\\anaconda3\\envs\\introds\\lib\\site-packages\\statsmodels\\tsa\\statespace\\sarimax.py:966: UserWarning: Non-stationary starting autoregressive parameters found. Using zeros as starting parameters.\n",
      "  warn('Non-stationary starting autoregressive parameters'\n",
      "C:\\Users\\leeke\\anaconda3\\envs\\introds\\lib\\site-packages\\statsmodels\\tsa\\statespace\\sarimax.py:978: UserWarning: Non-invertible starting MA parameters found. Using zeros as starting parameters.\n",
      "  warn('Non-invertible starting MA parameters found.'\n"
     ]
    },
    {
     "name": "stdout",
     "output_type": "stream",
     "text": [
      "Optimization terminated successfully.\n",
      "         Current function value: 7.291884\n",
      "         Iterations: 2\n",
      "         Function evaluations: 211\n"
     ]
    },
    {
     "name": "stderr",
     "output_type": "stream",
     "text": [
      "C:\\Users\\leeke\\anaconda3\\envs\\introds\\lib\\site-packages\\statsmodels\\tsa\\statespace\\sarimax.py:966: UserWarning: Non-stationary starting autoregressive parameters found. Using zeros as starting parameters.\n",
      "  warn('Non-stationary starting autoregressive parameters'\n"
     ]
    },
    {
     "name": "stdout",
     "output_type": "stream",
     "text": [
      "Optimization terminated successfully.\n",
      "         Current function value: 7.292313\n",
      "         Iterations: 2\n",
      "         Function evaluations: 263\n",
      "Optimization terminated successfully.\n",
      "         Current function value: 7.288803\n",
      "         Iterations: 2\n",
      "         Function evaluations: 270\n",
      "Optimization terminated successfully.\n",
      "         Current function value: 7.289467\n",
      "         Iterations: 2\n",
      "         Function evaluations: 289\n",
      "Optimization terminated successfully.\n",
      "         Current function value: 7.288893\n",
      "         Iterations: 2\n",
      "         Function evaluations: 311\n",
      "Optimization terminated successfully.\n",
      "         Current function value: 7.287206\n",
      "         Iterations: 2\n",
      "         Function evaluations: 336\n",
      "Optimization terminated successfully.\n",
      "         Current function value: 7.285991\n",
      "         Iterations: 1\n",
      "         Function evaluations: 179\n",
      "Optimization terminated successfully.\n",
      "         Current function value: 7.291570\n",
      "         Iterations: 1\n",
      "         Function evaluations: 73\n",
      "Optimization terminated successfully.\n",
      "         Current function value: 7.291565\n",
      "         Iterations: 1\n",
      "         Function evaluations: 84\n",
      "Optimization terminated successfully.\n",
      "         Current function value: 7.290973\n",
      "         Iterations: 1\n",
      "         Function evaluations: 101\n"
     ]
    },
    {
     "name": "stderr",
     "output_type": "stream",
     "text": [
      "C:\\Users\\leeke\\anaconda3\\envs\\introds\\lib\\site-packages\\statsmodels\\tsa\\statespace\\sarimax.py:966: UserWarning: Non-stationary starting autoregressive parameters found. Using zeros as starting parameters.\n",
      "  warn('Non-stationary starting autoregressive parameters'\n",
      "C:\\Users\\leeke\\anaconda3\\envs\\introds\\lib\\site-packages\\statsmodels\\tsa\\statespace\\sarimax.py:978: UserWarning: Non-invertible starting MA parameters found. Using zeros as starting parameters.\n",
      "  warn('Non-invertible starting MA parameters found.'\n"
     ]
    },
    {
     "name": "stdout",
     "output_type": "stream",
     "text": [
      "Optimization terminated successfully.\n",
      "         Current function value: 7.291567\n",
      "         Iterations: 2\n",
      "         Function evaluations: 211\n"
     ]
    },
    {
     "name": "stderr",
     "output_type": "stream",
     "text": [
      "C:\\Users\\leeke\\anaconda3\\envs\\introds\\lib\\site-packages\\statsmodels\\tsa\\statespace\\sarimax.py:966: UserWarning: Non-stationary starting autoregressive parameters found. Using zeros as starting parameters.\n",
      "  warn('Non-stationary starting autoregressive parameters'\n",
      "C:\\Users\\leeke\\anaconda3\\envs\\introds\\lib\\site-packages\\statsmodels\\tsa\\statespace\\sarimax.py:978: UserWarning: Non-invertible starting MA parameters found. Using zeros as starting parameters.\n",
      "  warn('Non-invertible starting MA parameters found.'\n"
     ]
    },
    {
     "name": "stdout",
     "output_type": "stream",
     "text": [
      "Optimization terminated successfully.\n",
      "         Current function value: 7.291567\n",
      "         Iterations: 2\n",
      "         Function evaluations: 232\n"
     ]
    },
    {
     "name": "stderr",
     "output_type": "stream",
     "text": [
      "C:\\Users\\leeke\\anaconda3\\envs\\introds\\lib\\site-packages\\statsmodels\\tsa\\statespace\\sarimax.py:966: UserWarning: Non-stationary starting autoregressive parameters found. Using zeros as starting parameters.\n",
      "  warn('Non-stationary starting autoregressive parameters'\n",
      "C:\\Users\\leeke\\anaconda3\\envs\\introds\\lib\\site-packages\\statsmodels\\tsa\\statespace\\sarimax.py:978: UserWarning: Non-invertible starting MA parameters found. Using zeros as starting parameters.\n",
      "  warn('Non-invertible starting MA parameters found.'\n"
     ]
    },
    {
     "name": "stdout",
     "output_type": "stream",
     "text": [
      "Optimization terminated successfully.\n",
      "         Current function value: 7.291567\n",
      "         Iterations: 2\n",
      "         Function evaluations: 254\n",
      "Optimization terminated successfully.\n",
      "         Current function value: 7.288562\n",
      "         Iterations: 2\n",
      "         Function evaluations: 305\n",
      "Optimization terminated successfully.\n",
      "         Current function value: 7.289475\n",
      "         Iterations: 2\n",
      "         Function evaluations: 312\n",
      "Optimization terminated successfully.\n",
      "         Current function value: 7.287332\n",
      "         Iterations: 2\n",
      "         Function evaluations: 337\n",
      "Optimization terminated successfully.\n",
      "         Current function value: 7.286975\n",
      "         Iterations: 2\n",
      "         Function evaluations: 356\n",
      "Optimization terminated successfully.\n",
      "         Current function value: 7.286218\n",
      "         Iterations: 1\n",
      "         Function evaluations: 189\n",
      "Optimization terminated successfully.\n",
      "         Current function value: 7.291210\n",
      "         Iterations: 1\n",
      "         Function evaluations: 84\n",
      "Optimization terminated successfully.\n",
      "         Current function value: 7.291211\n",
      "         Iterations: 1\n",
      "         Function evaluations: 96\n",
      "Optimization terminated successfully.\n",
      "         Current function value: 7.291238\n",
      "         Iterations: 1\n",
      "         Function evaluations: 105\n"
     ]
    },
    {
     "name": "stderr",
     "output_type": "stream",
     "text": [
      "C:\\Users\\leeke\\anaconda3\\envs\\introds\\lib\\site-packages\\statsmodels\\tsa\\statespace\\sarimax.py:966: UserWarning: Non-stationary starting autoregressive parameters found. Using zeros as starting parameters.\n",
      "  warn('Non-stationary starting autoregressive parameters'\n",
      "C:\\Users\\leeke\\anaconda3\\envs\\introds\\lib\\site-packages\\statsmodels\\tsa\\statespace\\sarimax.py:978: UserWarning: Non-invertible starting MA parameters found. Using zeros as starting parameters.\n",
      "  warn('Non-invertible starting MA parameters found.'\n"
     ]
    },
    {
     "name": "stdout",
     "output_type": "stream",
     "text": [
      "Optimization terminated successfully.\n",
      "         Current function value: 7.291197\n",
      "         Iterations: 2\n",
      "         Function evaluations: 234\n"
     ]
    },
    {
     "name": "stderr",
     "output_type": "stream",
     "text": [
      "C:\\Users\\leeke\\anaconda3\\envs\\introds\\lib\\site-packages\\statsmodels\\tsa\\statespace\\sarimax.py:966: UserWarning: Non-stationary starting autoregressive parameters found. Using zeros as starting parameters.\n",
      "  warn('Non-stationary starting autoregressive parameters'\n",
      "C:\\Users\\leeke\\anaconda3\\envs\\introds\\lib\\site-packages\\statsmodels\\tsa\\statespace\\sarimax.py:978: UserWarning: Non-invertible starting MA parameters found. Using zeros as starting parameters.\n",
      "  warn('Non-invertible starting MA parameters found.'\n"
     ]
    },
    {
     "name": "stdout",
     "output_type": "stream",
     "text": [
      "Optimization terminated successfully.\n",
      "         Current function value: 7.291197\n",
      "         Iterations: 2\n",
      "         Function evaluations: 256\n"
     ]
    },
    {
     "name": "stderr",
     "output_type": "stream",
     "text": [
      "C:\\Users\\leeke\\anaconda3\\envs\\introds\\lib\\site-packages\\statsmodels\\tsa\\statespace\\sarimax.py:966: UserWarning: Non-stationary starting autoregressive parameters found. Using zeros as starting parameters.\n",
      "  warn('Non-stationary starting autoregressive parameters'\n",
      "C:\\Users\\leeke\\anaconda3\\envs\\introds\\lib\\site-packages\\statsmodels\\tsa\\statespace\\sarimax.py:978: UserWarning: Non-invertible starting MA parameters found. Using zeros as starting parameters.\n",
      "  warn('Non-invertible starting MA parameters found.'\n"
     ]
    },
    {
     "name": "stdout",
     "output_type": "stream",
     "text": [
      "Optimization terminated successfully.\n",
      "         Current function value: 7.291194\n",
      "         Iterations: 2\n",
      "         Function evaluations: 276\n",
      "Optimization terminated successfully.\n",
      "         Current function value: 7.288502\n",
      "         Iterations: 2\n",
      "         Function evaluations: 324\n",
      "Optimization terminated successfully.\n",
      "         Current function value: 7.289763\n",
      "         Iterations: 2\n",
      "         Function evaluations: 334\n",
      "Optimization terminated successfully.\n",
      "         Current function value: 7.286564\n",
      "         Iterations: 2\n",
      "         Function evaluations: 364\n",
      "Optimization terminated successfully.\n",
      "         Current function value: 7.286934\n",
      "         Iterations: 2\n",
      "         Function evaluations: 379\n",
      "Optimization terminated successfully.\n",
      "         Current function value: 7.285553\n",
      "         Iterations: 1\n",
      "         Function evaluations: 204\n",
      "Optimization terminated successfully.\n",
      "         Current function value: 7.291201\n",
      "         Iterations: 1\n",
      "         Function evaluations: 98\n",
      "Optimization terminated successfully.\n",
      "         Current function value: 7.291199\n",
      "         Iterations: 1\n",
      "         Function evaluations: 108\n",
      "Optimization terminated successfully.\n",
      "         Current function value: 7.291219\n",
      "         Iterations: 1\n",
      "         Function evaluations: 118\n"
     ]
    },
    {
     "name": "stderr",
     "output_type": "stream",
     "text": [
      "C:\\Users\\leeke\\anaconda3\\envs\\introds\\lib\\site-packages\\statsmodels\\tsa\\statespace\\sarimax.py:966: UserWarning: Non-stationary starting autoregressive parameters found. Using zeros as starting parameters.\n",
      "  warn('Non-stationary starting autoregressive parameters'\n",
      "C:\\Users\\leeke\\anaconda3\\envs\\introds\\lib\\site-packages\\statsmodels\\tsa\\statespace\\sarimax.py:978: UserWarning: Non-invertible starting MA parameters found. Using zeros as starting parameters.\n",
      "  warn('Non-invertible starting MA parameters found.'\n"
     ]
    },
    {
     "name": "stdout",
     "output_type": "stream",
     "text": [
      "Optimization terminated successfully.\n",
      "         Current function value: 7.291189\n",
      "         Iterations: 2\n",
      "         Function evaluations: 257\n"
     ]
    },
    {
     "name": "stderr",
     "output_type": "stream",
     "text": [
      "C:\\Users\\leeke\\anaconda3\\envs\\introds\\lib\\site-packages\\statsmodels\\tsa\\statespace\\sarimax.py:966: UserWarning: Non-stationary starting autoregressive parameters found. Using zeros as starting parameters.\n",
      "  warn('Non-stationary starting autoregressive parameters'\n",
      "C:\\Users\\leeke\\anaconda3\\envs\\introds\\lib\\site-packages\\statsmodels\\tsa\\statespace\\sarimax.py:978: UserWarning: Non-invertible starting MA parameters found. Using zeros as starting parameters.\n",
      "  warn('Non-invertible starting MA parameters found.'\n"
     ]
    },
    {
     "name": "stdout",
     "output_type": "stream",
     "text": [
      "Optimization terminated successfully.\n",
      "         Current function value: 7.291189\n",
      "         Iterations: 2\n",
      "         Function evaluations: 280\n"
     ]
    },
    {
     "name": "stderr",
     "output_type": "stream",
     "text": [
      "C:\\Users\\leeke\\anaconda3\\envs\\introds\\lib\\site-packages\\statsmodels\\tsa\\statespace\\sarimax.py:966: UserWarning: Non-stationary starting autoregressive parameters found. Using zeros as starting parameters.\n",
      "  warn('Non-stationary starting autoregressive parameters'\n",
      "C:\\Users\\leeke\\anaconda3\\envs\\introds\\lib\\site-packages\\statsmodels\\tsa\\statespace\\sarimax.py:978: UserWarning: Non-invertible starting MA parameters found. Using zeros as starting parameters.\n",
      "  warn('Non-invertible starting MA parameters found.'\n"
     ]
    },
    {
     "name": "stdout",
     "output_type": "stream",
     "text": [
      "Optimization terminated successfully.\n",
      "         Current function value: 7.291186\n",
      "         Iterations: 2\n",
      "         Function evaluations: 299\n",
      "Optimization terminated successfully.\n",
      "         Current function value: 7.288760\n",
      "         Iterations: 2\n",
      "         Function evaluations: 342\n",
      "Optimization terminated successfully.\n",
      "         Current function value: 7.289779\n",
      "         Iterations: 2\n",
      "         Function evaluations: 353\n",
      "Optimization terminated successfully.\n",
      "         Current function value: 7.286095\n",
      "         Iterations: 2\n",
      "         Function evaluations: 388\n",
      "Optimization terminated successfully.\n",
      "         Current function value: 7.285980\n",
      "         Iterations: 2\n",
      "         Function evaluations: 405\n",
      "Optimization terminated successfully.\n",
      "         Current function value: 7.285736\n",
      "         Iterations: 1\n",
      "         Function evaluations: 216\n",
      "Optimization terminated successfully.\n",
      "         Current function value: 7.289857\n",
      "         Iterations: 1\n",
      "         Function evaluations: 108\n",
      "Optimization terminated successfully.\n",
      "         Current function value: 7.289832\n",
      "         Iterations: 1\n",
      "         Function evaluations: 118\n",
      "Optimization terminated successfully.\n",
      "         Current function value: 7.289810\n",
      "         Iterations: 1\n",
      "         Function evaluations: 129\n"
     ]
    },
    {
     "name": "stderr",
     "output_type": "stream",
     "text": [
      "C:\\Users\\leeke\\anaconda3\\envs\\introds\\lib\\site-packages\\statsmodels\\tsa\\statespace\\sarimax.py:966: UserWarning: Non-stationary starting autoregressive parameters found. Using zeros as starting parameters.\n",
      "  warn('Non-stationary starting autoregressive parameters'\n",
      "C:\\Users\\leeke\\anaconda3\\envs\\introds\\lib\\site-packages\\statsmodels\\tsa\\statespace\\sarimax.py:978: UserWarning: Non-invertible starting MA parameters found. Using zeros as starting parameters.\n",
      "  warn('Non-invertible starting MA parameters found.'\n"
     ]
    },
    {
     "name": "stdout",
     "output_type": "stream",
     "text": [
      "Optimization terminated successfully.\n",
      "         Current function value: 7.289820\n",
      "         Iterations: 2\n",
      "         Function evaluations: 275\n"
     ]
    },
    {
     "name": "stderr",
     "output_type": "stream",
     "text": [
      "C:\\Users\\leeke\\anaconda3\\envs\\introds\\lib\\site-packages\\statsmodels\\tsa\\statespace\\sarimax.py:966: UserWarning: Non-stationary starting autoregressive parameters found. Using zeros as starting parameters.\n",
      "  warn('Non-stationary starting autoregressive parameters'\n",
      "C:\\Users\\leeke\\anaconda3\\envs\\introds\\lib\\site-packages\\statsmodels\\tsa\\statespace\\sarimax.py:978: UserWarning: Non-invertible starting MA parameters found. Using zeros as starting parameters.\n",
      "  warn('Non-invertible starting MA parameters found.'\n"
     ]
    },
    {
     "name": "stdout",
     "output_type": "stream",
     "text": [
      "Optimization terminated successfully.\n",
      "         Current function value: 7.289809\n",
      "         Iterations: 2\n",
      "         Function evaluations: 295\n"
     ]
    },
    {
     "name": "stderr",
     "output_type": "stream",
     "text": [
      "C:\\Users\\leeke\\anaconda3\\envs\\introds\\lib\\site-packages\\statsmodels\\tsa\\statespace\\sarimax.py:966: UserWarning: Non-stationary starting autoregressive parameters found. Using zeros as starting parameters.\n",
      "  warn('Non-stationary starting autoregressive parameters'\n",
      "C:\\Users\\leeke\\anaconda3\\envs\\introds\\lib\\site-packages\\statsmodels\\tsa\\statespace\\sarimax.py:978: UserWarning: Non-invertible starting MA parameters found. Using zeros as starting parameters.\n",
      "  warn('Non-invertible starting MA parameters found.'\n"
     ]
    },
    {
     "name": "stdout",
     "output_type": "stream",
     "text": [
      "Optimization terminated successfully.\n",
      "         Current function value: 7.289783\n",
      "         Iterations: 2\n",
      "         Function evaluations: 316\n",
      "Optimization terminated successfully.\n",
      "         Current function value: 7.287203\n",
      "         Iterations: 1\n",
      "         Function evaluations: 184\n",
      "Optimization terminated successfully.\n",
      "         Current function value: 7.286277\n",
      "         Iterations: 2\n",
      "         Function evaluations: 394\n",
      "Optimization terminated successfully.\n",
      "         Current function value: 7.287021\n",
      "         Iterations: 1\n",
      "         Function evaluations: 214\n",
      "Optimization terminated successfully.\n",
      "         Current function value: 7.285382\n",
      "         Iterations: 1\n",
      "         Function evaluations: 212\n",
      "Optimization terminated successfully.\n",
      "         Current function value: 7.285812\n",
      "         Iterations: 1\n",
      "         Function evaluations: 232\n",
      "Optimization terminated successfully.\n",
      "         Current function value: 7.288212\n",
      "         Iterations: 1\n",
      "         Function evaluations: 119\n",
      "Optimization terminated successfully.\n",
      "         Current function value: 7.288200\n",
      "         Iterations: 1\n",
      "         Function evaluations: 129\n",
      "Optimization terminated successfully.\n",
      "         Current function value: 7.288228\n",
      "         Iterations: 1\n",
      "         Function evaluations: 139\n",
      "Optimization terminated successfully.\n",
      "         Current function value: 7.288169\n",
      "         Iterations: 1\n",
      "         Function evaluations: 149\n"
     ]
    },
    {
     "name": "stderr",
     "output_type": "stream",
     "text": [
      "C:\\Users\\leeke\\anaconda3\\envs\\introds\\lib\\site-packages\\statsmodels\\tsa\\statespace\\sarimax.py:966: UserWarning: Non-stationary starting autoregressive parameters found. Using zeros as starting parameters.\n",
      "  warn('Non-stationary starting autoregressive parameters'\n",
      "C:\\Users\\leeke\\anaconda3\\envs\\introds\\lib\\site-packages\\statsmodels\\tsa\\statespace\\sarimax.py:978: UserWarning: Non-invertible starting MA parameters found. Using zeros as starting parameters.\n",
      "  warn('Non-invertible starting MA parameters found.'\n"
     ]
    },
    {
     "name": "stdout",
     "output_type": "stream",
     "text": [
      "Optimization terminated successfully.\n",
      "         Current function value: 7.288193\n",
      "         Iterations: 2\n",
      "         Function evaluations: 315\n"
     ]
    },
    {
     "name": "stderr",
     "output_type": "stream",
     "text": [
      "C:\\Users\\leeke\\anaconda3\\envs\\introds\\lib\\site-packages\\statsmodels\\tsa\\statespace\\sarimax.py:966: UserWarning: Non-stationary starting autoregressive parameters found. Using zeros as starting parameters.\n",
      "  warn('Non-stationary starting autoregressive parameters'\n",
      "C:\\Users\\leeke\\anaconda3\\envs\\introds\\lib\\site-packages\\statsmodels\\tsa\\statespace\\sarimax.py:978: UserWarning: Non-invertible starting MA parameters found. Using zeros as starting parameters.\n",
      "  warn('Non-invertible starting MA parameters found.'\n"
     ]
    },
    {
     "name": "stdout",
     "output_type": "stream",
     "text": [
      "Optimization terminated successfully.\n",
      "         Current function value: 7.288193\n",
      "         Iterations: 2\n",
      "         Function evaluations: 337\n"
     ]
    },
    {
     "name": "stderr",
     "output_type": "stream",
     "text": [
      "C:\\Users\\leeke\\anaconda3\\envs\\introds\\lib\\site-packages\\statsmodels\\tsa\\statespace\\sarimax.py:966: UserWarning: Non-stationary starting autoregressive parameters found. Using zeros as starting parameters.\n",
      "  warn('Non-stationary starting autoregressive parameters'\n",
      "C:\\Users\\leeke\\anaconda3\\envs\\introds\\lib\\site-packages\\statsmodels\\tsa\\statespace\\sarimax.py:978: UserWarning: Non-invertible starting MA parameters found. Using zeros as starting parameters.\n",
      "  warn('Non-invertible starting MA parameters found.'\n"
     ]
    },
    {
     "name": "stdout",
     "output_type": "stream",
     "text": [
      "Optimization terminated successfully.\n",
      "         Current function value: 7.288187\n",
      "         Iterations: 2\n",
      "         Function evaluations: 358\n"
     ]
    },
    {
     "name": "stderr",
     "output_type": "stream",
     "text": [
      "C:\\Users\\leeke\\anaconda3\\envs\\introds\\lib\\site-packages\\statsmodels\\tsa\\statespace\\sarimax.py:966: UserWarning: Non-stationary starting autoregressive parameters found. Using zeros as starting parameters.\n",
      "  warn('Non-stationary starting autoregressive parameters'\n",
      "C:\\Users\\leeke\\anaconda3\\envs\\introds\\lib\\site-packages\\statsmodels\\tsa\\statespace\\sarimax.py:978: UserWarning: Non-invertible starting MA parameters found. Using zeros as starting parameters.\n",
      "  warn('Non-invertible starting MA parameters found.'\n"
     ]
    },
    {
     "name": "stdout",
     "output_type": "stream",
     "text": [
      "Optimization terminated successfully.\n",
      "         Current function value: 7.288184\n",
      "         Iterations: 2\n",
      "         Function evaluations: 379\n",
      "Optimization terminated successfully.\n",
      "         Current function value: 7.285206\n",
      "         Iterations: 1\n",
      "         Function evaluations: 223\n",
      "Optimization terminated successfully.\n",
      "         Current function value: 7.285381\n",
      "         Iterations: 2\n",
      "         Function evaluations: 460\n",
      "Optimization terminated successfully.\n",
      "         Current function value: 7.285920\n",
      "         Iterations: 1\n",
      "         Function evaluations: 239\n",
      "Optimization terminated successfully.\n",
      "         Current function value: 7.287908\n",
      "         Iterations: 1\n",
      "         Function evaluations: 129\n",
      "Optimization terminated successfully.\n",
      "         Current function value: 7.287918\n",
      "         Iterations: 1\n",
      "         Function evaluations: 139\n",
      "Optimization terminated successfully.\n",
      "         Current function value: 7.287963\n",
      "         Iterations: 1\n",
      "         Function evaluations: 148\n",
      "Optimization terminated successfully.\n",
      "         Current function value: 7.287915\n",
      "         Iterations: 1\n",
      "         Function evaluations: 160\n"
     ]
    },
    {
     "name": "stderr",
     "output_type": "stream",
     "text": [
      "C:\\Users\\leeke\\anaconda3\\envs\\introds\\lib\\site-packages\\statsmodels\\tsa\\statespace\\sarimax.py:966: UserWarning: Non-stationary starting autoregressive parameters found. Using zeros as starting parameters.\n",
      "  warn('Non-stationary starting autoregressive parameters'\n",
      "C:\\Users\\leeke\\anaconda3\\envs\\introds\\lib\\site-packages\\statsmodels\\tsa\\statespace\\sarimax.py:978: UserWarning: Non-invertible starting MA parameters found. Using zeros as starting parameters.\n",
      "  warn('Non-invertible starting MA parameters found.'\n"
     ]
    },
    {
     "name": "stdout",
     "output_type": "stream",
     "text": [
      "Optimization terminated successfully.\n",
      "         Current function value: 7.287882\n",
      "         Iterations: 2\n",
      "         Function evaluations: 338\n"
     ]
    },
    {
     "name": "stderr",
     "output_type": "stream",
     "text": [
      "C:\\Users\\leeke\\anaconda3\\envs\\introds\\lib\\site-packages\\statsmodels\\tsa\\statespace\\sarimax.py:966: UserWarning: Non-stationary starting autoregressive parameters found. Using zeros as starting parameters.\n",
      "  warn('Non-stationary starting autoregressive parameters'\n",
      "C:\\Users\\leeke\\anaconda3\\envs\\introds\\lib\\site-packages\\statsmodels\\tsa\\statespace\\sarimax.py:978: UserWarning: Non-invertible starting MA parameters found. Using zeros as starting parameters.\n",
      "  warn('Non-invertible starting MA parameters found.'\n"
     ]
    },
    {
     "name": "stdout",
     "output_type": "stream",
     "text": [
      "Optimization terminated successfully.\n",
      "         Current function value: 7.287880\n",
      "         Iterations: 2\n",
      "         Function evaluations: 359\n"
     ]
    },
    {
     "name": "stderr",
     "output_type": "stream",
     "text": [
      "C:\\Users\\leeke\\anaconda3\\envs\\introds\\lib\\site-packages\\statsmodels\\tsa\\statespace\\sarimax.py:966: UserWarning: Non-stationary starting autoregressive parameters found. Using zeros as starting parameters.\n",
      "  warn('Non-stationary starting autoregressive parameters'\n",
      "C:\\Users\\leeke\\anaconda3\\envs\\introds\\lib\\site-packages\\statsmodels\\tsa\\statespace\\sarimax.py:978: UserWarning: Non-invertible starting MA parameters found. Using zeros as starting parameters.\n",
      "  warn('Non-invertible starting MA parameters found.'\n"
     ]
    },
    {
     "name": "stdout",
     "output_type": "stream",
     "text": [
      "Optimization terminated successfully.\n",
      "         Current function value: 7.287878\n",
      "         Iterations: 2\n",
      "         Function evaluations: 380\n"
     ]
    },
    {
     "name": "stderr",
     "output_type": "stream",
     "text": [
      "C:\\Users\\leeke\\anaconda3\\envs\\introds\\lib\\site-packages\\statsmodels\\tsa\\statespace\\sarimax.py:966: UserWarning: Non-stationary starting autoregressive parameters found. Using zeros as starting parameters.\n",
      "  warn('Non-stationary starting autoregressive parameters'\n",
      "C:\\Users\\leeke\\anaconda3\\envs\\introds\\lib\\site-packages\\statsmodels\\tsa\\statespace\\sarimax.py:978: UserWarning: Non-invertible starting MA parameters found. Using zeros as starting parameters.\n",
      "  warn('Non-invertible starting MA parameters found.'\n"
     ]
    },
    {
     "name": "stdout",
     "output_type": "stream",
     "text": [
      "Optimization terminated successfully.\n",
      "         Current function value: 7.287878\n",
      "         Iterations: 2\n",
      "         Function evaluations: 399\n",
      "Optimization terminated successfully.\n",
      "         Current function value: 7.284743\n",
      "         Iterations: 2\n",
      "         Function evaluations: 465\n",
      "Optimization terminated successfully.\n",
      "         Current function value: 7.285368\n",
      "         Iterations: 2\n",
      "         Function evaluations: 470\n"
     ]
    },
    {
     "name": "stderr",
     "output_type": "stream",
     "text": [
      "C:\\Users\\leeke\\anaconda3\\envs\\introds\\lib\\site-packages\\statsmodels\\tsa\\statespace\\sarimax.py:966: UserWarning: Non-stationary starting autoregressive parameters found. Using zeros as starting parameters.\n",
      "  warn('Non-stationary starting autoregressive parameters'\n",
      "C:\\Users\\leeke\\anaconda3\\envs\\introds\\lib\\site-packages\\statsmodels\\tsa\\statespace\\sarimax.py:978: UserWarning: Non-invertible starting MA parameters found. Using zeros as starting parameters.\n",
      "  warn('Non-invertible starting MA parameters found.'\n"
     ]
    },
    {
     "name": "stdout",
     "output_type": "stream",
     "text": [
      "Optimization terminated successfully.\n",
      "         Current function value: 7.287841\n",
      "         Iterations: 2\n",
      "         Function evaluations: 460\n"
     ]
    }
   ],
   "source": [
    "res_7309 = simulate_sarimax(11,11,df_7309)"
   ]
  },
  {
   "cell_type": "markdown",
   "metadata": {},
   "source": [
    "Use the dataframe produced from varying p & q to find the hyper parameters that produced the lowest AIC and BIC"
   ]
  },
  {
   "cell_type": "code",
   "execution_count": 69,
   "metadata": {},
   "outputs": [
    {
     "name": "stdout",
     "output_type": "stream",
     "text": [
      "      p   q           AIC           BIC\n",
      "0     0   0  17524.614619  17534.794773\n",
      "1     0   1  17526.286959  17541.557190\n",
      "11    1   0  17526.306404  17541.576635\n",
      "4     0   4  17527.096991  17557.637452\n",
      "44    4   0  17527.115164  17557.655625\n",
      "..   ..  ..           ...           ...\n",
      "84    7   7  17542.048466  17623.489696\n",
      "106   9   7  17542.219079  17633.840462\n",
      "109   9  10  17542.779971  17649.671584\n",
      "117  10   7  17543.482513  17640.193973\n",
      "120  10  10  17549.393052  17661.374742\n",
      "\n",
      "[121 rows x 4 columns]\n",
      "      p   q           AIC           BIC\n",
      "0     0   0  17524.614619  17534.794773\n",
      "1     0   1  17526.286959  17541.557190\n",
      "11    1   0  17526.306404  17541.576635\n",
      "2     0   2  17527.133503  17547.493810\n",
      "22    2   0  17527.160502  17547.520809\n",
      "..   ..  ..           ...           ...\n",
      "108   9   9  17539.484448  17641.285984\n",
      "98    8  10  17540.521021  17642.322558\n",
      "119  10   9  17541.454353  17648.345967\n",
      "109   9  10  17542.779971  17649.671584\n",
      "120  10  10  17549.393052  17661.374742\n",
      "\n",
      "[121 rows x 4 columns]\n"
     ]
    }
   ],
   "source": [
    "grid_search(res_7309)\n",
    "#print(f\"best (p,q) for AIC: {aic_7309[aic_7309.index[0]]}, for BIC: {bic_7309[bic_7309.index[0]]}\")"
   ]
  },
  {
   "cell_type": "markdown",
   "metadata": {},
   "source": [
    "We can see that for company code 7309, the (p,q) pair that produced the lowest AIC and BIC was (0,0)"
   ]
  },
  {
   "cell_type": "markdown",
   "metadata": {},
   "source": [
    "Simulate SARIMAX for company code 7287"
   ]
  },
  {
   "cell_type": "code",
   "execution_count": 70,
   "metadata": {
    "scrolled": false
   },
   "outputs": [
    {
     "name": "stdout",
     "output_type": "stream",
     "text": [
      "Optimization terminated successfully.\n",
      "         Current function value: 5.020229\n",
      "         Iterations: 1\n",
      "         Function evaluations: 67\n",
      "Optimization terminated successfully.\n",
      "         Current function value: 5.019701\n",
      "         Iterations: 1\n",
      "         Function evaluations: 31\n",
      "Optimization terminated successfully.\n",
      "         Current function value: 5.019696\n",
      "         Iterations: 1\n",
      "         Function evaluations: 42\n",
      "Optimization terminated successfully.\n",
      "         Current function value: 5.018708\n",
      "         Iterations: 1\n",
      "         Function evaluations: 53\n",
      "Optimization terminated successfully.\n",
      "         Current function value: 5.018448\n",
      "         Iterations: 1\n",
      "         Function evaluations: 62\n",
      "Optimization terminated successfully.\n",
      "         Current function value: 5.018349\n",
      "         Iterations: 1\n",
      "         Function evaluations: 73\n",
      "Optimization terminated successfully.\n",
      "         Current function value: 5.018104\n",
      "         Iterations: 1\n",
      "         Function evaluations: 84\n",
      "Optimization terminated successfully.\n",
      "         Current function value: 5.016081\n",
      "         Iterations: 1\n",
      "         Function evaluations: 95\n",
      "Optimization terminated successfully.\n",
      "         Current function value: 5.015674\n",
      "         Iterations: 1\n",
      "         Function evaluations: 105\n",
      "Optimization terminated successfully.\n",
      "         Current function value: 5.014146\n",
      "         Iterations: 1\n",
      "         Function evaluations: 115\n",
      "Optimization terminated successfully.\n",
      "         Current function value: 5.013734\n",
      "         Iterations: 1\n",
      "         Function evaluations: 125\n",
      "Optimization terminated successfully.\n",
      "         Current function value: 5.019703\n",
      "         Iterations: 1\n",
      "         Function evaluations: 32\n",
      "Optimization terminated successfully.\n",
      "         Current function value: 5.019701\n",
      "         Iterations: 1\n",
      "         Function evaluations: 42\n",
      "Optimization terminated successfully.\n",
      "         Current function value: 5.019400\n",
      "         Iterations: 2\n",
      "         Function evaluations: 114\n",
      "Optimization terminated successfully.\n",
      "         Current function value: 5.015955\n",
      "         Iterations: 2\n",
      "         Function evaluations: 138\n",
      "Optimization terminated successfully.\n",
      "         Current function value: 5.018258\n",
      "         Iterations: 1\n",
      "         Function evaluations: 74\n",
      "Optimization terminated successfully.\n",
      "         Current function value: 5.018353\n",
      "         Iterations: 1\n",
      "         Function evaluations: 84\n",
      "Optimization terminated successfully.\n",
      "         Current function value: 5.018182\n",
      "         Iterations: 1\n",
      "         Function evaluations: 95\n",
      "Optimization terminated successfully.\n",
      "         Current function value: 5.016988\n",
      "         Iterations: 1\n",
      "         Function evaluations: 107\n",
      "Optimization terminated successfully.\n",
      "         Current function value: 5.013679\n",
      "         Iterations: 1\n",
      "         Function evaluations: 119\n",
      "Optimization terminated successfully.\n",
      "         Current function value: 5.013502\n",
      "         Iterations: 1\n",
      "         Function evaluations: 130\n",
      "Optimization terminated successfully.\n",
      "         Current function value: 5.013412\n",
      "         Iterations: 1\n",
      "         Function evaluations: 137\n",
      "Optimization terminated successfully.\n",
      "         Current function value: 5.019702\n",
      "         Iterations: 1\n",
      "         Function evaluations: 42\n"
     ]
    },
    {
     "name": "stderr",
     "output_type": "stream",
     "text": [
      "C:\\Users\\leeke\\anaconda3\\envs\\introds\\lib\\site-packages\\statsmodels\\tsa\\statespace\\sarimax.py:966: UserWarning: Non-stationary starting autoregressive parameters found. Using zeros as starting parameters.\n",
      "  warn('Non-stationary starting autoregressive parameters'\n",
      "C:\\Users\\leeke\\anaconda3\\envs\\introds\\lib\\site-packages\\statsmodels\\tsa\\statespace\\sarimax.py:978: UserWarning: Non-invertible starting MA parameters found. Using zeros as starting parameters.\n",
      "  warn('Non-invertible starting MA parameters found.'\n"
     ]
    },
    {
     "name": "stdout",
     "output_type": "stream",
     "text": [
      "Optimization terminated successfully.\n",
      "         Current function value: 5.019702\n",
      "         Iterations: 2\n",
      "         Function evaluations: 112\n",
      "Optimization terminated successfully.\n",
      "         Current function value: 5.016096\n",
      "         Iterations: 2\n",
      "         Function evaluations: 138\n"
     ]
    },
    {
     "name": "stderr",
     "output_type": "stream",
     "text": [
      "C:\\Users\\leeke\\anaconda3\\envs\\introds\\lib\\site-packages\\statsmodels\\tsa\\statespace\\sarimax.py:966: UserWarning: Non-stationary starting autoregressive parameters found. Using zeros as starting parameters.\n",
      "  warn('Non-stationary starting autoregressive parameters'\n",
      "C:\\Users\\leeke\\anaconda3\\envs\\introds\\lib\\site-packages\\statsmodels\\tsa\\statespace\\sarimax.py:978: UserWarning: Non-invertible starting MA parameters found. Using zeros as starting parameters.\n",
      "  warn('Non-invertible starting MA parameters found.'\n"
     ]
    },
    {
     "name": "stdout",
     "output_type": "stream",
     "text": [
      "Optimization terminated successfully.\n",
      "         Current function value: 5.018743\n",
      "         Iterations: 2\n",
      "         Function evaluations: 151\n",
      "Optimization terminated successfully.\n",
      "         Current function value: 5.019121\n",
      "         Iterations: 1\n",
      "         Function evaluations: 88\n",
      "Optimization terminated successfully.\n",
      "         Current function value: 5.018390\n",
      "         Iterations: 1\n",
      "         Function evaluations: 95\n",
      "Optimization terminated successfully.\n",
      "         Current function value: 5.018228\n",
      "         Iterations: 1\n",
      "         Function evaluations: 106\n",
      "Optimization terminated successfully.\n",
      "         Current function value: 5.016979\n",
      "         Iterations: 1\n",
      "         Function evaluations: 118\n",
      "Optimization terminated successfully.\n",
      "         Current function value: 5.013724\n",
      "         Iterations: 1\n",
      "         Function evaluations: 130\n",
      "Optimization terminated successfully.\n",
      "         Current function value: 5.013471\n",
      "         Iterations: 1\n",
      "         Function evaluations: 140\n",
      "Optimization terminated successfully.\n",
      "         Current function value: 5.013323\n",
      "         Iterations: 2\n",
      "         Function evaluations: 301\n",
      "Optimization terminated successfully.\n",
      "         Current function value: 5.018813\n",
      "         Iterations: 1\n",
      "         Function evaluations: 53\n",
      "Optimization terminated successfully.\n",
      "         Current function value: 5.018800\n",
      "         Iterations: 1\n",
      "         Function evaluations: 63\n",
      "Optimization terminated successfully.\n",
      "         Current function value: 5.017532\n",
      "         Iterations: 2\n",
      "         Function evaluations: 158\n"
     ]
    },
    {
     "name": "stderr",
     "output_type": "stream",
     "text": [
      "C:\\Users\\leeke\\anaconda3\\envs\\introds\\lib\\site-packages\\statsmodels\\tsa\\statespace\\sarimax.py:966: UserWarning: Non-stationary starting autoregressive parameters found. Using zeros as starting parameters.\n",
      "  warn('Non-stationary starting autoregressive parameters'\n",
      "C:\\Users\\leeke\\anaconda3\\envs\\introds\\lib\\site-packages\\statsmodels\\tsa\\statespace\\sarimax.py:978: UserWarning: Non-invertible starting MA parameters found. Using zeros as starting parameters.\n",
      "  warn('Non-invertible starting MA parameters found.'\n"
     ]
    },
    {
     "name": "stdout",
     "output_type": "stream",
     "text": [
      "Optimization terminated successfully.\n",
      "         Current function value: 5.018807\n",
      "         Iterations: 2\n",
      "         Function evaluations: 171\n",
      "Optimization terminated successfully.\n",
      "         Current function value: 5.016854\n",
      "         Iterations: 2\n",
      "         Function evaluations: 207\n",
      "Optimization terminated successfully.\n",
      "         Current function value: 5.018089\n",
      "         Iterations: 1\n",
      "         Function evaluations: 105\n",
      "Optimization terminated successfully.\n",
      "         Current function value: 5.018220\n",
      "         Iterations: 1\n",
      "         Function evaluations: 118\n",
      "Optimization terminated successfully.\n",
      "         Current function value: 5.017156\n",
      "         Iterations: 1\n",
      "         Function evaluations: 131\n"
     ]
    },
    {
     "name": "stderr",
     "output_type": "stream",
     "text": [
      "C:\\Users\\leeke\\anaconda3\\envs\\introds\\lib\\site-packages\\statsmodels\\tsa\\statespace\\sarimax.py:966: UserWarning: Non-stationary starting autoregressive parameters found. Using zeros as starting parameters.\n",
      "  warn('Non-stationary starting autoregressive parameters'\n",
      "C:\\Users\\leeke\\anaconda3\\envs\\introds\\lib\\site-packages\\statsmodels\\tsa\\statespace\\sarimax.py:978: UserWarning: Non-invertible starting MA parameters found. Using zeros as starting parameters.\n",
      "  warn('Non-invertible starting MA parameters found.'\n"
     ]
    },
    {
     "name": "stdout",
     "output_type": "stream",
     "text": [
      "Optimization terminated successfully.\n",
      "         Current function value: 5.015621\n",
      "         Iterations: 2\n",
      "         Function evaluations: 274\n",
      "Optimization terminated successfully.\n",
      "         Current function value: 5.013969\n",
      "         Iterations: 2\n",
      "         Function evaluations: 309\n",
      "Optimization terminated successfully.\n",
      "         Current function value: 5.013323\n",
      "         Iterations: 1\n",
      "         Function evaluations: 160\n",
      "Optimization terminated successfully.\n",
      "         Current function value: 5.018650\n",
      "         Iterations: 1\n",
      "         Function evaluations: 65\n",
      "Optimization terminated successfully.\n",
      "         Current function value: 5.018646\n",
      "         Iterations: 1\n",
      "         Function evaluations: 76\n"
     ]
    },
    {
     "name": "stderr",
     "output_type": "stream",
     "text": [
      "C:\\Users\\leeke\\anaconda3\\envs\\introds\\lib\\site-packages\\statsmodels\\tsa\\statespace\\sarimax.py:966: UserWarning: Non-stationary starting autoregressive parameters found. Using zeros as starting parameters.\n",
      "  warn('Non-stationary starting autoregressive parameters'\n",
      "C:\\Users\\leeke\\anaconda3\\envs\\introds\\lib\\site-packages\\statsmodels\\tsa\\statespace\\sarimax.py:978: UserWarning: Non-invertible starting MA parameters found. Using zeros as starting parameters.\n",
      "  warn('Non-invertible starting MA parameters found.'\n"
     ]
    },
    {
     "name": "stdout",
     "output_type": "stream",
     "text": [
      "Optimization terminated successfully.\n",
      "         Current function value: 5.018648\n",
      "         Iterations: 2\n",
      "         Function evaluations: 172\n"
     ]
    },
    {
     "name": "stderr",
     "output_type": "stream",
     "text": [
      "C:\\Users\\leeke\\anaconda3\\envs\\introds\\lib\\site-packages\\statsmodels\\tsa\\statespace\\sarimax.py:966: UserWarning: Non-stationary starting autoregressive parameters found. Using zeros as starting parameters.\n",
      "  warn('Non-stationary starting autoregressive parameters'\n",
      "C:\\Users\\leeke\\anaconda3\\envs\\introds\\lib\\site-packages\\statsmodels\\tsa\\statespace\\sarimax.py:978: UserWarning: Non-invertible starting MA parameters found. Using zeros as starting parameters.\n",
      "  warn('Non-invertible starting MA parameters found.'\n"
     ]
    },
    {
     "name": "stdout",
     "output_type": "stream",
     "text": [
      "Optimization terminated successfully.\n",
      "         Current function value: 5.018641\n",
      "         Iterations: 2\n",
      "         Function evaluations: 194\n"
     ]
    },
    {
     "name": "stderr",
     "output_type": "stream",
     "text": [
      "C:\\Users\\leeke\\anaconda3\\envs\\introds\\lib\\site-packages\\statsmodels\\tsa\\statespace\\sarimax.py:966: UserWarning: Non-stationary starting autoregressive parameters found. Using zeros as starting parameters.\n",
      "  warn('Non-stationary starting autoregressive parameters'\n",
      "C:\\Users\\leeke\\anaconda3\\envs\\introds\\lib\\site-packages\\statsmodels\\tsa\\statespace\\sarimax.py:978: UserWarning: Non-invertible starting MA parameters found. Using zeros as starting parameters.\n",
      "  warn('Non-invertible starting MA parameters found.'\n"
     ]
    },
    {
     "name": "stdout",
     "output_type": "stream",
     "text": [
      "Optimization terminated successfully.\n",
      "         Current function value: 5.018616\n",
      "         Iterations: 2\n",
      "         Function evaluations: 215\n",
      "Optimization terminated successfully.\n",
      "         Current function value: 5.016435\n",
      "         Iterations: 2\n",
      "         Function evaluations: 240\n",
      "Optimization terminated successfully.\n",
      "         Current function value: 5.015997\n",
      "         Iterations: 2\n",
      "         Function evaluations: 266\n",
      "Optimization terminated successfully.\n",
      "         Current function value: 5.015952\n",
      "         Iterations: 2\n",
      "         Function evaluations: 289\n"
     ]
    },
    {
     "name": "stderr",
     "output_type": "stream",
     "text": [
      "C:\\Users\\leeke\\anaconda3\\envs\\introds\\lib\\site-packages\\statsmodels\\tsa\\statespace\\sarimax.py:966: UserWarning: Non-stationary starting autoregressive parameters found. Using zeros as starting parameters.\n",
      "  warn('Non-stationary starting autoregressive parameters'\n",
      "C:\\Users\\leeke\\anaconda3\\envs\\introds\\lib\\site-packages\\statsmodels\\tsa\\statespace\\sarimax.py:978: UserWarning: Non-invertible starting MA parameters found. Using zeros as starting parameters.\n",
      "  warn('Non-invertible starting MA parameters found.'\n"
     ]
    },
    {
     "name": "stdout",
     "output_type": "stream",
     "text": [
      "Optimization terminated successfully.\n",
      "         Current function value: 5.015632\n",
      "         Iterations: 2\n",
      "         Function evaluations: 298\n",
      "Optimization terminated successfully.\n",
      "         Current function value: 5.013985\n",
      "         Iterations: 2\n",
      "         Function evaluations: 328\n",
      "Optimization terminated successfully.\n",
      "         Current function value: 5.013441\n",
      "         Iterations: 1\n",
      "         Function evaluations: 172\n",
      "Optimization terminated successfully.\n",
      "         Current function value: 5.018570\n",
      "         Iterations: 1\n",
      "         Function evaluations: 76\n",
      "Optimization terminated successfully.\n",
      "         Current function value: 5.018565\n",
      "         Iterations: 1\n",
      "         Function evaluations: 86\n"
     ]
    },
    {
     "name": "stderr",
     "output_type": "stream",
     "text": [
      "C:\\Users\\leeke\\anaconda3\\envs\\introds\\lib\\site-packages\\statsmodels\\tsa\\statespace\\sarimax.py:966: UserWarning: Non-stationary starting autoregressive parameters found. Using zeros as starting parameters.\n",
      "  warn('Non-stationary starting autoregressive parameters'\n",
      "C:\\Users\\leeke\\anaconda3\\envs\\introds\\lib\\site-packages\\statsmodels\\tsa\\statespace\\sarimax.py:978: UserWarning: Non-invertible starting MA parameters found. Using zeros as starting parameters.\n",
      "  warn('Non-invertible starting MA parameters found.'\n"
     ]
    },
    {
     "name": "stdout",
     "output_type": "stream",
     "text": [
      "Optimization terminated successfully.\n",
      "         Current function value: 5.018568\n",
      "         Iterations: 2\n",
      "         Function evaluations: 194\n"
     ]
    },
    {
     "name": "stderr",
     "output_type": "stream",
     "text": [
      "C:\\Users\\leeke\\anaconda3\\envs\\introds\\lib\\site-packages\\statsmodels\\tsa\\statespace\\sarimax.py:966: UserWarning: Non-stationary starting autoregressive parameters found. Using zeros as starting parameters.\n",
      "  warn('Non-stationary starting autoregressive parameters'\n",
      "C:\\Users\\leeke\\anaconda3\\envs\\introds\\lib\\site-packages\\statsmodels\\tsa\\statespace\\sarimax.py:978: UserWarning: Non-invertible starting MA parameters found. Using zeros as starting parameters.\n",
      "  warn('Non-invertible starting MA parameters found.'\n"
     ]
    },
    {
     "name": "stdout",
     "output_type": "stream",
     "text": [
      "Optimization terminated successfully.\n",
      "         Current function value: 5.018557\n",
      "         Iterations: 2\n",
      "         Function evaluations: 216\n"
     ]
    },
    {
     "name": "stderr",
     "output_type": "stream",
     "text": [
      "C:\\Users\\leeke\\anaconda3\\envs\\introds\\lib\\site-packages\\statsmodels\\tsa\\statespace\\sarimax.py:966: UserWarning: Non-stationary starting autoregressive parameters found. Using zeros as starting parameters.\n",
      "  warn('Non-stationary starting autoregressive parameters'\n",
      "C:\\Users\\leeke\\anaconda3\\envs\\introds\\lib\\site-packages\\statsmodels\\tsa\\statespace\\sarimax.py:978: UserWarning: Non-invertible starting MA parameters found. Using zeros as starting parameters.\n",
      "  warn('Non-invertible starting MA parameters found.'\n"
     ]
    },
    {
     "name": "stdout",
     "output_type": "stream",
     "text": [
      "Optimization terminated successfully.\n",
      "         Current function value: 5.018544\n",
      "         Iterations: 2\n",
      "         Function evaluations: 236\n",
      "Optimization terminated successfully.\n",
      "         Current function value: 5.016432\n",
      "         Iterations: 2\n",
      "         Function evaluations: 265\n",
      "Optimization terminated successfully.\n",
      "         Current function value: 5.016005\n",
      "         Iterations: 2\n",
      "         Function evaluations: 288\n",
      "Optimization terminated successfully.\n",
      "         Current function value: 5.015971\n",
      "         Iterations: 2\n",
      "         Function evaluations: 316\n"
     ]
    },
    {
     "name": "stderr",
     "output_type": "stream",
     "text": [
      "C:\\Users\\leeke\\anaconda3\\envs\\introds\\lib\\site-packages\\statsmodels\\tsa\\statespace\\sarimax.py:966: UserWarning: Non-stationary starting autoregressive parameters found. Using zeros as starting parameters.\n",
      "  warn('Non-stationary starting autoregressive parameters'\n",
      "C:\\Users\\leeke\\anaconda3\\envs\\introds\\lib\\site-packages\\statsmodels\\tsa\\statespace\\sarimax.py:978: UserWarning: Non-invertible starting MA parameters found. Using zeros as starting parameters.\n",
      "  warn('Non-invertible starting MA parameters found.'\n"
     ]
    },
    {
     "name": "stdout",
     "output_type": "stream",
     "text": [
      "Optimization terminated successfully.\n",
      "         Current function value: 5.015636\n",
      "         Iterations: 2\n",
      "         Function evaluations: 322\n",
      "Optimization terminated successfully.\n",
      "         Current function value: 5.014051\n",
      "         Iterations: 2\n",
      "         Function evaluations: 351\n"
     ]
    },
    {
     "name": "stderr",
     "output_type": "stream",
     "text": [
      "C:\\Users\\leeke\\anaconda3\\envs\\introds\\lib\\site-packages\\statsmodels\\tsa\\statespace\\sarimax.py:966: UserWarning: Non-stationary starting autoregressive parameters found. Using zeros as starting parameters.\n",
      "  warn('Non-stationary starting autoregressive parameters'\n",
      "C:\\Users\\leeke\\anaconda3\\envs\\introds\\lib\\site-packages\\statsmodels\\tsa\\statespace\\sarimax.py:978: UserWarning: Non-invertible starting MA parameters found. Using zeros as starting parameters.\n",
      "  warn('Non-invertible starting MA parameters found.'\n"
     ]
    },
    {
     "name": "stdout",
     "output_type": "stream",
     "text": [
      "Optimization terminated successfully.\n",
      "         Current function value: 5.013696\n",
      "         Iterations: 2\n",
      "         Function evaluations: 358\n",
      "Optimization terminated successfully.\n",
      "         Current function value: 5.018284\n",
      "         Iterations: 1\n",
      "         Function evaluations: 86\n",
      "Optimization terminated successfully.\n",
      "         Current function value: 5.018258\n",
      "         Iterations: 1\n",
      "         Function evaluations: 96\n",
      "Optimization terminated successfully.\n",
      "         Current function value: 5.018251\n",
      "         Iterations: 1\n",
      "         Function evaluations: 106\n"
     ]
    },
    {
     "name": "stderr",
     "output_type": "stream",
     "text": [
      "C:\\Users\\leeke\\anaconda3\\envs\\introds\\lib\\site-packages\\statsmodels\\tsa\\statespace\\sarimax.py:966: UserWarning: Non-stationary starting autoregressive parameters found. Using zeros as starting parameters.\n",
      "  warn('Non-stationary starting autoregressive parameters'\n",
      "C:\\Users\\leeke\\anaconda3\\envs\\introds\\lib\\site-packages\\statsmodels\\tsa\\statespace\\sarimax.py:978: UserWarning: Non-invertible starting MA parameters found. Using zeros as starting parameters.\n",
      "  warn('Non-invertible starting MA parameters found.'\n"
     ]
    },
    {
     "name": "stdout",
     "output_type": "stream",
     "text": [
      "Optimization terminated successfully.\n",
      "         Current function value: 5.018276\n",
      "         Iterations: 2\n",
      "         Function evaluations: 237\n"
     ]
    },
    {
     "name": "stderr",
     "output_type": "stream",
     "text": [
      "C:\\Users\\leeke\\anaconda3\\envs\\introds\\lib\\site-packages\\statsmodels\\tsa\\statespace\\sarimax.py:966: UserWarning: Non-stationary starting autoregressive parameters found. Using zeros as starting parameters.\n",
      "  warn('Non-stationary starting autoregressive parameters'\n",
      "C:\\Users\\leeke\\anaconda3\\envs\\introds\\lib\\site-packages\\statsmodels\\tsa\\statespace\\sarimax.py:978: UserWarning: Non-invertible starting MA parameters found. Using zeros as starting parameters.\n",
      "  warn('Non-invertible starting MA parameters found.'\n"
     ]
    },
    {
     "name": "stdout",
     "output_type": "stream",
     "text": [
      "Optimization terminated successfully.\n",
      "         Current function value: 5.018258\n",
      "         Iterations: 2\n",
      "         Function evaluations: 257\n",
      "Optimization terminated successfully.\n",
      "         Current function value: 5.016093\n",
      "         Iterations: 2\n",
      "         Function evaluations: 288\n",
      "Optimization terminated successfully.\n",
      "         Current function value: 5.016322\n",
      "         Iterations: 2\n",
      "         Function evaluations: 322\n",
      "Optimization terminated successfully.\n",
      "         Current function value: 5.015571\n",
      "         Iterations: 3\n",
      "         Function evaluations: 526\n"
     ]
    },
    {
     "name": "stderr",
     "output_type": "stream",
     "text": [
      "C:\\Users\\leeke\\anaconda3\\envs\\introds\\lib\\site-packages\\statsmodels\\tsa\\statespace\\sarimax.py:966: UserWarning: Non-stationary starting autoregressive parameters found. Using zeros as starting parameters.\n",
      "  warn('Non-stationary starting autoregressive parameters'\n",
      "C:\\Users\\leeke\\anaconda3\\envs\\introds\\lib\\site-packages\\statsmodels\\tsa\\statespace\\sarimax.py:978: UserWarning: Non-invertible starting MA parameters found. Using zeros as starting parameters.\n",
      "  warn('Non-invertible starting MA parameters found.'\n"
     ]
    },
    {
     "name": "stdout",
     "output_type": "stream",
     "text": [
      "Optimization terminated successfully.\n",
      "         Current function value: 5.015616\n",
      "         Iterations: 2\n",
      "         Function evaluations: 343\n"
     ]
    },
    {
     "name": "stderr",
     "output_type": "stream",
     "text": [
      "C:\\Users\\leeke\\anaconda3\\envs\\introds\\lib\\site-packages\\statsmodels\\tsa\\statespace\\sarimax.py:978: UserWarning: Non-invertible starting MA parameters found. Using zeros as starting parameters.\n",
      "  warn('Non-invertible starting MA parameters found.'\n"
     ]
    },
    {
     "name": "stdout",
     "output_type": "stream",
     "text": [
      "Optimization terminated successfully.\n",
      "         Current function value: 5.013694\n",
      "         Iterations: 3\n",
      "         Function evaluations: 555\n"
     ]
    },
    {
     "name": "stderr",
     "output_type": "stream",
     "text": [
      "C:\\Users\\leeke\\anaconda3\\envs\\introds\\lib\\site-packages\\statsmodels\\tsa\\statespace\\sarimax.py:966: UserWarning: Non-stationary starting autoregressive parameters found. Using zeros as starting parameters.\n",
      "  warn('Non-stationary starting autoregressive parameters'\n",
      "C:\\Users\\leeke\\anaconda3\\envs\\introds\\lib\\site-packages\\statsmodels\\tsa\\statespace\\sarimax.py:978: UserWarning: Non-invertible starting MA parameters found. Using zeros as starting parameters.\n",
      "  warn('Non-invertible starting MA parameters found.'\n"
     ]
    },
    {
     "name": "stdout",
     "output_type": "stream",
     "text": [
      "Optimization terminated successfully.\n",
      "         Current function value: 5.013772\n",
      "         Iterations: 2\n",
      "         Function evaluations: 382\n",
      "Optimization terminated successfully.\n",
      "         Current function value: 5.016460\n",
      "         Iterations: 1\n",
      "         Function evaluations: 97\n",
      "Optimization terminated successfully.\n",
      "         Current function value: 5.016417\n",
      "         Iterations: 1\n",
      "         Function evaluations: 107\n",
      "Optimization terminated successfully.\n",
      "         Current function value: 5.016421\n",
      "         Iterations: 1\n",
      "         Function evaluations: 117\n"
     ]
    },
    {
     "name": "stderr",
     "output_type": "stream",
     "text": [
      "C:\\Users\\leeke\\anaconda3\\envs\\introds\\lib\\site-packages\\statsmodels\\tsa\\statespace\\sarimax.py:966: UserWarning: Non-stationary starting autoregressive parameters found. Using zeros as starting parameters.\n",
      "  warn('Non-stationary starting autoregressive parameters'\n",
      "C:\\Users\\leeke\\anaconda3\\envs\\introds\\lib\\site-packages\\statsmodels\\tsa\\statespace\\sarimax.py:978: UserWarning: Non-invertible starting MA parameters found. Using zeros as starting parameters.\n",
      "  warn('Non-invertible starting MA parameters found.'\n"
     ]
    },
    {
     "name": "stdout",
     "output_type": "stream",
     "text": [
      "Optimization terminated successfully.\n",
      "         Current function value: 5.016443\n",
      "         Iterations: 2\n",
      "         Function evaluations: 259\n"
     ]
    },
    {
     "name": "stderr",
     "output_type": "stream",
     "text": [
      "C:\\Users\\leeke\\anaconda3\\envs\\introds\\lib\\site-packages\\statsmodels\\tsa\\statespace\\sarimax.py:966: UserWarning: Non-stationary starting autoregressive parameters found. Using zeros as starting parameters.\n",
      "  warn('Non-stationary starting autoregressive parameters'\n",
      "C:\\Users\\leeke\\anaconda3\\envs\\introds\\lib\\site-packages\\statsmodels\\tsa\\statespace\\sarimax.py:978: UserWarning: Non-invertible starting MA parameters found. Using zeros as starting parameters.\n",
      "  warn('Non-invertible starting MA parameters found.'\n"
     ]
    },
    {
     "name": "stdout",
     "output_type": "stream",
     "text": [
      "Optimization terminated successfully.\n",
      "         Current function value: 5.016441\n",
      "         Iterations: 2\n",
      "         Function evaluations: 280\n",
      "Optimization terminated successfully.\n",
      "         Current function value: 5.016394\n",
      "         Iterations: 2\n",
      "         Function evaluations: 324\n",
      "Optimization terminated successfully.\n",
      "         Current function value: 5.016319\n",
      "         Iterations: 2\n",
      "         Function evaluations: 335\n",
      "Optimization terminated successfully.\n",
      "         Current function value: 5.015498\n",
      "         Iterations: 3\n",
      "         Function evaluations: 565\n"
     ]
    },
    {
     "name": "stderr",
     "output_type": "stream",
     "text": [
      "C:\\Users\\leeke\\anaconda3\\envs\\introds\\lib\\site-packages\\statsmodels\\tsa\\statespace\\sarimax.py:966: UserWarning: Non-stationary starting autoregressive parameters found. Using zeros as starting parameters.\n",
      "  warn('Non-stationary starting autoregressive parameters'\n",
      "C:\\Users\\leeke\\anaconda3\\envs\\introds\\lib\\site-packages\\statsmodels\\tsa\\statespace\\sarimax.py:978: UserWarning: Non-invertible starting MA parameters found. Using zeros as starting parameters.\n",
      "  warn('Non-invertible starting MA parameters found.'\n"
     ]
    },
    {
     "name": "stdout",
     "output_type": "stream",
     "text": [
      "Optimization terminated successfully.\n",
      "         Current function value: 5.015728\n",
      "         Iterations: 2\n",
      "         Function evaluations: 364\n",
      "Optimization terminated successfully.\n",
      "         Current function value: 5.014145\n",
      "         Iterations: 2\n",
      "         Function evaluations: 401\n"
     ]
    },
    {
     "name": "stderr",
     "output_type": "stream",
     "text": [
      "C:\\Users\\leeke\\anaconda3\\envs\\introds\\lib\\site-packages\\statsmodels\\tsa\\statespace\\sarimax.py:966: UserWarning: Non-stationary starting autoregressive parameters found. Using zeros as starting parameters.\n",
      "  warn('Non-stationary starting autoregressive parameters'\n",
      "C:\\Users\\leeke\\anaconda3\\envs\\introds\\lib\\site-packages\\statsmodels\\tsa\\statespace\\sarimax.py:978: UserWarning: Non-invertible starting MA parameters found. Using zeros as starting parameters.\n",
      "  warn('Non-invertible starting MA parameters found.'\n"
     ]
    },
    {
     "name": "stdout",
     "output_type": "stream",
     "text": [
      "Optimization terminated successfully.\n",
      "         Current function value: 5.013685\n",
      "         Iterations: 2\n",
      "         Function evaluations: 401\n",
      "Optimization terminated successfully.\n",
      "         Current function value: 5.015717\n",
      "         Iterations: 1\n",
      "         Function evaluations: 108\n",
      "Optimization terminated successfully.\n",
      "         Current function value: 5.015755\n",
      "         Iterations: 1\n",
      "         Function evaluations: 118\n",
      "Optimization terminated successfully.\n",
      "         Current function value: 5.015761\n",
      "         Iterations: 1\n",
      "         Function evaluations: 128\n"
     ]
    },
    {
     "name": "stderr",
     "output_type": "stream",
     "text": [
      "C:\\Users\\leeke\\anaconda3\\envs\\introds\\lib\\site-packages\\statsmodels\\tsa\\statespace\\sarimax.py:966: UserWarning: Non-stationary starting autoregressive parameters found. Using zeros as starting parameters.\n",
      "  warn('Non-stationary starting autoregressive parameters'\n",
      "C:\\Users\\leeke\\anaconda3\\envs\\introds\\lib\\site-packages\\statsmodels\\tsa\\statespace\\sarimax.py:978: UserWarning: Non-invertible starting MA parameters found. Using zeros as starting parameters.\n",
      "  warn('Non-invertible starting MA parameters found.'\n"
     ]
    },
    {
     "name": "stdout",
     "output_type": "stream",
     "text": [
      "Optimization terminated successfully.\n",
      "         Current function value: 5.015704\n",
      "         Iterations: 2\n",
      "         Function evaluations: 280\n"
     ]
    },
    {
     "name": "stderr",
     "output_type": "stream",
     "text": [
      "C:\\Users\\leeke\\anaconda3\\envs\\introds\\lib\\site-packages\\statsmodels\\tsa\\statespace\\sarimax.py:966: UserWarning: Non-stationary starting autoregressive parameters found. Using zeros as starting parameters.\n",
      "  warn('Non-stationary starting autoregressive parameters'\n",
      "C:\\Users\\leeke\\anaconda3\\envs\\introds\\lib\\site-packages\\statsmodels\\tsa\\statespace\\sarimax.py:978: UserWarning: Non-invertible starting MA parameters found. Using zeros as starting parameters.\n",
      "  warn('Non-invertible starting MA parameters found.'\n"
     ]
    },
    {
     "name": "stdout",
     "output_type": "stream",
     "text": [
      "Optimization terminated successfully.\n",
      "         Current function value: 5.015703\n",
      "         Iterations: 2\n",
      "         Function evaluations: 301\n"
     ]
    },
    {
     "name": "stderr",
     "output_type": "stream",
     "text": [
      "C:\\Users\\leeke\\anaconda3\\envs\\introds\\lib\\site-packages\\statsmodels\\tsa\\statespace\\sarimax.py:966: UserWarning: Non-stationary starting autoregressive parameters found. Using zeros as starting parameters.\n",
      "  warn('Non-stationary starting autoregressive parameters'\n",
      "C:\\Users\\leeke\\anaconda3\\envs\\introds\\lib\\site-packages\\statsmodels\\tsa\\statespace\\sarimax.py:978: UserWarning: Non-invertible starting MA parameters found. Using zeros as starting parameters.\n",
      "  warn('Non-invertible starting MA parameters found.'\n"
     ]
    },
    {
     "name": "stdout",
     "output_type": "stream",
     "text": [
      "Optimization terminated successfully.\n",
      "         Current function value: 5.015703\n",
      "         Iterations: 2\n",
      "         Function evaluations: 322\n"
     ]
    },
    {
     "name": "stderr",
     "output_type": "stream",
     "text": [
      "C:\\Users\\leeke\\anaconda3\\envs\\introds\\lib\\site-packages\\statsmodels\\tsa\\statespace\\sarimax.py:966: UserWarning: Non-stationary starting autoregressive parameters found. Using zeros as starting parameters.\n",
      "  warn('Non-stationary starting autoregressive parameters'\n",
      "C:\\Users\\leeke\\anaconda3\\envs\\introds\\lib\\site-packages\\statsmodels\\tsa\\statespace\\sarimax.py:978: UserWarning: Non-invertible starting MA parameters found. Using zeros as starting parameters.\n",
      "  warn('Non-invertible starting MA parameters found.'\n"
     ]
    },
    {
     "name": "stdout",
     "output_type": "stream",
     "text": [
      "Optimization terminated successfully.\n",
      "         Current function value: 5.015702\n",
      "         Iterations: 2\n",
      "         Function evaluations: 344\n"
     ]
    },
    {
     "name": "stderr",
     "output_type": "stream",
     "text": [
      "C:\\Users\\leeke\\anaconda3\\envs\\introds\\lib\\site-packages\\statsmodels\\tsa\\statespace\\sarimax.py:966: UserWarning: Non-stationary starting autoregressive parameters found. Using zeros as starting parameters.\n",
      "  warn('Non-stationary starting autoregressive parameters'\n",
      "C:\\Users\\leeke\\anaconda3\\envs\\introds\\lib\\site-packages\\statsmodels\\tsa\\statespace\\sarimax.py:978: UserWarning: Non-invertible starting MA parameters found. Using zeros as starting parameters.\n",
      "  warn('Non-invertible starting MA parameters found.'\n"
     ]
    },
    {
     "name": "stdout",
     "output_type": "stream",
     "text": [
      "Optimization terminated successfully.\n",
      "         Current function value: 5.015693\n",
      "         Iterations: 2\n",
      "         Function evaluations: 363\n"
     ]
    },
    {
     "name": "stderr",
     "output_type": "stream",
     "text": [
      "C:\\Users\\leeke\\anaconda3\\envs\\introds\\lib\\site-packages\\statsmodels\\tsa\\statespace\\sarimax.py:966: UserWarning: Non-stationary starting autoregressive parameters found. Using zeros as starting parameters.\n",
      "  warn('Non-stationary starting autoregressive parameters'\n",
      "C:\\Users\\leeke\\anaconda3\\envs\\introds\\lib\\site-packages\\statsmodels\\tsa\\statespace\\sarimax.py:978: UserWarning: Non-invertible starting MA parameters found. Using zeros as starting parameters.\n",
      "  warn('Non-invertible starting MA parameters found.'\n"
     ]
    },
    {
     "name": "stdout",
     "output_type": "stream",
     "text": [
      "Optimization terminated successfully.\n",
      "         Current function value: 5.015692\n",
      "         Iterations: 2\n",
      "         Function evaluations: 383\n",
      "Optimization terminated successfully.\n",
      "         Current function value: 5.014140\n",
      "         Iterations: 2\n",
      "         Function evaluations: 423\n"
     ]
    },
    {
     "name": "stderr",
     "output_type": "stream",
     "text": [
      "C:\\Users\\leeke\\anaconda3\\envs\\introds\\lib\\site-packages\\statsmodels\\tsa\\statespace\\sarimax.py:966: UserWarning: Non-stationary starting autoregressive parameters found. Using zeros as starting parameters.\n",
      "  warn('Non-stationary starting autoregressive parameters'\n",
      "C:\\Users\\leeke\\anaconda3\\envs\\introds\\lib\\site-packages\\statsmodels\\tsa\\statespace\\sarimax.py:978: UserWarning: Non-invertible starting MA parameters found. Using zeros as starting parameters.\n",
      "  warn('Non-invertible starting MA parameters found.'\n"
     ]
    },
    {
     "name": "stdout",
     "output_type": "stream",
     "text": [
      "Optimization terminated successfully.\n",
      "         Current function value: 5.013786\n",
      "         Iterations: 2\n",
      "         Function evaluations: 425\n",
      "Optimization terminated successfully.\n",
      "         Current function value: 5.014280\n",
      "         Iterations: 1\n",
      "         Function evaluations: 119\n",
      "Optimization terminated successfully.\n",
      "         Current function value: 5.014308\n",
      "         Iterations: 1\n",
      "         Function evaluations: 130\n",
      "Optimization terminated successfully.\n",
      "         Current function value: 5.014307\n",
      "         Iterations: 1\n",
      "         Function evaluations: 140\n",
      "Optimization terminated successfully.\n",
      "         Current function value: 5.014278\n",
      "         Iterations: 1\n",
      "         Function evaluations: 151\n"
     ]
    },
    {
     "name": "stderr",
     "output_type": "stream",
     "text": [
      "C:\\Users\\leeke\\anaconda3\\envs\\introds\\lib\\site-packages\\statsmodels\\tsa\\statespace\\sarimax.py:966: UserWarning: Non-stationary starting autoregressive parameters found. Using zeros as starting parameters.\n",
      "  warn('Non-stationary starting autoregressive parameters'\n",
      "C:\\Users\\leeke\\anaconda3\\envs\\introds\\lib\\site-packages\\statsmodels\\tsa\\statespace\\sarimax.py:978: UserWarning: Non-invertible starting MA parameters found. Using zeros as starting parameters.\n",
      "  warn('Non-invertible starting MA parameters found.'\n"
     ]
    },
    {
     "name": "stdout",
     "output_type": "stream",
     "text": [
      "Optimization terminated successfully.\n",
      "         Current function value: 5.014268\n",
      "         Iterations: 2\n",
      "         Function evaluations: 321\n"
     ]
    },
    {
     "name": "stderr",
     "output_type": "stream",
     "text": [
      "C:\\Users\\leeke\\anaconda3\\envs\\introds\\lib\\site-packages\\statsmodels\\tsa\\statespace\\sarimax.py:966: UserWarning: Non-stationary starting autoregressive parameters found. Using zeros as starting parameters.\n",
      "  warn('Non-stationary starting autoregressive parameters'\n",
      "C:\\Users\\leeke\\anaconda3\\envs\\introds\\lib\\site-packages\\statsmodels\\tsa\\statespace\\sarimax.py:978: UserWarning: Non-invertible starting MA parameters found. Using zeros as starting parameters.\n",
      "  warn('Non-invertible starting MA parameters found.'\n"
     ]
    },
    {
     "name": "stdout",
     "output_type": "stream",
     "text": [
      "Optimization terminated successfully.\n",
      "         Current function value: 5.014267\n",
      "         Iterations: 2\n",
      "         Function evaluations: 342\n"
     ]
    },
    {
     "name": "stderr",
     "output_type": "stream",
     "text": [
      "C:\\Users\\leeke\\anaconda3\\envs\\introds\\lib\\site-packages\\statsmodels\\tsa\\statespace\\sarimax.py:966: UserWarning: Non-stationary starting autoregressive parameters found. Using zeros as starting parameters.\n",
      "  warn('Non-stationary starting autoregressive parameters'\n",
      "C:\\Users\\leeke\\anaconda3\\envs\\introds\\lib\\site-packages\\statsmodels\\tsa\\statespace\\sarimax.py:978: UserWarning: Non-invertible starting MA parameters found. Using zeros as starting parameters.\n",
      "  warn('Non-invertible starting MA parameters found.'\n"
     ]
    },
    {
     "name": "stdout",
     "output_type": "stream",
     "text": [
      "Optimization terminated successfully.\n",
      "         Current function value: 5.014255\n",
      "         Iterations: 2\n",
      "         Function evaluations: 363\n"
     ]
    },
    {
     "name": "stderr",
     "output_type": "stream",
     "text": [
      "C:\\Users\\leeke\\anaconda3\\envs\\introds\\lib\\site-packages\\statsmodels\\tsa\\statespace\\sarimax.py:966: UserWarning: Non-stationary starting autoregressive parameters found. Using zeros as starting parameters.\n",
      "  warn('Non-stationary starting autoregressive parameters'\n",
      "C:\\Users\\leeke\\anaconda3\\envs\\introds\\lib\\site-packages\\statsmodels\\tsa\\statespace\\sarimax.py:978: UserWarning: Non-invertible starting MA parameters found. Using zeros as starting parameters.\n",
      "  warn('Non-invertible starting MA parameters found.'\n"
     ]
    },
    {
     "name": "stdout",
     "output_type": "stream",
     "text": [
      "Optimization terminated successfully.\n",
      "         Current function value: 5.014255\n",
      "         Iterations: 2\n",
      "         Function evaluations: 383\n"
     ]
    },
    {
     "name": "stderr",
     "output_type": "stream",
     "text": [
      "C:\\Users\\leeke\\anaconda3\\envs\\introds\\lib\\site-packages\\statsmodels\\tsa\\statespace\\sarimax.py:966: UserWarning: Non-stationary starting autoregressive parameters found. Using zeros as starting parameters.\n",
      "  warn('Non-stationary starting autoregressive parameters'\n",
      "C:\\Users\\leeke\\anaconda3\\envs\\introds\\lib\\site-packages\\statsmodels\\tsa\\statespace\\sarimax.py:978: UserWarning: Non-invertible starting MA parameters found. Using zeros as starting parameters.\n",
      "  warn('Non-invertible starting MA parameters found.'\n"
     ]
    },
    {
     "name": "stdout",
     "output_type": "stream",
     "text": [
      "Optimization terminated successfully.\n",
      "         Current function value: 5.014246\n",
      "         Iterations: 2\n",
      "         Function evaluations: 403\n",
      "Optimization terminated successfully.\n",
      "         Current function value: 5.010424\n",
      "         Iterations: 3\n",
      "         Function evaluations: 692\n"
     ]
    },
    {
     "name": "stderr",
     "output_type": "stream",
     "text": [
      "C:\\Users\\leeke\\anaconda3\\envs\\introds\\lib\\site-packages\\statsmodels\\tsa\\statespace\\sarimax.py:966: UserWarning: Non-stationary starting autoregressive parameters found. Using zeros as starting parameters.\n",
      "  warn('Non-stationary starting autoregressive parameters'\n",
      "C:\\Users\\leeke\\anaconda3\\envs\\introds\\lib\\site-packages\\statsmodels\\tsa\\statespace\\sarimax.py:978: UserWarning: Non-invertible starting MA parameters found. Using zeros as starting parameters.\n",
      "  warn('Non-invertible starting MA parameters found.'\n"
     ]
    },
    {
     "name": "stdout",
     "output_type": "stream",
     "text": [
      "Optimization terminated successfully.\n",
      "         Current function value: 5.013770\n",
      "         Iterations: 2\n",
      "         Function evaluations: 445\n",
      "Optimization terminated successfully.\n",
      "         Current function value: 5.013849\n",
      "         Iterations: 1\n",
      "         Function evaluations: 130\n",
      "Optimization terminated successfully.\n",
      "         Current function value: 5.013848\n",
      "         Iterations: 1\n",
      "         Function evaluations: 141\n",
      "Optimization terminated successfully.\n",
      "         Current function value: 5.013847\n",
      "         Iterations: 1\n",
      "         Function evaluations: 151\n",
      "Optimization terminated successfully.\n",
      "         Current function value: 5.013865\n",
      "         Iterations: 1\n",
      "         Function evaluations: 164\n",
      "Optimization terminated successfully.\n",
      "         Current function value: 5.014323\n",
      "         Iterations: 2\n",
      "         Function evaluations: 359\n"
     ]
    },
    {
     "name": "stderr",
     "output_type": "stream",
     "text": [
      "C:\\Users\\leeke\\anaconda3\\envs\\introds\\lib\\site-packages\\statsmodels\\tsa\\statespace\\sarimax.py:966: UserWarning: Non-stationary starting autoregressive parameters found. Using zeros as starting parameters.\n",
      "  warn('Non-stationary starting autoregressive parameters'\n",
      "C:\\Users\\leeke\\anaconda3\\envs\\introds\\lib\\site-packages\\statsmodels\\tsa\\statespace\\sarimax.py:978: UserWarning: Non-invertible starting MA parameters found. Using zeros as starting parameters.\n",
      "  warn('Non-invertible starting MA parameters found.'\n"
     ]
    },
    {
     "name": "stdout",
     "output_type": "stream",
     "text": [
      "Optimization terminated successfully.\n",
      "         Current function value: 5.013837\n",
      "         Iterations: 2\n",
      "         Function evaluations: 364\n"
     ]
    },
    {
     "name": "stderr",
     "output_type": "stream",
     "text": [
      "C:\\Users\\leeke\\anaconda3\\envs\\introds\\lib\\site-packages\\statsmodels\\tsa\\statespace\\sarimax.py:966: UserWarning: Non-stationary starting autoregressive parameters found. Using zeros as starting parameters.\n",
      "  warn('Non-stationary starting autoregressive parameters'\n",
      "C:\\Users\\leeke\\anaconda3\\envs\\introds\\lib\\site-packages\\statsmodels\\tsa\\statespace\\sarimax.py:978: UserWarning: Non-invertible starting MA parameters found. Using zeros as starting parameters.\n",
      "  warn('Non-invertible starting MA parameters found.'\n"
     ]
    },
    {
     "name": "stdout",
     "output_type": "stream",
     "text": [
      "Optimization terminated successfully.\n",
      "         Current function value: 5.013821\n",
      "         Iterations: 2\n",
      "         Function evaluations: 384\n"
     ]
    },
    {
     "name": "stderr",
     "output_type": "stream",
     "text": [
      "C:\\Users\\leeke\\anaconda3\\envs\\introds\\lib\\site-packages\\statsmodels\\tsa\\statespace\\sarimax.py:978: UserWarning: Non-invertible starting MA parameters found. Using zeros as starting parameters.\n",
      "  warn('Non-invertible starting MA parameters found.'\n"
     ]
    },
    {
     "name": "stdout",
     "output_type": "stream",
     "text": [
      "Optimization terminated successfully.\n",
      "         Current function value: 5.014068\n",
      "         Iterations: 7\n",
      "         Function evaluations: 1497\n"
     ]
    },
    {
     "name": "stderr",
     "output_type": "stream",
     "text": [
      "C:\\Users\\leeke\\anaconda3\\envs\\introds\\lib\\site-packages\\statsmodels\\tsa\\statespace\\sarimax.py:966: UserWarning: Non-stationary starting autoregressive parameters found. Using zeros as starting parameters.\n",
      "  warn('Non-stationary starting autoregressive parameters'\n",
      "C:\\Users\\leeke\\anaconda3\\envs\\introds\\lib\\site-packages\\statsmodels\\tsa\\statespace\\sarimax.py:978: UserWarning: Non-invertible starting MA parameters found. Using zeros as starting parameters.\n",
      "  warn('Non-invertible starting MA parameters found.'\n"
     ]
    },
    {
     "name": "stdout",
     "output_type": "stream",
     "text": [
      "Optimization terminated successfully.\n",
      "         Current function value: 5.013803\n",
      "         Iterations: 2\n",
      "         Function evaluations: 424\n"
     ]
    },
    {
     "name": "stderr",
     "output_type": "stream",
     "text": [
      "C:\\Users\\leeke\\anaconda3\\envs\\introds\\lib\\site-packages\\statsmodels\\tsa\\statespace\\sarimax.py:966: UserWarning: Non-stationary starting autoregressive parameters found. Using zeros as starting parameters.\n",
      "  warn('Non-stationary starting autoregressive parameters'\n",
      "C:\\Users\\leeke\\anaconda3\\envs\\introds\\lib\\site-packages\\statsmodels\\tsa\\statespace\\sarimax.py:978: UserWarning: Non-invertible starting MA parameters found. Using zeros as starting parameters.\n",
      "  warn('Non-invertible starting MA parameters found.'\n"
     ]
    },
    {
     "name": "stdout",
     "output_type": "stream",
     "text": [
      "Optimization terminated successfully.\n",
      "         Current function value: 5.013801\n",
      "         Iterations: 2\n",
      "         Function evaluations: 445\n"
     ]
    },
    {
     "name": "stderr",
     "output_type": "stream",
     "text": [
      "C:\\Users\\leeke\\anaconda3\\envs\\introds\\lib\\site-packages\\statsmodels\\tsa\\statespace\\sarimax.py:966: UserWarning: Non-stationary starting autoregressive parameters found. Using zeros as starting parameters.\n",
      "  warn('Non-stationary starting autoregressive parameters'\n",
      "C:\\Users\\leeke\\anaconda3\\envs\\introds\\lib\\site-packages\\statsmodels\\tsa\\statespace\\sarimax.py:978: UserWarning: Non-invertible starting MA parameters found. Using zeros as starting parameters.\n",
      "  warn('Non-invertible starting MA parameters found.'\n"
     ]
    },
    {
     "name": "stdout",
     "output_type": "stream",
     "text": [
      "Optimization terminated successfully.\n",
      "         Current function value: 5.013796\n",
      "         Iterations: 2\n",
      "         Function evaluations: 466\n"
     ]
    },
    {
     "data": {
      "text/html": [
       "<div>\n",
       "<style scoped>\n",
       "    .dataframe tbody tr th:only-of-type {\n",
       "        vertical-align: middle;\n",
       "    }\n",
       "\n",
       "    .dataframe tbody tr th {\n",
       "        vertical-align: top;\n",
       "    }\n",
       "\n",
       "    .dataframe thead th {\n",
       "        text-align: right;\n",
       "    }\n",
       "</style>\n",
       "<table border=\"1\" class=\"dataframe\">\n",
       "  <thead>\n",
       "    <tr style=\"text-align: right;\">\n",
       "      <th></th>\n",
       "      <th>p</th>\n",
       "      <th>q</th>\n",
       "      <th>AIC</th>\n",
       "      <th>BIC</th>\n",
       "    </tr>\n",
       "  </thead>\n",
       "  <tbody>\n",
       "    <tr>\n",
       "      <th>0</th>\n",
       "      <td>0</td>\n",
       "      <td>0</td>\n",
       "      <td>12062.590360</td>\n",
       "      <td>12072.770513</td>\n",
       "    </tr>\n",
       "    <tr>\n",
       "      <th>1</th>\n",
       "      <td>0</td>\n",
       "      <td>1</td>\n",
       "      <td>12063.321735</td>\n",
       "      <td>12078.591965</td>\n",
       "    </tr>\n",
       "    <tr>\n",
       "      <th>2</th>\n",
       "      <td>0</td>\n",
       "      <td>2</td>\n",
       "      <td>12065.310785</td>\n",
       "      <td>12085.671093</td>\n",
       "    </tr>\n",
       "    <tr>\n",
       "      <th>3</th>\n",
       "      <td>0</td>\n",
       "      <td>3</td>\n",
       "      <td>12064.935843</td>\n",
       "      <td>12090.386227</td>\n",
       "    </tr>\n",
       "    <tr>\n",
       "      <th>4</th>\n",
       "      <td>0</td>\n",
       "      <td>4</td>\n",
       "      <td>12066.313207</td>\n",
       "      <td>12096.853668</td>\n",
       "    </tr>\n",
       "    <tr>\n",
       "      <th>...</th>\n",
       "      <td>...</td>\n",
       "      <td>...</td>\n",
       "      <td>...</td>\n",
       "      <td>...</td>\n",
       "    </tr>\n",
       "    <tr>\n",
       "      <th>116</th>\n",
       "      <td>10</td>\n",
       "      <td>6</td>\n",
       "      <td>12079.199094</td>\n",
       "      <td>12170.820477</td>\n",
       "    </tr>\n",
       "    <tr>\n",
       "      <th>117</th>\n",
       "      <td>10</td>\n",
       "      <td>7</td>\n",
       "      <td>12081.791297</td>\n",
       "      <td>12178.502757</td>\n",
       "    </tr>\n",
       "    <tr>\n",
       "      <th>118</th>\n",
       "      <td>10</td>\n",
       "      <td>8</td>\n",
       "      <td>12083.153956</td>\n",
       "      <td>12184.955493</td>\n",
       "    </tr>\n",
       "    <tr>\n",
       "      <th>119</th>\n",
       "      <td>10</td>\n",
       "      <td>9</td>\n",
       "      <td>12085.151158</td>\n",
       "      <td>12192.042771</td>\n",
       "    </tr>\n",
       "    <tr>\n",
       "      <th>120</th>\n",
       "      <td>10</td>\n",
       "      <td>10</td>\n",
       "      <td>12087.137567</td>\n",
       "      <td>12199.119257</td>\n",
       "    </tr>\n",
       "  </tbody>\n",
       "</table>\n",
       "<p>121 rows × 4 columns</p>\n",
       "</div>"
      ],
      "text/plain": [
       "      p   q           AIC           BIC\n",
       "0     0   0  12062.590360  12072.770513\n",
       "1     0   1  12063.321735  12078.591965\n",
       "2     0   2  12065.310785  12085.671093\n",
       "3     0   3  12064.935843  12090.386227\n",
       "4     0   4  12066.313207  12096.853668\n",
       "..   ..  ..           ...           ...\n",
       "116  10   6  12079.199094  12170.820477\n",
       "117  10   7  12081.791297  12178.502757\n",
       "118  10   8  12083.153956  12184.955493\n",
       "119  10   9  12085.151158  12192.042771\n",
       "120  10  10  12087.137567  12199.119257\n",
       "\n",
       "[121 rows x 4 columns]"
      ]
     },
     "execution_count": 70,
     "metadata": {},
     "output_type": "execute_result"
    }
   ],
   "source": [
    "res_7287 = simulate_sarimax(11,11,df_7287)\n",
    "res_7287"
   ]
  },
  {
   "cell_type": "markdown",
   "metadata": {},
   "source": [
    "Perform grid search to find optimal p & q "
   ]
  },
  {
   "cell_type": "code",
   "execution_count": 71,
   "metadata": {},
   "outputs": [
    {
     "name": "stdout",
     "output_type": "stream",
     "text": [
      "      p   q           AIC           BIC\n",
      "14    1   3  12060.324034  12090.864495\n",
      "24    2   2  12060.662615  12091.203076\n",
      "0     0   0  12062.590360  12072.770513\n",
      "1     0   1  12063.321735  12078.591965\n",
      "11    1   0  12063.327016  12078.597246\n",
      "..   ..  ..           ...           ...\n",
      "118  10   8  12083.153956  12184.955493\n",
      "96    8   8  12083.692128  12175.313511\n",
      "109   9  10  12085.075014  12191.966628\n",
      "119  10   9  12085.151158  12192.042771\n",
      "120  10  10  12087.137567  12199.119257\n",
      "\n",
      "[121 rows x 4 columns]\n",
      "      p   q           AIC           BIC\n",
      "0     0   0  12062.590360  12072.770513\n",
      "1     0   1  12063.321735  12078.591965\n",
      "11    1   0  12063.327016  12078.597246\n",
      "2     0   2  12065.310785  12085.671093\n",
      "12    1   1  12065.322177  12085.682484\n",
      "..   ..  ..           ...           ...\n",
      "98    8  10  12083.114013  12184.915550\n",
      "118  10   8  12083.153956  12184.955493\n",
      "109   9  10  12085.075014  12191.966628\n",
      "119  10   9  12085.151158  12192.042771\n",
      "120  10  10  12087.137567  12199.119257\n",
      "\n",
      "[121 rows x 4 columns]\n"
     ]
    }
   ],
   "source": [
    "grid_search(res_7287)\n",
    "#print(f\"best (p,q) for AIC: {aic_7287[aic_7287.index[0]]}, for BIC: {bic_7287[bic_7287.index[0]]}\")"
   ]
  },
  {
   "cell_type": "markdown",
   "metadata": {},
   "source": [
    "We can see that based on the printed dataframes, the (p,q) pair that resulted in the lowest AIC for company code 7287 was (1,3) and for the lowest BIC the (p,q) pair was (0,0)"
   ]
  },
  {
   "cell_type": "markdown",
   "metadata": {},
   "source": [
    "Perform SARIMAX on company code 7282"
   ]
  },
  {
   "cell_type": "code",
   "execution_count": 72,
   "metadata": {},
   "outputs": [
    {
     "name": "stdout",
     "output_type": "stream",
     "text": [
      "Optimization terminated successfully.\n",
      "         Current function value: 5.231868\n",
      "         Iterations: 1\n",
      "         Function evaluations: 63\n",
      "Optimization terminated successfully.\n",
      "         Current function value: 5.231858\n",
      "         Iterations: 1\n",
      "         Function evaluations: 31\n",
      "Optimization terminated successfully.\n",
      "         Current function value: 5.231718\n",
      "         Iterations: 1\n",
      "         Function evaluations: 42\n",
      "Optimization terminated successfully.\n",
      "         Current function value: 5.230895\n",
      "         Iterations: 1\n",
      "         Function evaluations: 52\n",
      "Optimization terminated successfully.\n",
      "         Current function value: 5.229713\n",
      "         Iterations: 1\n",
      "         Function evaluations: 62\n",
      "Optimization terminated successfully.\n",
      "         Current function value: 5.228927\n",
      "         Iterations: 1\n",
      "         Function evaluations: 72\n",
      "Optimization terminated successfully.\n",
      "         Current function value: 5.228911\n",
      "         Iterations: 1\n",
      "         Function evaluations: 83\n",
      "Optimization terminated successfully.\n",
      "         Current function value: 5.228141\n",
      "         Iterations: 1\n",
      "         Function evaluations: 93\n",
      "Optimization terminated successfully.\n",
      "         Current function value: 5.226714\n",
      "         Iterations: 1\n",
      "         Function evaluations: 103\n",
      "Optimization terminated successfully.\n",
      "         Current function value: 5.226711\n",
      "         Iterations: 1\n",
      "         Function evaluations: 114\n",
      "Optimization terminated successfully.\n",
      "         Current function value: 5.226495\n",
      "         Iterations: 1\n",
      "         Function evaluations: 124\n",
      "Optimization terminated successfully.\n",
      "         Current function value: 5.231858\n",
      "         Iterations: 1\n",
      "         Function evaluations: 31\n"
     ]
    },
    {
     "name": "stderr",
     "output_type": "stream",
     "text": [
      "C:\\Users\\leeke\\anaconda3\\envs\\introds\\lib\\site-packages\\statsmodels\\tsa\\statespace\\sarimax.py:966: UserWarning: Non-stationary starting autoregressive parameters found. Using zeros as starting parameters.\n",
      "  warn('Non-stationary starting autoregressive parameters'\n",
      "C:\\Users\\leeke\\anaconda3\\envs\\introds\\lib\\site-packages\\statsmodels\\tsa\\statespace\\sarimax.py:978: UserWarning: Non-invertible starting MA parameters found. Using zeros as starting parameters.\n",
      "  warn('Non-invertible starting MA parameters found.'\n"
     ]
    },
    {
     "name": "stdout",
     "output_type": "stream",
     "text": [
      "Optimization terminated successfully.\n",
      "         Current function value: 5.231858\n",
      "         Iterations: 1\n",
      "         Function evaluations: 42\n",
      "Optimization terminated successfully.\n",
      "         Current function value: 5.231604\n",
      "         Iterations: 1\n",
      "         Function evaluations: 52\n",
      "Optimization terminated successfully.\n",
      "         Current function value: 5.230900\n",
      "         Iterations: 1\n",
      "         Function evaluations: 63\n",
      "Optimization terminated successfully.\n",
      "         Current function value: 5.229366\n",
      "         Iterations: 1\n",
      "         Function evaluations: 76\n",
      "Optimization terminated successfully.\n",
      "         Current function value: 5.229052\n",
      "         Iterations: 1\n",
      "         Function evaluations: 86\n",
      "Optimization terminated successfully.\n",
      "         Current function value: 5.228912\n",
      "         Iterations: 1\n",
      "         Function evaluations: 95\n",
      "Optimization terminated successfully.\n",
      "         Current function value: 5.227849\n",
      "         Iterations: 1\n",
      "         Function evaluations: 105\n",
      "Optimization terminated successfully.\n",
      "         Current function value: 5.226734\n",
      "         Iterations: 1\n",
      "         Function evaluations: 116\n",
      "Optimization terminated successfully.\n",
      "         Current function value: 5.226653\n",
      "         Iterations: 1\n",
      "         Function evaluations: 128\n",
      "Optimization terminated successfully.\n",
      "         Current function value: 5.226243\n",
      "         Iterations: 1\n",
      "         Function evaluations: 137\n",
      "Optimization terminated successfully.\n",
      "         Current function value: 5.231711\n",
      "         Iterations: 1\n",
      "         Function evaluations: 42\n"
     ]
    },
    {
     "name": "stderr",
     "output_type": "stream",
     "text": [
      "C:\\Users\\leeke\\anaconda3\\envs\\introds\\lib\\site-packages\\statsmodels\\tsa\\statespace\\sarimax.py:966: UserWarning: Non-stationary starting autoregressive parameters found. Using zeros as starting parameters.\n",
      "  warn('Non-stationary starting autoregressive parameters'\n",
      "C:\\Users\\leeke\\anaconda3\\envs\\introds\\lib\\site-packages\\statsmodels\\tsa\\statespace\\sarimax.py:978: UserWarning: Non-invertible starting MA parameters found. Using zeros as starting parameters.\n",
      "  warn('Non-invertible starting MA parameters found.'\n"
     ]
    },
    {
     "name": "stdout",
     "output_type": "stream",
     "text": [
      "Optimization terminated successfully.\n",
      "         Current function value: 5.231711\n",
      "         Iterations: 1\n",
      "         Function evaluations: 56\n",
      "Optimization terminated successfully.\n",
      "         Current function value: 5.231170\n",
      "         Iterations: 1\n",
      "         Function evaluations: 69\n",
      "Optimization terminated successfully.\n",
      "         Current function value: 5.230366\n",
      "         Iterations: 1\n",
      "         Function evaluations: 76\n",
      "Optimization terminated successfully.\n",
      "         Current function value: 5.228051\n",
      "         Iterations: 1\n",
      "         Function evaluations: 88\n",
      "Optimization terminated successfully.\n",
      "         Current function value: 5.228188\n",
      "         Iterations: 1\n",
      "         Function evaluations: 97\n",
      "Optimization terminated successfully.\n",
      "         Current function value: 5.228427\n",
      "         Iterations: 1\n",
      "         Function evaluations: 107\n",
      "Optimization terminated successfully.\n",
      "         Current function value: 5.227748\n",
      "         Iterations: 1\n",
      "         Function evaluations: 118\n",
      "Optimization terminated successfully.\n",
      "         Current function value: 5.226508\n",
      "         Iterations: 1\n",
      "         Function evaluations: 128\n",
      "Optimization terminated successfully.\n",
      "         Current function value: 5.226641\n",
      "         Iterations: 1\n",
      "         Function evaluations: 139\n",
      "Optimization terminated successfully.\n",
      "         Current function value: 5.226185\n",
      "         Iterations: 1\n",
      "         Function evaluations: 149\n",
      "Optimization terminated successfully.\n",
      "         Current function value: 5.230957\n",
      "         Iterations: 1\n",
      "         Function evaluations: 55\n",
      "Optimization terminated successfully.\n",
      "         Current function value: 5.230950\n",
      "         Iterations: 1\n",
      "         Function evaluations: 64\n",
      "Optimization terminated successfully.\n",
      "         Current function value: 5.230441\n",
      "         Iterations: 1\n",
      "         Function evaluations: 78\n",
      "Optimization terminated successfully.\n",
      "         Current function value: 5.229735\n",
      "         Iterations: 2\n",
      "         Function evaluations: 180\n",
      "Optimization terminated successfully.\n",
      "         Current function value: 5.227991\n",
      "         Iterations: 1\n",
      "         Function evaluations: 99\n",
      "Optimization terminated successfully.\n",
      "         Current function value: 5.227926\n",
      "         Iterations: 1\n",
      "         Function evaluations: 109\n",
      "Optimization terminated successfully.\n",
      "         Current function value: 5.227719\n",
      "         Iterations: 1\n",
      "         Function evaluations: 121\n",
      "Optimization terminated successfully.\n",
      "         Current function value: 5.227820\n",
      "         Iterations: 1\n",
      "         Function evaluations: 129\n",
      "Optimization terminated successfully.\n",
      "         Current function value: 5.226983\n",
      "         Iterations: 1\n",
      "         Function evaluations: 142\n",
      "Optimization terminated successfully.\n",
      "         Current function value: 5.226660\n",
      "         Iterations: 1\n",
      "         Function evaluations: 148\n",
      "Optimization terminated successfully.\n",
      "         Current function value: 5.226176\n",
      "         Iterations: 1\n",
      "         Function evaluations: 161\n",
      "Optimization terminated successfully.\n",
      "         Current function value: 5.229714\n",
      "         Iterations: 1\n",
      "         Function evaluations: 65\n",
      "Optimization terminated successfully.\n",
      "         Current function value: 5.229719\n",
      "         Iterations: 1\n",
      "         Function evaluations: 74\n",
      "Optimization terminated successfully.\n",
      "         Current function value: 5.230687\n",
      "         Iterations: 2\n",
      "         Function evaluations: 181\n"
     ]
    },
    {
     "name": "stderr",
     "output_type": "stream",
     "text": [
      "C:\\Users\\leeke\\anaconda3\\envs\\introds\\lib\\site-packages\\statsmodels\\tsa\\statespace\\sarimax.py:966: UserWarning: Non-stationary starting autoregressive parameters found. Using zeros as starting parameters.\n",
      "  warn('Non-stationary starting autoregressive parameters'\n",
      "C:\\Users\\leeke\\anaconda3\\envs\\introds\\lib\\site-packages\\statsmodels\\tsa\\statespace\\sarimax.py:978: UserWarning: Non-invertible starting MA parameters found. Using zeros as starting parameters.\n",
      "  warn('Non-invertible starting MA parameters found.'\n"
     ]
    },
    {
     "name": "stdout",
     "output_type": "stream",
     "text": [
      "Optimization terminated successfully.\n",
      "         Current function value: 5.229702\n",
      "         Iterations: 2\n",
      "         Function evaluations: 190\n",
      "Optimization terminated successfully.\n",
      "         Current function value: 5.227931\n",
      "         Iterations: 1\n",
      "         Function evaluations: 110\n",
      "Optimization terminated successfully.\n",
      "         Current function value: 5.228084\n",
      "         Iterations: 1\n",
      "         Function evaluations: 122\n",
      "Optimization terminated successfully.\n",
      "         Current function value: 5.227811\n",
      "         Iterations: 1\n",
      "         Function evaluations: 130\n"
     ]
    },
    {
     "name": "stderr",
     "output_type": "stream",
     "text": [
      "C:\\Users\\leeke\\anaconda3\\envs\\introds\\lib\\site-packages\\statsmodels\\tsa\\statespace\\sarimax.py:966: UserWarning: Non-stationary starting autoregressive parameters found. Using zeros as starting parameters.\n",
      "  warn('Non-stationary starting autoregressive parameters'\n",
      "C:\\Users\\leeke\\anaconda3\\envs\\introds\\lib\\site-packages\\statsmodels\\tsa\\statespace\\sarimax.py:978: UserWarning: Non-invertible starting MA parameters found. Using zeros as starting parameters.\n",
      "  warn('Non-invertible starting MA parameters found.'\n"
     ]
    },
    {
     "name": "stdout",
     "output_type": "stream",
     "text": [
      "Optimization terminated successfully.\n",
      "         Current function value: 5.228259\n",
      "         Iterations: 2\n",
      "         Function evaluations: 273\n"
     ]
    },
    {
     "name": "stderr",
     "output_type": "stream",
     "text": [
      "C:\\Users\\leeke\\anaconda3\\envs\\introds\\lib\\site-packages\\statsmodels\\tsa\\statespace\\sarimax.py:966: UserWarning: Non-stationary starting autoregressive parameters found. Using zeros as starting parameters.\n",
      "  warn('Non-stationary starting autoregressive parameters'\n",
      "C:\\Users\\leeke\\anaconda3\\envs\\introds\\lib\\site-packages\\statsmodels\\tsa\\statespace\\sarimax.py:978: UserWarning: Non-invertible starting MA parameters found. Using zeros as starting parameters.\n",
      "  warn('Non-invertible starting MA parameters found.'\n"
     ]
    },
    {
     "name": "stdout",
     "output_type": "stream",
     "text": [
      "Optimization terminated successfully.\n",
      "         Current function value: 5.226695\n",
      "         Iterations: 2\n",
      "         Function evaluations: 293\n",
      "Optimization terminated successfully.\n",
      "         Current function value: 5.226015\n",
      "         Iterations: 1\n",
      "         Function evaluations: 161\n",
      "Optimization terminated successfully.\n",
      "         Current function value: 5.225711\n",
      "         Iterations: 1\n",
      "         Function evaluations: 171\n",
      "Optimization terminated successfully.\n",
      "         Current function value: 5.228846\n",
      "         Iterations: 1\n",
      "         Function evaluations: 77\n",
      "Optimization terminated successfully.\n",
      "         Current function value: 5.228846\n",
      "         Iterations: 1\n",
      "         Function evaluations: 87\n",
      "Optimization terminated successfully.\n",
      "         Current function value: 5.228855\n",
      "         Iterations: 1\n",
      "         Function evaluations: 97\n"
     ]
    },
    {
     "name": "stderr",
     "output_type": "stream",
     "text": [
      "C:\\Users\\leeke\\anaconda3\\envs\\introds\\lib\\site-packages\\statsmodels\\tsa\\statespace\\sarimax.py:966: UserWarning: Non-stationary starting autoregressive parameters found. Using zeros as starting parameters.\n",
      "  warn('Non-stationary starting autoregressive parameters'\n",
      "C:\\Users\\leeke\\anaconda3\\envs\\introds\\lib\\site-packages\\statsmodels\\tsa\\statespace\\sarimax.py:978: UserWarning: Non-invertible starting MA parameters found. Using zeros as starting parameters.\n",
      "  warn('Non-invertible starting MA parameters found.'\n"
     ]
    },
    {
     "name": "stdout",
     "output_type": "stream",
     "text": [
      "Optimization terminated successfully.\n",
      "         Current function value: 5.228819\n",
      "         Iterations: 2\n",
      "         Function evaluations: 213\n",
      "Optimization terminated successfully.\n",
      "         Current function value: 5.227917\n",
      "         Iterations: 1\n",
      "         Function evaluations: 121\n",
      "Optimization terminated successfully.\n",
      "         Current function value: 5.228070\n",
      "         Iterations: 1\n",
      "         Function evaluations: 133\n",
      "Optimization terminated successfully.\n",
      "         Current function value: 5.227816\n",
      "         Iterations: 1\n",
      "         Function evaluations: 142\n"
     ]
    },
    {
     "name": "stderr",
     "output_type": "stream",
     "text": [
      "C:\\Users\\leeke\\anaconda3\\envs\\introds\\lib\\site-packages\\statsmodels\\tsa\\statespace\\sarimax.py:966: UserWarning: Non-stationary starting autoregressive parameters found. Using zeros as starting parameters.\n",
      "  warn('Non-stationary starting autoregressive parameters'\n",
      "C:\\Users\\leeke\\anaconda3\\envs\\introds\\lib\\site-packages\\statsmodels\\tsa\\statespace\\sarimax.py:978: UserWarning: Non-invertible starting MA parameters found. Using zeros as starting parameters.\n",
      "  warn('Non-invertible starting MA parameters found.'\n"
     ]
    },
    {
     "name": "stdout",
     "output_type": "stream",
     "text": [
      "Optimization terminated successfully.\n",
      "         Current function value: 5.228176\n",
      "         Iterations: 2\n",
      "         Function evaluations: 295\n"
     ]
    },
    {
     "name": "stderr",
     "output_type": "stream",
     "text": [
      "C:\\Users\\leeke\\anaconda3\\envs\\introds\\lib\\site-packages\\statsmodels\\tsa\\statespace\\sarimax.py:966: UserWarning: Non-stationary starting autoregressive parameters found. Using zeros as starting parameters.\n",
      "  warn('Non-stationary starting autoregressive parameters'\n",
      "C:\\Users\\leeke\\anaconda3\\envs\\introds\\lib\\site-packages\\statsmodels\\tsa\\statespace\\sarimax.py:978: UserWarning: Non-invertible starting MA parameters found. Using zeros as starting parameters.\n",
      "  warn('Non-invertible starting MA parameters found.'\n"
     ]
    },
    {
     "name": "stdout",
     "output_type": "stream",
     "text": [
      "Optimization terminated successfully.\n",
      "         Current function value: 5.226725\n",
      "         Iterations: 2\n",
      "         Function evaluations: 314\n",
      "Optimization terminated successfully.\n",
      "         Current function value: 5.225744\n",
      "         Iterations: 2\n",
      "         Function evaluations: 358\n",
      "Optimization terminated successfully.\n",
      "         Current function value: 5.224618\n",
      "         Iterations: 2\n",
      "         Function evaluations: 376\n",
      "Optimization terminated successfully.\n",
      "         Current function value: 5.228846\n",
      "         Iterations: 1\n",
      "         Function evaluations: 103\n",
      "Optimization terminated successfully.\n",
      "         Current function value: 5.228846\n",
      "         Iterations: 1\n",
      "         Function evaluations: 101\n",
      "Optimization terminated successfully.\n",
      "         Current function value: 5.228830\n",
      "         Iterations: 1\n",
      "         Function evaluations: 109\n"
     ]
    },
    {
     "name": "stderr",
     "output_type": "stream",
     "text": [
      "C:\\Users\\leeke\\anaconda3\\envs\\introds\\lib\\site-packages\\statsmodels\\tsa\\statespace\\sarimax.py:966: UserWarning: Non-stationary starting autoregressive parameters found. Using zeros as starting parameters.\n",
      "  warn('Non-stationary starting autoregressive parameters'\n",
      "C:\\Users\\leeke\\anaconda3\\envs\\introds\\lib\\site-packages\\statsmodels\\tsa\\statespace\\sarimax.py:978: UserWarning: Non-invertible starting MA parameters found. Using zeros as starting parameters.\n",
      "  warn('Non-invertible starting MA parameters found.'\n"
     ]
    },
    {
     "name": "stdout",
     "output_type": "stream",
     "text": [
      "Optimization terminated successfully.\n",
      "         Current function value: 5.228819\n",
      "         Iterations: 2\n",
      "         Function evaluations: 236\n"
     ]
    },
    {
     "name": "stderr",
     "output_type": "stream",
     "text": [
      "C:\\Users\\leeke\\anaconda3\\envs\\introds\\lib\\site-packages\\statsmodels\\tsa\\statespace\\sarimax.py:966: UserWarning: Non-stationary starting autoregressive parameters found. Using zeros as starting parameters.\n",
      "  warn('Non-stationary starting autoregressive parameters'\n",
      "C:\\Users\\leeke\\anaconda3\\envs\\introds\\lib\\site-packages\\statsmodels\\tsa\\statespace\\sarimax.py:978: UserWarning: Non-invertible starting MA parameters found. Using zeros as starting parameters.\n",
      "  warn('Non-invertible starting MA parameters found.'\n"
     ]
    },
    {
     "name": "stdout",
     "output_type": "stream",
     "text": [
      "Optimization terminated successfully.\n",
      "         Current function value: 5.228816\n",
      "         Iterations: 2\n",
      "         Function evaluations: 254\n",
      "Optimization terminated successfully.\n",
      "         Current function value: 5.227850\n",
      "         Iterations: 1\n",
      "         Function evaluations: 148\n",
      "Optimization terminated successfully.\n",
      "         Current function value: 5.225235\n",
      "         Iterations: 1\n",
      "         Function evaluations: 159\n"
     ]
    },
    {
     "name": "stderr",
     "output_type": "stream",
     "text": [
      "C:\\Users\\leeke\\anaconda3\\envs\\introds\\lib\\site-packages\\statsmodels\\tsa\\statespace\\sarimax.py:966: UserWarning: Non-stationary starting autoregressive parameters found. Using zeros as starting parameters.\n",
      "  warn('Non-stationary starting autoregressive parameters'\n",
      "C:\\Users\\leeke\\anaconda3\\envs\\introds\\lib\\site-packages\\statsmodels\\tsa\\statespace\\sarimax.py:978: UserWarning: Non-invertible starting MA parameters found. Using zeros as starting parameters.\n",
      "  warn('Non-invertible starting MA parameters found.'\n"
     ]
    },
    {
     "name": "stdout",
     "output_type": "stream",
     "text": [
      "Optimization terminated successfully.\n",
      "         Current function value: 5.228176\n",
      "         Iterations: 2\n",
      "         Function evaluations: 316\n"
     ]
    },
    {
     "name": "stderr",
     "output_type": "stream",
     "text": [
      "C:\\Users\\leeke\\anaconda3\\envs\\introds\\lib\\site-packages\\statsmodels\\tsa\\statespace\\sarimax.py:966: UserWarning: Non-stationary starting autoregressive parameters found. Using zeros as starting parameters.\n",
      "  warn('Non-stationary starting autoregressive parameters'\n",
      "C:\\Users\\leeke\\anaconda3\\envs\\introds\\lib\\site-packages\\statsmodels\\tsa\\statespace\\sarimax.py:978: UserWarning: Non-invertible starting MA parameters found. Using zeros as starting parameters.\n",
      "  warn('Non-invertible starting MA parameters found.'\n"
     ]
    },
    {
     "name": "stdout",
     "output_type": "stream",
     "text": [
      "Optimization terminated successfully.\n",
      "         Current function value: 5.226740\n",
      "         Iterations: 2\n",
      "         Function evaluations: 337\n",
      "Optimization terminated successfully.\n",
      "         Current function value: 5.225910\n",
      "         Iterations: 2\n",
      "         Function evaluations: 383\n",
      "Optimization terminated successfully.\n",
      "         Current function value: 5.225427\n",
      "         Iterations: 2\n",
      "         Function evaluations: 403\n",
      "Optimization terminated successfully.\n",
      "         Current function value: 5.228172\n",
      "         Iterations: 1\n",
      "         Function evaluations: 99\n",
      "Optimization terminated successfully.\n",
      "         Current function value: 5.228177\n",
      "         Iterations: 1\n",
      "         Function evaluations: 108\n",
      "Optimization terminated successfully.\n",
      "         Current function value: 5.228176\n",
      "         Iterations: 1\n",
      "         Function evaluations: 120\n"
     ]
    },
    {
     "name": "stderr",
     "output_type": "stream",
     "text": [
      "C:\\Users\\leeke\\anaconda3\\envs\\introds\\lib\\site-packages\\statsmodels\\tsa\\statespace\\sarimax.py:966: UserWarning: Non-stationary starting autoregressive parameters found. Using zeros as starting parameters.\n",
      "  warn('Non-stationary starting autoregressive parameters'\n",
      "C:\\Users\\leeke\\anaconda3\\envs\\introds\\lib\\site-packages\\statsmodels\\tsa\\statespace\\sarimax.py:978: UserWarning: Non-invertible starting MA parameters found. Using zeros as starting parameters.\n",
      "  warn('Non-invertible starting MA parameters found.'\n"
     ]
    },
    {
     "name": "stdout",
     "output_type": "stream",
     "text": [
      "Optimization terminated successfully.\n",
      "         Current function value: 5.228162\n",
      "         Iterations: 2\n",
      "         Function evaluations: 260\n"
     ]
    },
    {
     "name": "stderr",
     "output_type": "stream",
     "text": [
      "C:\\Users\\leeke\\anaconda3\\envs\\introds\\lib\\site-packages\\statsmodels\\tsa\\statespace\\sarimax.py:966: UserWarning: Non-stationary starting autoregressive parameters found. Using zeros as starting parameters.\n",
      "  warn('Non-stationary starting autoregressive parameters'\n",
      "C:\\Users\\leeke\\anaconda3\\envs\\introds\\lib\\site-packages\\statsmodels\\tsa\\statespace\\sarimax.py:978: UserWarning: Non-invertible starting MA parameters found. Using zeros as starting parameters.\n",
      "  warn('Non-invertible starting MA parameters found.'\n"
     ]
    },
    {
     "name": "stdout",
     "output_type": "stream",
     "text": [
      "Optimization terminated successfully.\n",
      "         Current function value: 5.228142\n",
      "         Iterations: 2\n",
      "         Function evaluations: 278\n",
      "Optimization terminated successfully.\n",
      "         Current function value: 5.226823\n",
      "         Iterations: 2\n",
      "         Function evaluations: 322\n"
     ]
    },
    {
     "name": "stderr",
     "output_type": "stream",
     "text": [
      "C:\\Users\\leeke\\anaconda3\\envs\\introds\\lib\\site-packages\\statsmodels\\tsa\\statespace\\sarimax.py:966: UserWarning: Non-stationary starting autoregressive parameters found. Using zeros as starting parameters.\n",
      "  warn('Non-stationary starting autoregressive parameters'\n",
      "C:\\Users\\leeke\\anaconda3\\envs\\introds\\lib\\site-packages\\statsmodels\\tsa\\statespace\\sarimax.py:978: UserWarning: Non-invertible starting MA parameters found. Using zeros as starting parameters.\n",
      "  warn('Non-invertible starting MA parameters found.'\n"
     ]
    },
    {
     "name": "stdout",
     "output_type": "stream",
     "text": [
      "Optimization terminated successfully.\n",
      "         Current function value: 5.228137\n",
      "         Iterations: 2\n",
      "         Function evaluations: 320\n"
     ]
    },
    {
     "name": "stderr",
     "output_type": "stream",
     "text": [
      "C:\\Users\\leeke\\anaconda3\\envs\\introds\\lib\\site-packages\\statsmodels\\tsa\\statespace\\sarimax.py:966: UserWarning: Non-stationary starting autoregressive parameters found. Using zeros as starting parameters.\n",
      "  warn('Non-stationary starting autoregressive parameters'\n",
      "C:\\Users\\leeke\\anaconda3\\envs\\introds\\lib\\site-packages\\statsmodels\\tsa\\statespace\\sarimax.py:978: UserWarning: Non-invertible starting MA parameters found. Using zeros as starting parameters.\n",
      "  warn('Non-invertible starting MA parameters found.'\n"
     ]
    },
    {
     "name": "stdout",
     "output_type": "stream",
     "text": [
      "Optimization terminated successfully.\n",
      "         Current function value: 5.228136\n",
      "         Iterations: 2\n",
      "         Function evaluations: 341\n"
     ]
    },
    {
     "name": "stderr",
     "output_type": "stream",
     "text": [
      "C:\\Users\\leeke\\anaconda3\\envs\\introds\\lib\\site-packages\\statsmodels\\tsa\\statespace\\sarimax.py:966: UserWarning: Non-stationary starting autoregressive parameters found. Using zeros as starting parameters.\n",
      "  warn('Non-stationary starting autoregressive parameters'\n",
      "C:\\Users\\leeke\\anaconda3\\envs\\introds\\lib\\site-packages\\statsmodels\\tsa\\statespace\\sarimax.py:978: UserWarning: Non-invertible starting MA parameters found. Using zeros as starting parameters.\n",
      "  warn('Non-invertible starting MA parameters found.'\n"
     ]
    },
    {
     "name": "stdout",
     "output_type": "stream",
     "text": [
      "Optimization terminated successfully.\n",
      "         Current function value: 5.226737\n",
      "         Iterations: 2\n",
      "         Function evaluations: 361\n",
      "Optimization terminated successfully.\n",
      "         Current function value: 5.225372\n",
      "         Iterations: 1\n",
      "         Function evaluations: 204\n",
      "Optimization terminated successfully.\n",
      "         Current function value: 5.224563\n",
      "         Iterations: 2\n",
      "         Function evaluations: 427\n",
      "Optimization terminated successfully.\n",
      "         Current function value: 5.226806\n",
      "         Iterations: 1\n",
      "         Function evaluations: 108\n",
      "Optimization terminated successfully.\n",
      "         Current function value: 5.226806\n",
      "         Iterations: 1\n",
      "         Function evaluations: 118\n",
      "Optimization terminated successfully.\n",
      "         Current function value: 5.226813\n",
      "         Iterations: 1\n",
      "         Function evaluations: 128\n"
     ]
    },
    {
     "name": "stderr",
     "output_type": "stream",
     "text": [
      "C:\\Users\\leeke\\anaconda3\\envs\\introds\\lib\\site-packages\\statsmodels\\tsa\\statespace\\sarimax.py:966: UserWarning: Non-stationary starting autoregressive parameters found. Using zeros as starting parameters.\n",
      "  warn('Non-stationary starting autoregressive parameters'\n",
      "C:\\Users\\leeke\\anaconda3\\envs\\introds\\lib\\site-packages\\statsmodels\\tsa\\statespace\\sarimax.py:978: UserWarning: Non-invertible starting MA parameters found. Using zeros as starting parameters.\n",
      "  warn('Non-invertible starting MA parameters found.'\n"
     ]
    },
    {
     "name": "stdout",
     "output_type": "stream",
     "text": [
      "Optimization terminated successfully.\n",
      "         Current function value: 5.226805\n",
      "         Iterations: 2\n",
      "         Function evaluations: 281\n"
     ]
    },
    {
     "name": "stderr",
     "output_type": "stream",
     "text": [
      "C:\\Users\\leeke\\anaconda3\\envs\\introds\\lib\\site-packages\\statsmodels\\tsa\\statespace\\sarimax.py:966: UserWarning: Non-stationary starting autoregressive parameters found. Using zeros as starting parameters.\n",
      "  warn('Non-stationary starting autoregressive parameters'\n",
      "C:\\Users\\leeke\\anaconda3\\envs\\introds\\lib\\site-packages\\statsmodels\\tsa\\statespace\\sarimax.py:978: UserWarning: Non-invertible starting MA parameters found. Using zeros as starting parameters.\n",
      "  warn('Non-invertible starting MA parameters found.'\n"
     ]
    },
    {
     "name": "stdout",
     "output_type": "stream",
     "text": [
      "Optimization terminated successfully.\n",
      "         Current function value: 5.226804\n",
      "         Iterations: 2\n",
      "         Function evaluations: 299\n",
      "Optimization terminated successfully.\n",
      "         Current function value: 5.226680\n",
      "         Iterations: 1\n",
      "         Function evaluations: 165\n"
     ]
    },
    {
     "name": "stderr",
     "output_type": "stream",
     "text": [
      "C:\\Users\\leeke\\anaconda3\\envs\\introds\\lib\\site-packages\\statsmodels\\tsa\\statespace\\sarimax.py:966: UserWarning: Non-stationary starting autoregressive parameters found. Using zeros as starting parameters.\n",
      "  warn('Non-stationary starting autoregressive parameters'\n",
      "C:\\Users\\leeke\\anaconda3\\envs\\introds\\lib\\site-packages\\statsmodels\\tsa\\statespace\\sarimax.py:978: UserWarning: Non-invertible starting MA parameters found. Using zeros as starting parameters.\n",
      "  warn('Non-invertible starting MA parameters found.'\n"
     ]
    },
    {
     "name": "stdout",
     "output_type": "stream",
     "text": [
      "Optimization terminated successfully.\n",
      "         Current function value: 5.226791\n",
      "         Iterations: 2\n",
      "         Function evaluations: 339\n"
     ]
    },
    {
     "name": "stderr",
     "output_type": "stream",
     "text": [
      "C:\\Users\\leeke\\anaconda3\\envs\\introds\\lib\\site-packages\\statsmodels\\tsa\\statespace\\sarimax.py:966: UserWarning: Non-stationary starting autoregressive parameters found. Using zeros as starting parameters.\n",
      "  warn('Non-stationary starting autoregressive parameters'\n",
      "C:\\Users\\leeke\\anaconda3\\envs\\introds\\lib\\site-packages\\statsmodels\\tsa\\statespace\\sarimax.py:978: UserWarning: Non-invertible starting MA parameters found. Using zeros as starting parameters.\n",
      "  warn('Non-invertible starting MA parameters found.'\n"
     ]
    },
    {
     "name": "stdout",
     "output_type": "stream",
     "text": [
      "Optimization terminated successfully.\n",
      "         Current function value: 5.226791\n",
      "         Iterations: 2\n",
      "         Function evaluations: 361\n"
     ]
    },
    {
     "name": "stderr",
     "output_type": "stream",
     "text": [
      "C:\\Users\\leeke\\anaconda3\\envs\\introds\\lib\\site-packages\\statsmodels\\tsa\\statespace\\sarimax.py:966: UserWarning: Non-stationary starting autoregressive parameters found. Using zeros as starting parameters.\n",
      "  warn('Non-stationary starting autoregressive parameters'\n",
      "C:\\Users\\leeke\\anaconda3\\envs\\introds\\lib\\site-packages\\statsmodels\\tsa\\statespace\\sarimax.py:978: UserWarning: Non-invertible starting MA parameters found. Using zeros as starting parameters.\n",
      "  warn('Non-invertible starting MA parameters found.'\n"
     ]
    },
    {
     "name": "stdout",
     "output_type": "stream",
     "text": [
      "Optimization terminated successfully.\n",
      "         Current function value: 5.226786\n",
      "         Iterations: 2\n",
      "         Function evaluations: 383\n",
      "Optimization terminated successfully.\n",
      "         Current function value: 5.225136\n",
      "         Iterations: 1\n",
      "         Function evaluations: 216\n",
      "Optimization terminated successfully.\n",
      "         Current function value: 5.224755\n",
      "         Iterations: 2\n",
      "         Function evaluations: 456\n",
      "Optimization terminated successfully.\n",
      "         Current function value: 5.226805\n",
      "         Iterations: 1\n",
      "         Function evaluations: 121\n",
      "Optimization terminated successfully.\n",
      "         Current function value: 5.226805\n",
      "         Iterations: 1\n",
      "         Function evaluations: 129\n",
      "Optimization terminated successfully.\n",
      "         Current function value: 5.226812\n",
      "         Iterations: 1\n",
      "         Function evaluations: 140\n",
      "Optimization terminated successfully.\n",
      "         Current function value: 5.226826\n",
      "         Iterations: 1\n",
      "         Function evaluations: 150\n"
     ]
    },
    {
     "name": "stderr",
     "output_type": "stream",
     "text": [
      "C:\\Users\\leeke\\anaconda3\\envs\\introds\\lib\\site-packages\\statsmodels\\tsa\\statespace\\sarimax.py:966: UserWarning: Non-stationary starting autoregressive parameters found. Using zeros as starting parameters.\n",
      "  warn('Non-stationary starting autoregressive parameters'\n",
      "C:\\Users\\leeke\\anaconda3\\envs\\introds\\lib\\site-packages\\statsmodels\\tsa\\statespace\\sarimax.py:978: UserWarning: Non-invertible starting MA parameters found. Using zeros as starting parameters.\n",
      "  warn('Non-invertible starting MA parameters found.'\n"
     ]
    },
    {
     "name": "stdout",
     "output_type": "stream",
     "text": [
      "Optimization terminated successfully.\n",
      "         Current function value: 5.226803\n",
      "         Iterations: 2\n",
      "         Function evaluations: 322\n"
     ]
    },
    {
     "name": "stderr",
     "output_type": "stream",
     "text": [
      "C:\\Users\\leeke\\anaconda3\\envs\\introds\\lib\\site-packages\\statsmodels\\tsa\\statespace\\sarimax.py:966: UserWarning: Non-stationary starting autoregressive parameters found. Using zeros as starting parameters.\n",
      "  warn('Non-stationary starting autoregressive parameters'\n",
      "C:\\Users\\leeke\\anaconda3\\envs\\introds\\lib\\site-packages\\statsmodels\\tsa\\statespace\\sarimax.py:978: UserWarning: Non-invertible starting MA parameters found. Using zeros as starting parameters.\n",
      "  warn('Non-invertible starting MA parameters found.'\n"
     ]
    },
    {
     "name": "stdout",
     "output_type": "stream",
     "text": [
      "Optimization terminated successfully.\n",
      "         Current function value: 5.226802\n",
      "         Iterations: 2\n",
      "         Function evaluations: 340\n"
     ]
    },
    {
     "name": "stderr",
     "output_type": "stream",
     "text": [
      "C:\\Users\\leeke\\anaconda3\\envs\\introds\\lib\\site-packages\\statsmodels\\tsa\\statespace\\sarimax.py:966: UserWarning: Non-stationary starting autoregressive parameters found. Using zeros as starting parameters.\n",
      "  warn('Non-stationary starting autoregressive parameters'\n",
      "C:\\Users\\leeke\\anaconda3\\envs\\introds\\lib\\site-packages\\statsmodels\\tsa\\statespace\\sarimax.py:978: UserWarning: Non-invertible starting MA parameters found. Using zeros as starting parameters.\n",
      "  warn('Non-invertible starting MA parameters found.'\n"
     ]
    },
    {
     "name": "stdout",
     "output_type": "stream",
     "text": [
      "Optimization terminated successfully.\n",
      "         Current function value: 5.226790\n",
      "         Iterations: 2\n",
      "         Function evaluations: 362\n"
     ]
    },
    {
     "name": "stderr",
     "output_type": "stream",
     "text": [
      "C:\\Users\\leeke\\anaconda3\\envs\\introds\\lib\\site-packages\\statsmodels\\tsa\\statespace\\sarimax.py:966: UserWarning: Non-stationary starting autoregressive parameters found. Using zeros as starting parameters.\n",
      "  warn('Non-stationary starting autoregressive parameters'\n",
      "C:\\Users\\leeke\\anaconda3\\envs\\introds\\lib\\site-packages\\statsmodels\\tsa\\statespace\\sarimax.py:978: UserWarning: Non-invertible starting MA parameters found. Using zeros as starting parameters.\n",
      "  warn('Non-invertible starting MA parameters found.'\n"
     ]
    },
    {
     "name": "stdout",
     "output_type": "stream",
     "text": [
      "Optimization terminated successfully.\n",
      "         Current function value: 5.226790\n",
      "         Iterations: 2\n",
      "         Function evaluations: 384\n"
     ]
    },
    {
     "name": "stderr",
     "output_type": "stream",
     "text": [
      "C:\\Users\\leeke\\anaconda3\\envs\\introds\\lib\\site-packages\\statsmodels\\tsa\\statespace\\sarimax.py:966: UserWarning: Non-stationary starting autoregressive parameters found. Using zeros as starting parameters.\n",
      "  warn('Non-stationary starting autoregressive parameters'\n",
      "C:\\Users\\leeke\\anaconda3\\envs\\introds\\lib\\site-packages\\statsmodels\\tsa\\statespace\\sarimax.py:978: UserWarning: Non-invertible starting MA parameters found. Using zeros as starting parameters.\n",
      "  warn('Non-invertible starting MA parameters found.'\n"
     ]
    },
    {
     "name": "stdout",
     "output_type": "stream",
     "text": [
      "Optimization terminated successfully.\n",
      "         Current function value: 5.226785\n",
      "         Iterations: 2\n",
      "         Function evaluations: 405\n",
      "Optimization terminated successfully.\n",
      "         Current function value: 5.225073\n",
      "         Iterations: 1\n",
      "         Function evaluations: 233\n",
      "Optimization terminated successfully.\n",
      "         Current function value: 5.224282\n",
      "         Iterations: 2\n",
      "         Function evaluations: 480\n",
      "Optimization terminated successfully.\n",
      "         Current function value: 5.226720\n",
      "         Iterations: 1\n",
      "         Function evaluations: 130\n",
      "Optimization terminated successfully.\n",
      "         Current function value: 5.226720\n",
      "         Iterations: 1\n",
      "         Function evaluations: 140\n",
      "Optimization terminated successfully.\n",
      "         Current function value: 5.226721\n",
      "         Iterations: 1\n",
      "         Function evaluations: 150\n",
      "Optimization terminated successfully.\n",
      "         Current function value: 5.226743\n",
      "         Iterations: 1\n",
      "         Function evaluations: 162\n",
      "Optimization terminated successfully.\n",
      "         Current function value: 5.226479\n",
      "         Iterations: 1\n",
      "         Function evaluations: 180\n"
     ]
    },
    {
     "name": "stderr",
     "output_type": "stream",
     "text": [
      "C:\\Users\\leeke\\anaconda3\\envs\\introds\\lib\\site-packages\\statsmodels\\tsa\\statespace\\sarimax.py:966: UserWarning: Non-stationary starting autoregressive parameters found. Using zeros as starting parameters.\n",
      "  warn('Non-stationary starting autoregressive parameters'\n",
      "C:\\Users\\leeke\\anaconda3\\envs\\introds\\lib\\site-packages\\statsmodels\\tsa\\statespace\\sarimax.py:978: UserWarning: Non-invertible starting MA parameters found. Using zeros as starting parameters.\n",
      "  warn('Non-invertible starting MA parameters found.'\n"
     ]
    },
    {
     "name": "stdout",
     "output_type": "stream",
     "text": [
      "Optimization terminated successfully.\n",
      "         Current function value: 5.226715\n",
      "         Iterations: 2\n",
      "         Function evaluations: 369\n"
     ]
    },
    {
     "name": "stderr",
     "output_type": "stream",
     "text": [
      "C:\\Users\\leeke\\anaconda3\\envs\\introds\\lib\\site-packages\\statsmodels\\tsa\\statespace\\sarimax.py:966: UserWarning: Non-stationary starting autoregressive parameters found. Using zeros as starting parameters.\n",
      "  warn('Non-stationary starting autoregressive parameters'\n",
      "C:\\Users\\leeke\\anaconda3\\envs\\introds\\lib\\site-packages\\statsmodels\\tsa\\statespace\\sarimax.py:978: UserWarning: Non-invertible starting MA parameters found. Using zeros as starting parameters.\n",
      "  warn('Non-invertible starting MA parameters found.'\n"
     ]
    },
    {
     "name": "stdout",
     "output_type": "stream",
     "text": [
      "Optimization terminated successfully.\n",
      "         Current function value: 5.226710\n",
      "         Iterations: 2\n",
      "         Function evaluations: 403\n"
     ]
    },
    {
     "name": "stderr",
     "output_type": "stream",
     "text": [
      "C:\\Users\\leeke\\anaconda3\\envs\\introds\\lib\\site-packages\\statsmodels\\tsa\\statespace\\sarimax.py:966: UserWarning: Non-stationary starting autoregressive parameters found. Using zeros as starting parameters.\n",
      "  warn('Non-stationary starting autoregressive parameters'\n",
      "C:\\Users\\leeke\\anaconda3\\envs\\introds\\lib\\site-packages\\statsmodels\\tsa\\statespace\\sarimax.py:978: UserWarning: Non-invertible starting MA parameters found. Using zeros as starting parameters.\n",
      "  warn('Non-invertible starting MA parameters found.'\n"
     ]
    },
    {
     "name": "stdout",
     "output_type": "stream",
     "text": [
      "Optimization terminated successfully.\n",
      "         Current function value: 5.226710\n",
      "         Iterations: 2\n",
      "         Function evaluations: 410\n"
     ]
    },
    {
     "name": "stderr",
     "output_type": "stream",
     "text": [
      "C:\\Users\\leeke\\anaconda3\\envs\\introds\\lib\\site-packages\\statsmodels\\tsa\\statespace\\sarimax.py:966: UserWarning: Non-stationary starting autoregressive parameters found. Using zeros as starting parameters.\n",
      "  warn('Non-stationary starting autoregressive parameters'\n",
      "C:\\Users\\leeke\\anaconda3\\envs\\introds\\lib\\site-packages\\statsmodels\\tsa\\statespace\\sarimax.py:978: UserWarning: Non-invertible starting MA parameters found. Using zeros as starting parameters.\n",
      "  warn('Non-invertible starting MA parameters found.'\n"
     ]
    },
    {
     "name": "stdout",
     "output_type": "stream",
     "text": [
      "Optimization terminated successfully.\n",
      "         Current function value: 5.226697\n",
      "         Iterations: 2\n",
      "         Function evaluations: 436\n",
      "Optimization terminated successfully.\n",
      "         Current function value: 5.224562\n",
      "         Iterations: 2\n",
      "         Function evaluations: 489\n",
      "Optimization terminated successfully.\n",
      "         Current function value: 5.224250\n",
      "         Iterations: 2\n",
      "         Function evaluations: 509\n"
     ]
    },
    {
     "data": {
      "text/html": [
       "<div>\n",
       "<style scoped>\n",
       "    .dataframe tbody tr th:only-of-type {\n",
       "        vertical-align: middle;\n",
       "    }\n",
       "\n",
       "    .dataframe tbody tr th {\n",
       "        vertical-align: top;\n",
       "    }\n",
       "\n",
       "    .dataframe thead th {\n",
       "        text-align: right;\n",
       "    }\n",
       "</style>\n",
       "<table border=\"1\" class=\"dataframe\">\n",
       "  <thead>\n",
       "    <tr style=\"text-align: right;\">\n",
       "      <th></th>\n",
       "      <th>p</th>\n",
       "      <th>q</th>\n",
       "      <th>AIC</th>\n",
       "      <th>BIC</th>\n",
       "    </tr>\n",
       "  </thead>\n",
       "  <tbody>\n",
       "    <tr>\n",
       "      <th>0</th>\n",
       "      <td>0</td>\n",
       "      <td>0</td>\n",
       "      <td>12570.946150</td>\n",
       "      <td>12581.126304</td>\n",
       "    </tr>\n",
       "    <tr>\n",
       "      <th>1</th>\n",
       "      <td>0</td>\n",
       "      <td>1</td>\n",
       "      <td>12572.923408</td>\n",
       "      <td>12588.193639</td>\n",
       "    </tr>\n",
       "    <tr>\n",
       "      <th>2</th>\n",
       "      <td>0</td>\n",
       "      <td>2</td>\n",
       "      <td>12574.587394</td>\n",
       "      <td>12594.947701</td>\n",
       "    </tr>\n",
       "    <tr>\n",
       "      <th>3</th>\n",
       "      <td>0</td>\n",
       "      <td>3</td>\n",
       "      <td>12574.609351</td>\n",
       "      <td>12600.059735</td>\n",
       "    </tr>\n",
       "    <tr>\n",
       "      <th>4</th>\n",
       "      <td>0</td>\n",
       "      <td>4</td>\n",
       "      <td>12573.771487</td>\n",
       "      <td>12604.311948</td>\n",
       "    </tr>\n",
       "    <tr>\n",
       "      <th>...</th>\n",
       "      <td>...</td>\n",
       "      <td>...</td>\n",
       "      <td>...</td>\n",
       "      <td>...</td>\n",
       "    </tr>\n",
       "    <tr>\n",
       "      <th>116</th>\n",
       "      <td>10</td>\n",
       "      <td>6</td>\n",
       "      <td>12590.557776</td>\n",
       "      <td>12682.179159</td>\n",
       "    </tr>\n",
       "    <tr>\n",
       "      <th>117</th>\n",
       "      <td>10</td>\n",
       "      <td>7</td>\n",
       "      <td>12592.556610</td>\n",
       "      <td>12689.268070</td>\n",
       "    </tr>\n",
       "    <tr>\n",
       "      <th>118</th>\n",
       "      <td>10</td>\n",
       "      <td>8</td>\n",
       "      <td>12594.525285</td>\n",
       "      <td>12696.326821</td>\n",
       "    </tr>\n",
       "    <tr>\n",
       "      <th>119</th>\n",
       "      <td>10</td>\n",
       "      <td>9</td>\n",
       "      <td>12591.397879</td>\n",
       "      <td>12698.289493</td>\n",
       "    </tr>\n",
       "    <tr>\n",
       "      <th>120</th>\n",
       "      <td>10</td>\n",
       "      <td>10</td>\n",
       "      <td>12592.647424</td>\n",
       "      <td>12704.629114</td>\n",
       "    </tr>\n",
       "  </tbody>\n",
       "</table>\n",
       "<p>121 rows × 4 columns</p>\n",
       "</div>"
      ],
      "text/plain": [
       "      p   q           AIC           BIC\n",
       "0     0   0  12570.946150  12581.126304\n",
       "1     0   1  12572.923408  12588.193639\n",
       "2     0   2  12574.587394  12594.947701\n",
       "3     0   3  12574.609351  12600.059735\n",
       "4     0   4  12573.771487  12604.311948\n",
       "..   ..  ..           ...           ...\n",
       "116  10   6  12590.557776  12682.179159\n",
       "117  10   7  12592.556610  12689.268070\n",
       "118  10   8  12594.525285  12696.326821\n",
       "119  10   9  12591.397879  12698.289493\n",
       "120  10  10  12592.647424  12704.629114\n",
       "\n",
       "[121 rows x 4 columns]"
      ]
     },
     "execution_count": 72,
     "metadata": {},
     "output_type": "execute_result"
    }
   ],
   "source": [
    "res_7282 = simulate_sarimax(11,11,df_7282)\n",
    "res_7282"
   ]
  },
  {
   "cell_type": "code",
   "execution_count": 73,
   "metadata": {},
   "outputs": [
    {
     "name": "stdout",
     "output_type": "stream",
     "text": [
      "      p   q           AIC           BIC\n",
      "0     0   0  12570.946150  12581.126304\n",
      "11    1   0  12572.922621  12588.192852\n",
      "1     0   1  12572.923408  12588.193639\n",
      "55    5   0  12573.687686  12609.318224\n",
      "4     0   4  12573.771487  12604.311948\n",
      "..   ..  ..           ...           ...\n",
      "119  10   9  12591.397879  12698.289493\n",
      "117  10   7  12592.556610  12689.268070\n",
      "120  10  10  12592.647424  12704.629114\n",
      "107   9   8  12592.738052  12689.449511\n",
      "118  10   8  12594.525285  12696.326821\n",
      "\n",
      "[121 rows x 4 columns]\n",
      "      p   q           AIC           BIC\n",
      "0     0   0  12570.946150  12581.126304\n",
      "11    1   0  12572.922621  12588.192852\n",
      "1     0   1  12572.923408  12588.193639\n",
      "22    2   0  12574.570639  12594.930946\n",
      "2     0   2  12574.587394  12594.947701\n",
      "..   ..  ..           ...           ...\n",
      "108   9   9  12590.626406  12692.427943\n",
      "118  10   8  12594.525285  12696.326821\n",
      "109   9  10  12590.726243  12697.617856\n",
      "119  10   9  12591.397879  12698.289493\n",
      "120  10  10  12592.647424  12704.629114\n",
      "\n",
      "[121 rows x 4 columns]\n"
     ]
    }
   ],
   "source": [
    "grid_search(res_7282)\n",
    "#print(f\"best (p,q) for AIC: {aic_7282[aic_7282.index[0]]}, for BIC: {aic_7282[aic_7282.index[0]]}\")"
   ]
  },
  {
   "cell_type": "markdown",
   "metadata": {},
   "source": [
    "Like company 7309, the (p,q) pair that produced the lowest AIC and BIC was (0,0)"
   ]
  },
  {
   "cell_type": "markdown",
   "metadata": {},
   "source": [
    "Let's see how well we did."
   ]
  },
  {
   "cell_type": "code",
   "execution_count": 80,
   "metadata": {},
   "outputs": [
    {
     "name": "stdout",
     "output_type": "stream",
     "text": [
      "Optimization terminated successfully.\n",
      "         Current function value: 7.294178\n",
      "         Iterations: 1\n",
      "         Function evaluations: 38\n",
      "                               SARIMAX Results                                \n",
      "==============================================================================\n",
      "Dep. Variable:              close_adj   No. Observations:                 1201\n",
      "Model:               SARIMAX(0, 1, 0)   Log Likelihood               -8760.307\n",
      "Date:                Wed, 27 Apr 2022   AIC                          17524.615\n",
      "Time:                        15:35:09   BIC                          17534.795\n",
      "Sample:                    01-04-2017   HQIC                         17528.449\n",
      "                         - 12-03-2021                                         \n",
      "Covariance Type:                  opg                                         \n",
      "==============================================================================\n",
      "                 coef    std err          z      P>|z|      [0.025      0.975]\n",
      "------------------------------------------------------------------------------\n",
      "intercept     11.8667     10.598      1.120      0.263      -8.906      32.639\n",
      "sigma2      1.284e+05   2017.779     63.617      0.000    1.24e+05    1.32e+05\n",
      "===================================================================================\n",
      "Ljung-Box (L1) (Q):                   0.38   Jarque-Bera (JB):              7535.36\n",
      "Prob(Q):                              0.54   Prob(JB):                         0.00\n",
      "Heteroskedasticity (H):               4.95   Skew:                             0.82\n",
      "Prob(H) (two-sided):                  0.00   Kurtosis:                        15.17\n",
      "===================================================================================\n",
      "\n",
      "Warnings:\n",
      "[1] Covariance matrix calculated using the outer product of gradients (complex-step).\n"
     ]
    }
   ],
   "source": [
    "model = SARIMAX(df_7309, order = (0,1,0), trend='c')\n",
    "results = model.fit(method=\"powell\")\n",
    "\n",
    "print(results.summary())"
   ]
  },
  {
   "cell_type": "code",
   "execution_count": 85,
   "metadata": {},
   "outputs": [
    {
     "name": "stdout",
     "output_type": "stream",
     "text": [
      "2020-04-19    32861.866667\n",
      "2020-04-20    32873.733333\n",
      "2020-04-21    32885.600000\n",
      "2020-04-22    32897.466667\n",
      "2020-04-23    32909.333333\n",
      "                  ...     \n",
      "2021-04-14    37133.866667\n",
      "2021-04-15    37145.733333\n",
      "2021-04-16    37157.600000\n",
      "2021-04-17    37169.466667\n",
      "2021-04-18    37181.333333\n",
      "Freq: D, Name: predicted_mean, Length: 365, dtype: float64\n"
     ]
    },
    {
     "data": {
      "text/plain": [
       "<AxesSubplot:xlabel='Date'>"
      ]
     },
     "execution_count": 85,
     "metadata": {},
     "output_type": "execute_result"
    },
    {
     "data": {
      "image/png": "[encoded data removed]",
      "text/plain": [
       "<Figure size 432x288 with 1 Axes>"
      ]
     },
     "metadata": {
      "needs_background": "light"
     },
     "output_type": "display_data"
    }
   ],
   "source": [
    "forecast = results.get_forecast(steps=365).predicted_mean\n",
    "print(forecast)\n",
    "df_7309.plot()\n",
    "forecast.plot()"
   ]
  }
 ],
 "metadata": {
  "colab": {
   "name": "anime_country_stonks",
   "provenance": []
  },
  "kernelspec": {
   "display_name": "Python 3 (ipykernel)",
   "language": "python",
   "name": "python3"
  },
  "language_info": {
   "codemirror_mode": {
    "name": "ipython",
    "version": 3
   },
   "file_extension": ".py",
   "mimetype": "text/x-python",
   "name": "python",
   "nbconvert_exporter": "python",
   "pygments_lexer": "ipython3",
   "version": "3.9.12"
  }
 },
 "nbformat": 4,
 "nbformat_minor": 1
}

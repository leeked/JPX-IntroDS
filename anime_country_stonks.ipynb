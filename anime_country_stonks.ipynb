{
 "cells": [
  {
   "cell_type": "markdown",
   "metadata": {
    "id": "H7KquDBA4OQB"
   },
   "source": [
    "# JPX Tokyo Stock Exchange Prediction Challenge\n",
    "\n",
    "## Time Series Analysis\n",
    "\n",
    "Authors: Jeremy Jang (jj2798), Kevin Lee (kl3642), Kevin Zheng (kz1252)"
   ]
  },
  {
   "cell_type": "markdown",
   "metadata": {
    "id": "WYXISRJx4uwk"
   },
   "source": [
    "## 1. Preliminary EDA and Data Engineering"
   ]
  },
  {
   "cell_type": "markdown",
   "metadata": {
    "id": "KBRvLeHV4z0m"
   },
   "source": [
    "Necessary Packages"
   ]
  },
  {
   "cell_type": "code",
   "execution_count": 1,
   "metadata": {},
   "outputs": [],
   "source": [
    "# If you need missingno\n",
    "\n",
    "#!pip install missingno"
   ]
  },
  {
   "cell_type": "code",
   "execution_count": 2,
   "metadata": {
    "id": "0isHEL_4wHBh"
   },
   "outputs": [],
   "source": [
    "import numpy as np\n",
    "import pandas as pd\n",
    "import matplotlib.pyplot as plt\n",
    "import seaborn as sns\n",
    "import missingno as msno\n",
    "\n",
    "#need to import all of the relevant sklearn stuff and corr/arma models"
   ]
  },
  {
   "cell_type": "markdown",
   "metadata": {
    "id": "KdomYySS5HL3"
   },
   "source": [
    "First we load the data into the variable `df`."
   ]
  },
  {
   "cell_type": "code",
   "execution_count": 3,
   "metadata": {
    "colab": {
     "base_uri": "https://localhost:8080/",
     "height": 310
    },
    "id": "usgZHTqM5Fh2",
    "outputId": "49831c97-40aa-475d-8945-9bfc2f392eab"
   },
   "outputs": [],
   "source": [
    "df = pd.read_csv('stock_prices.csv', parse_dates=True,index_col='Date')"
   ]
  },
  {
   "cell_type": "code",
   "execution_count": 4,
   "metadata": {
    "id": "mTL0ykSa81ek"
   },
   "outputs": [
    {
     "data": {
      "text/html": [
       "<div>\n",
       "<style scoped>\n",
       "    .dataframe tbody tr th:only-of-type {\n",
       "        vertical-align: middle;\n",
       "    }\n",
       "\n",
       "    .dataframe tbody tr th {\n",
       "        vertical-align: top;\n",
       "    }\n",
       "\n",
       "    .dataframe thead th {\n",
       "        text-align: right;\n",
       "    }\n",
       "</style>\n",
       "<table border=\"1\" class=\"dataframe\">\n",
       "  <thead>\n",
       "    <tr style=\"text-align: right;\">\n",
       "      <th></th>\n",
       "      <th>RowId</th>\n",
       "      <th>SecuritiesCode</th>\n",
       "      <th>Open</th>\n",
       "      <th>High</th>\n",
       "      <th>Low</th>\n",
       "      <th>Close</th>\n",
       "      <th>Volume</th>\n",
       "      <th>AdjustmentFactor</th>\n",
       "      <th>ExpectedDividend</th>\n",
       "      <th>SupervisionFlag</th>\n",
       "      <th>Target</th>\n",
       "    </tr>\n",
       "    <tr>\n",
       "      <th>Date</th>\n",
       "      <th></th>\n",
       "      <th></th>\n",
       "      <th></th>\n",
       "      <th></th>\n",
       "      <th></th>\n",
       "      <th></th>\n",
       "      <th></th>\n",
       "      <th></th>\n",
       "      <th></th>\n",
       "      <th></th>\n",
       "      <th></th>\n",
       "    </tr>\n",
       "  </thead>\n",
       "  <tbody>\n",
       "    <tr>\n",
       "      <th>2017-01-04</th>\n",
       "      <td>20170104_1301</td>\n",
       "      <td>1301</td>\n",
       "      <td>2734.0</td>\n",
       "      <td>2755.0</td>\n",
       "      <td>2730.0</td>\n",
       "      <td>2742.0</td>\n",
       "      <td>31400</td>\n",
       "      <td>1.0</td>\n",
       "      <td>NaN</td>\n",
       "      <td>False</td>\n",
       "      <td>0.000730</td>\n",
       "    </tr>\n",
       "    <tr>\n",
       "      <th>2017-01-04</th>\n",
       "      <td>20170104_1332</td>\n",
       "      <td>1332</td>\n",
       "      <td>568.0</td>\n",
       "      <td>576.0</td>\n",
       "      <td>563.0</td>\n",
       "      <td>571.0</td>\n",
       "      <td>2798500</td>\n",
       "      <td>1.0</td>\n",
       "      <td>NaN</td>\n",
       "      <td>False</td>\n",
       "      <td>0.012324</td>\n",
       "    </tr>\n",
       "    <tr>\n",
       "      <th>2017-01-04</th>\n",
       "      <td>20170104_1333</td>\n",
       "      <td>1333</td>\n",
       "      <td>3150.0</td>\n",
       "      <td>3210.0</td>\n",
       "      <td>3140.0</td>\n",
       "      <td>3210.0</td>\n",
       "      <td>270800</td>\n",
       "      <td>1.0</td>\n",
       "      <td>NaN</td>\n",
       "      <td>False</td>\n",
       "      <td>0.006154</td>\n",
       "    </tr>\n",
       "    <tr>\n",
       "      <th>2017-01-04</th>\n",
       "      <td>20170104_1376</td>\n",
       "      <td>1376</td>\n",
       "      <td>1510.0</td>\n",
       "      <td>1550.0</td>\n",
       "      <td>1510.0</td>\n",
       "      <td>1550.0</td>\n",
       "      <td>11300</td>\n",
       "      <td>1.0</td>\n",
       "      <td>NaN</td>\n",
       "      <td>False</td>\n",
       "      <td>0.011053</td>\n",
       "    </tr>\n",
       "    <tr>\n",
       "      <th>2017-01-04</th>\n",
       "      <td>20170104_1377</td>\n",
       "      <td>1377</td>\n",
       "      <td>3270.0</td>\n",
       "      <td>3350.0</td>\n",
       "      <td>3270.0</td>\n",
       "      <td>3330.0</td>\n",
       "      <td>150800</td>\n",
       "      <td>1.0</td>\n",
       "      <td>NaN</td>\n",
       "      <td>False</td>\n",
       "      <td>0.003026</td>\n",
       "    </tr>\n",
       "  </tbody>\n",
       "</table>\n",
       "</div>"
      ],
      "text/plain": [
       "                    RowId  SecuritiesCode    Open    High     Low   Close  \\\n",
       "Date                                                                        \n",
       "2017-01-04  20170104_1301            1301  2734.0  2755.0  2730.0  2742.0   \n",
       "2017-01-04  20170104_1332            1332   568.0   576.0   563.0   571.0   \n",
       "2017-01-04  20170104_1333            1333  3150.0  3210.0  3140.0  3210.0   \n",
       "2017-01-04  20170104_1376            1376  1510.0  1550.0  1510.0  1550.0   \n",
       "2017-01-04  20170104_1377            1377  3270.0  3350.0  3270.0  3330.0   \n",
       "\n",
       "             Volume  AdjustmentFactor  ExpectedDividend  SupervisionFlag  \\\n",
       "Date                                                                       \n",
       "2017-01-04    31400               1.0               NaN            False   \n",
       "2017-01-04  2798500               1.0               NaN            False   \n",
       "2017-01-04   270800               1.0               NaN            False   \n",
       "2017-01-04    11300               1.0               NaN            False   \n",
       "2017-01-04   150800               1.0               NaN            False   \n",
       "\n",
       "              Target  \n",
       "Date                  \n",
       "2017-01-04  0.000730  \n",
       "2017-01-04  0.012324  \n",
       "2017-01-04  0.006154  \n",
       "2017-01-04  0.011053  \n",
       "2017-01-04  0.003026  "
      ]
     },
     "execution_count": 4,
     "metadata": {},
     "output_type": "execute_result"
    }
   ],
   "source": [
    "df.head()"
   ]
  },
  {
   "cell_type": "markdown",
   "metadata": {},
   "source": [
    "Now let's take a look at each feature and the target..."
   ]
  },
  {
   "cell_type": "code",
   "execution_count": 5,
   "metadata": {
    "colab": {
     "base_uri": "https://localhost:8080/"
    },
    "id": "4K_kphnu87lE",
    "outputId": "cf7950c2-0c53-40ea-bbc3-4bc864ddcaaf"
   },
   "outputs": [
    {
     "name": "stdout",
     "output_type": "stream",
     "text": [
      "<class 'pandas.core.frame.DataFrame'>\n",
      "DatetimeIndex: 2332531 entries, 2017-01-04 to 2021-12-03\n",
      "Data columns (total 11 columns):\n",
      " #   Column            Dtype  \n",
      "---  ------            -----  \n",
      " 0   RowId             object \n",
      " 1   SecuritiesCode    int64  \n",
      " 2   Open              float64\n",
      " 3   High              float64\n",
      " 4   Low               float64\n",
      " 5   Close             float64\n",
      " 6   Volume            int64  \n",
      " 7   AdjustmentFactor  float64\n",
      " 8   ExpectedDividend  float64\n",
      " 9   SupervisionFlag   bool   \n",
      " 10  Target            float64\n",
      "dtypes: bool(1), float64(7), int64(2), object(1)\n",
      "memory usage: 198.0+ MB\n",
      "None\n",
      "\n",
      "Unique Securities:\n",
      "[1301 1332 1333 ... 4168 7342 4169]\n",
      "Num unique:  2000\n",
      "AKA 2000 total tickers\n"
     ]
    }
   ],
   "source": [
    "print(df.info())\n",
    "\n",
    "print('\\nUnique Securities:')\n",
    "print(df.SecuritiesCode.unique())\n",
    "print('Num unique: ',len(df.SecuritiesCode.unique()))\n",
    "print('AKA 2000 total tickers')"
   ]
  },
  {
   "cell_type": "code",
   "execution_count": 6,
   "metadata": {},
   "outputs": [
    {
     "name": "stdout",
     "output_type": "stream",
     "text": [
      "       SecuritiesCode          Open          High           Low         Close  \\\n",
      "count    2.332531e+06  2.324923e+06  2.324923e+06  2.324923e+06  2.324923e+06   \n",
      "mean     5.894835e+03  2.594511e+03  2.626540e+03  2.561227e+03  2.594023e+03   \n",
      "std      2.404161e+03  3.577192e+03  3.619363e+03  3.533494e+03  3.576538e+03   \n",
      "min      1.301000e+03  1.400000e+01  1.500000e+01  1.300000e+01  1.400000e+01   \n",
      "25%      3.891000e+03  1.022000e+03  1.035000e+03  1.009000e+03  1.022000e+03   \n",
      "50%      6.238000e+03  1.812000e+03  1.834000e+03  1.790000e+03  1.811000e+03   \n",
      "75%      7.965000e+03  3.030000e+03  3.070000e+03  2.995000e+03  3.030000e+03   \n",
      "max      9.997000e+03  1.099500e+05  1.105000e+05  1.072000e+05  1.095500e+05   \n",
      "\n",
      "             Volume  AdjustmentFactor  ExpectedDividend        Target  \n",
      "count  2.332531e+06      2.332531e+06      18865.000000  2.332293e+06  \n",
      "mean   6.919366e+05      1.000508e+00         22.017730  4.450964e-04  \n",
      "std    3.911256e+06      6.773040e-02         29.882453  2.339879e-02  \n",
      "min    0.000000e+00      1.000000e-01          0.000000 -5.785414e-01  \n",
      "25%    3.030000e+04      1.000000e+00          5.000000 -1.049869e-02  \n",
      "50%    1.071000e+05      1.000000e+00         15.000000  0.000000e+00  \n",
      "75%    4.021000e+05      1.000000e+00         30.000000  1.053159e-02  \n",
      "max    6.436540e+08      2.000000e+01       1070.000000  1.119512e+00  \n"
     ]
    }
   ],
   "source": [
    "print(df.describe())"
   ]
  },
  {
   "cell_type": "markdown",
   "metadata": {},
   "source": [
    "And how many NaN values there are..."
   ]
  },
  {
   "cell_type": "code",
   "execution_count": 7,
   "metadata": {},
   "outputs": [
    {
     "name": "stdout",
     "output_type": "stream",
     "text": [
      "\n",
      "NaN Values:\n",
      "RowId                     0\n",
      "SecuritiesCode            0\n",
      "Open                   7608\n",
      "High                   7608\n",
      "Low                    7608\n",
      "Close                  7608\n",
      "Volume                    0\n",
      "AdjustmentFactor          0\n",
      "ExpectedDividend    2313666\n",
      "SupervisionFlag           0\n",
      "Target                  238\n",
      "dtype: int64\n",
      "\n",
      "Total NaN:  2344336\n"
     ]
    }
   ],
   "source": [
    "print('\\nNaN Values:')\n",
    "print(df.isnull().sum())\n",
    "print('\\nTotal NaN: ',df.isnull().sum().sum())"
   ]
  },
  {
   "cell_type": "code",
   "execution_count": 8,
   "metadata": {},
   "outputs": [
    {
     "data": {
      "text/plain": [
       "<AxesSubplot:>"
      ]
     },
     "execution_count": 8,
     "metadata": {},
     "output_type": "execute_result"
    },
    {
     "data": {
      "image/png": "[encoded data removed]",
      "text/plain": [
       "<Figure size 1800x720 with 2 Axes>"
      ]
     },
     "metadata": {
      "needs_background": "light"
     },
     "output_type": "display_data"
    }
   ],
   "source": [
    "msno.matrix(df)"
   ]
  },
  {
   "cell_type": "markdown",
   "metadata": {},
   "source": [
    "We can see that there are quite a few missing value, namely from the features `[Open, High, Low, Close, ExpectedDividend, Target]`. The competition provides us with a file that contains the descriptions for each feature in our dataset."
   ]
  },
  {
   "cell_type": "code",
   "execution_count": 9,
   "metadata": {},
   "outputs": [],
   "source": [
    "spec = pd.read_csv('stock_price_spec.csv')"
   ]
  },
  {
   "cell_type": "code",
   "execution_count": 10,
   "metadata": {},
   "outputs": [
    {
     "data": {
      "text/html": [
       "<div>\n",
       "<style scoped>\n",
       "    .dataframe tbody tr th:only-of-type {\n",
       "        vertical-align: middle;\n",
       "    }\n",
       "\n",
       "    .dataframe tbody tr th {\n",
       "        vertical-align: top;\n",
       "    }\n",
       "\n",
       "    .dataframe thead th {\n",
       "        text-align: right;\n",
       "    }\n",
       "</style>\n",
       "<table border=\"1\" class=\"dataframe\">\n",
       "  <thead>\n",
       "    <tr style=\"text-align: right;\">\n",
       "      <th></th>\n",
       "      <th>Column</th>\n",
       "      <th>Sample value</th>\n",
       "      <th>Type</th>\n",
       "      <th>Addendum</th>\n",
       "      <th>Remarks</th>\n",
       "    </tr>\n",
       "  </thead>\n",
       "  <tbody>\n",
       "    <tr>\n",
       "      <th>0</th>\n",
       "      <td>RowId</td>\n",
       "      <td>20170104_1301</td>\n",
       "      <td>string</td>\n",
       "      <td>NaN</td>\n",
       "      <td>Unique ID of price records</td>\n",
       "    </tr>\n",
       "    <tr>\n",
       "      <th>1</th>\n",
       "      <td>Date</td>\n",
       "      <td>2017-01-04 0:00:00</td>\n",
       "      <td>date</td>\n",
       "      <td>NaN</td>\n",
       "      <td>Trade date</td>\n",
       "    </tr>\n",
       "    <tr>\n",
       "      <th>2</th>\n",
       "      <td>SecuritiesCode</td>\n",
       "      <td>1301</td>\n",
       "      <td>Int64</td>\n",
       "      <td>NaN</td>\n",
       "      <td>Local securities code</td>\n",
       "    </tr>\n",
       "    <tr>\n",
       "      <th>3</th>\n",
       "      <td>Open</td>\n",
       "      <td>2734</td>\n",
       "      <td>float</td>\n",
       "      <td>NaN</td>\n",
       "      <td>first traded price on a day</td>\n",
       "    </tr>\n",
       "    <tr>\n",
       "      <th>4</th>\n",
       "      <td>High</td>\n",
       "      <td>2755</td>\n",
       "      <td>float</td>\n",
       "      <td>NaN</td>\n",
       "      <td>highest traded price on a day</td>\n",
       "    </tr>\n",
       "    <tr>\n",
       "      <th>5</th>\n",
       "      <td>Low</td>\n",
       "      <td>2730</td>\n",
       "      <td>float</td>\n",
       "      <td>NaN</td>\n",
       "      <td>lowest traded price on a day</td>\n",
       "    </tr>\n",
       "    <tr>\n",
       "      <th>6</th>\n",
       "      <td>Close</td>\n",
       "      <td>2742</td>\n",
       "      <td>float</td>\n",
       "      <td>NaN</td>\n",
       "      <td>last traded price on a day</td>\n",
       "    </tr>\n",
       "    <tr>\n",
       "      <th>7</th>\n",
       "      <td>Volume</td>\n",
       "      <td>31400</td>\n",
       "      <td>Int64</td>\n",
       "      <td>NaN</td>\n",
       "      <td>number of traded stocks on a day</td>\n",
       "    </tr>\n",
       "    <tr>\n",
       "      <th>8</th>\n",
       "      <td>AdjustmentFactor</td>\n",
       "      <td>1</td>\n",
       "      <td>float</td>\n",
       "      <td>NaN</td>\n",
       "      <td>to calculate theoretical price/volume when spl...</td>\n",
       "    </tr>\n",
       "    <tr>\n",
       "      <th>9</th>\n",
       "      <td>SupervisionFlag</td>\n",
       "      <td>FALSE</td>\n",
       "      <td>boolean</td>\n",
       "      <td>NaN</td>\n",
       "      <td>Flag of Securities Under Supervision &amp; Securit...</td>\n",
       "    </tr>\n",
       "    <tr>\n",
       "      <th>10</th>\n",
       "      <td>ExpectedDividend</td>\n",
       "      <td>NaN</td>\n",
       "      <td>float</td>\n",
       "      <td>NaN</td>\n",
       "      <td>Expected dividend value for ex-right date. Thi...</td>\n",
       "    </tr>\n",
       "    <tr>\n",
       "      <th>11</th>\n",
       "      <td>ExpectedDividend</td>\n",
       "      <td>NaN</td>\n",
       "      <td>float</td>\n",
       "      <td>NaN</td>\n",
       "      <td>Expected dividend value for ex-right date. Thi...</td>\n",
       "    </tr>\n",
       "    <tr>\n",
       "      <th>12</th>\n",
       "      <td>Target</td>\n",
       "      <td>0.00073</td>\n",
       "      <td>float</td>\n",
       "      <td>NaN</td>\n",
       "      <td>Change ratio of adjusted closing price between...</td>\n",
       "    </tr>\n",
       "  </tbody>\n",
       "</table>\n",
       "</div>"
      ],
      "text/plain": [
       "              Column        Sample value     Type  Addendum  \\\n",
       "0              RowId       20170104_1301   string       NaN   \n",
       "1               Date  2017-01-04 0:00:00     date       NaN   \n",
       "2     SecuritiesCode                1301    Int64       NaN   \n",
       "3               Open                2734    float       NaN   \n",
       "4               High                2755    float       NaN   \n",
       "5                Low                2730    float       NaN   \n",
       "6              Close                2742    float       NaN   \n",
       "7             Volume               31400    Int64       NaN   \n",
       "8   AdjustmentFactor                   1    float       NaN   \n",
       "9    SupervisionFlag               FALSE  boolean       NaN   \n",
       "10  ExpectedDividend                 NaN    float       NaN   \n",
       "11  ExpectedDividend                 NaN    float       NaN   \n",
       "12            Target             0.00073    float       NaN   \n",
       "\n",
       "                                              Remarks  \n",
       "0                          Unique ID of price records  \n",
       "1                                          Trade date  \n",
       "2                               Local securities code  \n",
       "3                         first traded price on a day  \n",
       "4                       highest traded price on a day  \n",
       "5                        lowest traded price on a day  \n",
       "6                          last traded price on a day  \n",
       "7                    number of traded stocks on a day  \n",
       "8   to calculate theoretical price/volume when spl...  \n",
       "9   Flag of Securities Under Supervision & Securit...  \n",
       "10  Expected dividend value for ex-right date. Thi...  \n",
       "11  Expected dividend value for ex-right date. Thi...  \n",
       "12  Change ratio of adjusted closing price between...  "
      ]
     },
     "execution_count": 10,
     "metadata": {},
     "output_type": "execute_result"
    }
   ],
   "source": [
    "spec"
   ]
  },
  {
   "cell_type": "markdown",
   "metadata": {},
   "source": [
    "From this information, we can understand that we will not be needing the following features: `[RowId, SupervisionFlag, ExpectedDividend, Target]`. We will need the SecurityCode to pick the stocks to analyze. Our analysis will be chiefly concerned with the date and the close adjusted price of the stocks, so we can disregard `[Open, High, Low]` as well. We have also already determined that the Volume is weakly correlated at best with the close price, so we will also be discarding that feature. The adjustment factor is required to compute the close adjusted price."
   ]
  },
  {
   "cell_type": "code",
   "execution_count": 11,
   "metadata": {},
   "outputs": [
    {
     "data": {
      "text/html": [
       "<div>\n",
       "<style scoped>\n",
       "    .dataframe tbody tr th:only-of-type {\n",
       "        vertical-align: middle;\n",
       "    }\n",
       "\n",
       "    .dataframe tbody tr th {\n",
       "        vertical-align: top;\n",
       "    }\n",
       "\n",
       "    .dataframe thead th {\n",
       "        text-align: right;\n",
       "    }\n",
       "</style>\n",
       "<table border=\"1\" class=\"dataframe\">\n",
       "  <thead>\n",
       "    <tr style=\"text-align: right;\">\n",
       "      <th></th>\n",
       "      <th>SecuritiesCode</th>\n",
       "      <th>Close</th>\n",
       "      <th>AdjustmentFactor</th>\n",
       "    </tr>\n",
       "    <tr>\n",
       "      <th>Date</th>\n",
       "      <th></th>\n",
       "      <th></th>\n",
       "      <th></th>\n",
       "    </tr>\n",
       "  </thead>\n",
       "  <tbody>\n",
       "    <tr>\n",
       "      <th>2017-01-04</th>\n",
       "      <td>1301</td>\n",
       "      <td>2742.0</td>\n",
       "      <td>1.0</td>\n",
       "    </tr>\n",
       "    <tr>\n",
       "      <th>2017-01-04</th>\n",
       "      <td>1332</td>\n",
       "      <td>571.0</td>\n",
       "      <td>1.0</td>\n",
       "    </tr>\n",
       "    <tr>\n",
       "      <th>2017-01-04</th>\n",
       "      <td>1333</td>\n",
       "      <td>3210.0</td>\n",
       "      <td>1.0</td>\n",
       "    </tr>\n",
       "    <tr>\n",
       "      <th>2017-01-04</th>\n",
       "      <td>1376</td>\n",
       "      <td>1550.0</td>\n",
       "      <td>1.0</td>\n",
       "    </tr>\n",
       "    <tr>\n",
       "      <th>2017-01-04</th>\n",
       "      <td>1377</td>\n",
       "      <td>3330.0</td>\n",
       "      <td>1.0</td>\n",
       "    </tr>\n",
       "    <tr>\n",
       "      <th>...</th>\n",
       "      <td>...</td>\n",
       "      <td>...</td>\n",
       "      <td>...</td>\n",
       "    </tr>\n",
       "    <tr>\n",
       "      <th>2021-12-03</th>\n",
       "      <td>9990</td>\n",
       "      <td>528.0</td>\n",
       "      <td>1.0</td>\n",
       "    </tr>\n",
       "    <tr>\n",
       "      <th>2021-12-03</th>\n",
       "      <td>9991</td>\n",
       "      <td>794.0</td>\n",
       "      <td>1.0</td>\n",
       "    </tr>\n",
       "    <tr>\n",
       "      <th>2021-12-03</th>\n",
       "      <td>9993</td>\n",
       "      <td>1645.0</td>\n",
       "      <td>1.0</td>\n",
       "    </tr>\n",
       "    <tr>\n",
       "      <th>2021-12-03</th>\n",
       "      <td>9994</td>\n",
       "      <td>2389.0</td>\n",
       "      <td>1.0</td>\n",
       "    </tr>\n",
       "    <tr>\n",
       "      <th>2021-12-03</th>\n",
       "      <td>9997</td>\n",
       "      <td>696.0</td>\n",
       "      <td>1.0</td>\n",
       "    </tr>\n",
       "  </tbody>\n",
       "</table>\n",
       "<p>2332531 rows × 3 columns</p>\n",
       "</div>"
      ],
      "text/plain": [
       "            SecuritiesCode   Close  AdjustmentFactor\n",
       "Date                                                \n",
       "2017-01-04            1301  2742.0               1.0\n",
       "2017-01-04            1332   571.0               1.0\n",
       "2017-01-04            1333  3210.0               1.0\n",
       "2017-01-04            1376  1550.0               1.0\n",
       "2017-01-04            1377  3330.0               1.0\n",
       "...                    ...     ...               ...\n",
       "2021-12-03            9990   528.0               1.0\n",
       "2021-12-03            9991   794.0               1.0\n",
       "2021-12-03            9993  1645.0               1.0\n",
       "2021-12-03            9994  2389.0               1.0\n",
       "2021-12-03            9997   696.0               1.0\n",
       "\n",
       "[2332531 rows x 3 columns]"
      ]
     },
     "execution_count": 11,
     "metadata": {},
     "output_type": "execute_result"
    }
   ],
   "source": [
    "# Drop unnecessary columns\n",
    "df.drop(columns=['RowId','Open','High','Low','Volume','SupervisionFlag','ExpectedDividend','Target'],inplace=True)\n",
    "df"
   ]
  },
  {
   "cell_type": "code",
   "execution_count": 12,
   "metadata": {},
   "outputs": [
    {
     "data": {
      "text/html": [
       "<div>\n",
       "<style scoped>\n",
       "    .dataframe tbody tr th:only-of-type {\n",
       "        vertical-align: middle;\n",
       "    }\n",
       "\n",
       "    .dataframe tbody tr th {\n",
       "        vertical-align: top;\n",
       "    }\n",
       "\n",
       "    .dataframe thead th {\n",
       "        text-align: right;\n",
       "    }\n",
       "</style>\n",
       "<table border=\"1\" class=\"dataframe\">\n",
       "  <thead>\n",
       "    <tr style=\"text-align: right;\">\n",
       "      <th></th>\n",
       "      <th>SecuritiesCode</th>\n",
       "      <th>Close</th>\n",
       "      <th>AdjustmentFactor</th>\n",
       "      <th>close_adj</th>\n",
       "    </tr>\n",
       "    <tr>\n",
       "      <th>Date</th>\n",
       "      <th></th>\n",
       "      <th></th>\n",
       "      <th></th>\n",
       "      <th></th>\n",
       "    </tr>\n",
       "  </thead>\n",
       "  <tbody>\n",
       "    <tr>\n",
       "      <th>2017-01-04</th>\n",
       "      <td>1301</td>\n",
       "      <td>2742.0</td>\n",
       "      <td>1.0</td>\n",
       "      <td>2742.0</td>\n",
       "    </tr>\n",
       "    <tr>\n",
       "      <th>2017-01-04</th>\n",
       "      <td>1332</td>\n",
       "      <td>571.0</td>\n",
       "      <td>1.0</td>\n",
       "      <td>571.0</td>\n",
       "    </tr>\n",
       "    <tr>\n",
       "      <th>2017-01-04</th>\n",
       "      <td>1333</td>\n",
       "      <td>3210.0</td>\n",
       "      <td>1.0</td>\n",
       "      <td>3210.0</td>\n",
       "    </tr>\n",
       "    <tr>\n",
       "      <th>2017-01-04</th>\n",
       "      <td>1376</td>\n",
       "      <td>1550.0</td>\n",
       "      <td>1.0</td>\n",
       "      <td>1550.0</td>\n",
       "    </tr>\n",
       "    <tr>\n",
       "      <th>2017-01-04</th>\n",
       "      <td>1377</td>\n",
       "      <td>3330.0</td>\n",
       "      <td>1.0</td>\n",
       "      <td>3330.0</td>\n",
       "    </tr>\n",
       "    <tr>\n",
       "      <th>...</th>\n",
       "      <td>...</td>\n",
       "      <td>...</td>\n",
       "      <td>...</td>\n",
       "      <td>...</td>\n",
       "    </tr>\n",
       "    <tr>\n",
       "      <th>2021-12-03</th>\n",
       "      <td>9990</td>\n",
       "      <td>528.0</td>\n",
       "      <td>1.0</td>\n",
       "      <td>528.0</td>\n",
       "    </tr>\n",
       "    <tr>\n",
       "      <th>2021-12-03</th>\n",
       "      <td>9991</td>\n",
       "      <td>794.0</td>\n",
       "      <td>1.0</td>\n",
       "      <td>794.0</td>\n",
       "    </tr>\n",
       "    <tr>\n",
       "      <th>2021-12-03</th>\n",
       "      <td>9993</td>\n",
       "      <td>1645.0</td>\n",
       "      <td>1.0</td>\n",
       "      <td>1645.0</td>\n",
       "    </tr>\n",
       "    <tr>\n",
       "      <th>2021-12-03</th>\n",
       "      <td>9994</td>\n",
       "      <td>2389.0</td>\n",
       "      <td>1.0</td>\n",
       "      <td>2389.0</td>\n",
       "    </tr>\n",
       "    <tr>\n",
       "      <th>2021-12-03</th>\n",
       "      <td>9997</td>\n",
       "      <td>696.0</td>\n",
       "      <td>1.0</td>\n",
       "      <td>696.0</td>\n",
       "    </tr>\n",
       "  </tbody>\n",
       "</table>\n",
       "<p>2332531 rows × 4 columns</p>\n",
       "</div>"
      ],
      "text/plain": [
       "            SecuritiesCode   Close  AdjustmentFactor  close_adj\n",
       "Date                                                           \n",
       "2017-01-04            1301  2742.0               1.0     2742.0\n",
       "2017-01-04            1332   571.0               1.0      571.0\n",
       "2017-01-04            1333  3210.0               1.0     3210.0\n",
       "2017-01-04            1376  1550.0               1.0     1550.0\n",
       "2017-01-04            1377  3330.0               1.0     3330.0\n",
       "...                    ...     ...               ...        ...\n",
       "2021-12-03            9990   528.0               1.0      528.0\n",
       "2021-12-03            9991   794.0               1.0      794.0\n",
       "2021-12-03            9993  1645.0               1.0     1645.0\n",
       "2021-12-03            9994  2389.0               1.0     2389.0\n",
       "2021-12-03            9997   696.0               1.0      696.0\n",
       "\n",
       "[2332531 rows x 4 columns]"
      ]
     },
     "execution_count": 12,
     "metadata": {},
     "output_type": "execute_result"
    }
   ],
   "source": [
    "# Compute Close Adjusted Price\n",
    "df['close_adj'] = df['Close'] / df['AdjustmentFactor']\n",
    "df"
   ]
  },
  {
   "cell_type": "code",
   "execution_count": 13,
   "metadata": {},
   "outputs": [
    {
     "data": {
      "text/html": [
       "<div>\n",
       "<style scoped>\n",
       "    .dataframe tbody tr th:only-of-type {\n",
       "        vertical-align: middle;\n",
       "    }\n",
       "\n",
       "    .dataframe tbody tr th {\n",
       "        vertical-align: top;\n",
       "    }\n",
       "\n",
       "    .dataframe thead th {\n",
       "        text-align: right;\n",
       "    }\n",
       "</style>\n",
       "<table border=\"1\" class=\"dataframe\">\n",
       "  <thead>\n",
       "    <tr style=\"text-align: right;\">\n",
       "      <th></th>\n",
       "      <th>SecuritiesCode</th>\n",
       "      <th>close_adj</th>\n",
       "    </tr>\n",
       "    <tr>\n",
       "      <th>Date</th>\n",
       "      <th></th>\n",
       "      <th></th>\n",
       "    </tr>\n",
       "  </thead>\n",
       "  <tbody>\n",
       "    <tr>\n",
       "      <th>2017-01-04</th>\n",
       "      <td>1301</td>\n",
       "      <td>2742.0</td>\n",
       "    </tr>\n",
       "    <tr>\n",
       "      <th>2017-01-04</th>\n",
       "      <td>1332</td>\n",
       "      <td>571.0</td>\n",
       "    </tr>\n",
       "    <tr>\n",
       "      <th>2017-01-04</th>\n",
       "      <td>1333</td>\n",
       "      <td>3210.0</td>\n",
       "    </tr>\n",
       "    <tr>\n",
       "      <th>2017-01-04</th>\n",
       "      <td>1376</td>\n",
       "      <td>1550.0</td>\n",
       "    </tr>\n",
       "    <tr>\n",
       "      <th>2017-01-04</th>\n",
       "      <td>1377</td>\n",
       "      <td>3330.0</td>\n",
       "    </tr>\n",
       "    <tr>\n",
       "      <th>...</th>\n",
       "      <td>...</td>\n",
       "      <td>...</td>\n",
       "    </tr>\n",
       "    <tr>\n",
       "      <th>2021-12-03</th>\n",
       "      <td>9990</td>\n",
       "      <td>528.0</td>\n",
       "    </tr>\n",
       "    <tr>\n",
       "      <th>2021-12-03</th>\n",
       "      <td>9991</td>\n",
       "      <td>794.0</td>\n",
       "    </tr>\n",
       "    <tr>\n",
       "      <th>2021-12-03</th>\n",
       "      <td>9993</td>\n",
       "      <td>1645.0</td>\n",
       "    </tr>\n",
       "    <tr>\n",
       "      <th>2021-12-03</th>\n",
       "      <td>9994</td>\n",
       "      <td>2389.0</td>\n",
       "    </tr>\n",
       "    <tr>\n",
       "      <th>2021-12-03</th>\n",
       "      <td>9997</td>\n",
       "      <td>696.0</td>\n",
       "    </tr>\n",
       "  </tbody>\n",
       "</table>\n",
       "<p>2332531 rows × 2 columns</p>\n",
       "</div>"
      ],
      "text/plain": [
       "            SecuritiesCode  close_adj\n",
       "Date                                 \n",
       "2017-01-04            1301     2742.0\n",
       "2017-01-04            1332      571.0\n",
       "2017-01-04            1333     3210.0\n",
       "2017-01-04            1376     1550.0\n",
       "2017-01-04            1377     3330.0\n",
       "...                    ...        ...\n",
       "2021-12-03            9990      528.0\n",
       "2021-12-03            9991      794.0\n",
       "2021-12-03            9993     1645.0\n",
       "2021-12-03            9994     2389.0\n",
       "2021-12-03            9997      696.0\n",
       "\n",
       "[2332531 rows x 2 columns]"
      ]
     },
     "execution_count": 13,
     "metadata": {},
     "output_type": "execute_result"
    }
   ],
   "source": [
    "df.drop(columns=['Close','AdjustmentFactor'],inplace=True)\n",
    "df"
   ]
  },
  {
   "cell_type": "markdown",
   "metadata": {
    "id": "rD4I-Y0TVJDV"
   },
   "source": [
    "Before we select the stocks to use, we cannot forget about the missing values. There are still 7608 missing entries for `[Open, High, Low, Close]`. Looking back at the matrix of missing values, we can observe that the missing values all occur on the same two instances. Based on this information, we can conclude that there must have been two separate instances in which the stock market failed to report the prices. Considering it does not make sense to impute prices for the analysis, we will drop the NaN values."
   ]
  },
  {
   "cell_type": "code",
   "execution_count": 14,
   "metadata": {
    "id": "Dt2qWnMrXZsk"
   },
   "outputs": [
    {
     "data": {
      "text/plain": [
       "SecuritiesCode    0\n",
       "close_adj         0\n",
       "dtype: int64"
      ]
     },
     "execution_count": 14,
     "metadata": {},
     "output_type": "execute_result"
    }
   ],
   "source": [
    "df.dropna(inplace=True)\n",
    "df.isnull().sum()"
   ]
  },
  {
   "cell_type": "markdown",
   "metadata": {},
   "source": [
    "Now we need to select the stocks to use in our analysis. We decided to choose stocks that reflect different behaviors (bull, bear, neutral). A \"bullish\" stock is one that experiences a prolonged period of rising stock prices (typically 20% or more over at least 2 months). A \"bearish\" stock is one that performs the opposite. A \"neutral\" or \"sideways\" stock is one whos prices appear to settle at a mean over a prolonged period of time.\n",
    "\n",
    "Based on these criteria, we decided to use the securities: `[7309,7287,7282]`."
   ]
  },
  {
   "cell_type": "code",
   "execution_count": 21,
   "metadata": {},
   "outputs": [],
   "source": [
    "sample_stocks = [7309, 7287, 7282]"
   ]
  },
  {
   "cell_type": "markdown",
   "metadata": {},
   "source": [
    "Now that we have chosen the stocks to predict on, we can start on some preliminary data analysis. To start, we will plot the close adjusted price over time for each of the stocks chosen to observe any obvious patterns."
   ]
  },
  {
   "cell_type": "code",
   "execution_count": 22,
   "metadata": {},
   "outputs": [
    {
     "data": {
      "image/png": "[encoded data removed]",
      "text/plain": [
       "<Figure size 432x288 with 1 Axes>"
      ]
     },
     "metadata": {
      "needs_background": "light"
     },
     "output_type": "display_data"
    },
    {
     "data": {
      "image/png": "[encoded data removed]",
      "text/plain": [
       "<Figure size 432x288 with 1 Axes>"
      ]
     },
     "metadata": {
      "needs_background": "light"
     },
     "output_type": "display_data"
    },
    {
     "data": {
      "image/png": "[encoded data removed]",
      "text/plain": [
       "<Figure size 432x288 with 1 Axes>"
      ]
     },
     "metadata": {
      "needs_background": "light"
     },
     "output_type": "display_data"
    }
   ],
   "source": [
    "for sample_stock in sample_stocks:\n",
    "    plt.plot(df[df[\"SecuritiesCode\"] == sample_stock][\"close_adj\"],alpha = 0.5)\n",
    "    plt.ylabel(\"Price\")\n",
    "    plt.xlabel(\"Date\")\n",
    "    plt.title(\"Adjusted Close Price of Stock {}\".format(sample_stock))\n",
    "    plt.show()"
   ]
  },
  {
   "cell_type": "markdown",
   "metadata": {},
   "source": [
    "The stocks chosen appear to respectively reflect the different trends defined above. However, to use the SARIMAX model, the data must be stationary. To test stationarity, we will use the adfuller test to calculate the p-value of each stock against a threshold of p=0.05"
   ]
  },
  {
   "cell_type": "code",
   "execution_count": 23,
   "metadata": {},
   "outputs": [
    {
     "name": "stdout",
     "output_type": "stream",
     "text": [
      "p-value for stock 7309: 0.9753507669820672\n",
      "\n",
      "p-value for stock 7287: 0.5279018137455542\n",
      "\n",
      "p-value for stock 7282: 0.08785546983486275\n",
      "\n"
     ]
    }
   ],
   "source": [
    "from statsmodels.tsa.stattools import adfuller\n",
    "for sample_stock in sample_stocks:\n",
    "      result = adfuller(df[(df[\"SecuritiesCode\"] == sample_stock)][\"close_adj\"])\n",
    "      print(\"p-value for stock {}: {}\\n\".format(sample_stock,result[1])) \n",
    "\n",
    "        \n"
   ]
  },
  {
   "cell_type": "markdown",
   "metadata": {},
   "source": [
    "The null hypothesis for the Augmented Dickey-Fuller test is that the data is non-stationary. Since the p-values for each stock chosen is above the threshold of 0.05, we are unable to reject the null hypothesis. This indicates that we need to modify the data to make it stationary. In this case, we take the first difference of the data and run the adfuller test again. "
   ]
  },
  {
   "cell_type": "code",
   "execution_count": 24,
   "metadata": {},
   "outputs": [
    {
     "name": "stdout",
     "output_type": "stream",
     "text": [
      "ADF statistic of first diff of stock 7309 -35.20846444911144\n",
      "p-value for first diff of stock 7309 0.0\n"
     ]
    },
    {
     "data": {
      "image/png": "[encoded data removed]",
      "text/plain": [
       "<Figure size 432x288 with 1 Axes>"
      ]
     },
     "metadata": {
      "needs_background": "light"
     },
     "output_type": "display_data"
    },
    {
     "name": "stdout",
     "output_type": "stream",
     "text": [
      "ADF statistic of first diff of stock 7287 -35.73564949218955\n",
      "p-value for first diff of stock 7287 0.0\n"
     ]
    },
    {
     "data": {
      "image/png": "[encoded data removed]",
      "text/plain": [
       "<Figure size 432x288 with 1 Axes>"
      ]
     },
     "metadata": {
      "needs_background": "light"
     },
     "output_type": "display_data"
    },
    {
     "name": "stdout",
     "output_type": "stream",
     "text": [
      "ADF statistic of first diff of stock 7282 -34.43174345364977\n",
      "p-value for first diff of stock 7282 0.0\n"
     ]
    },
    {
     "data": {
      "image/png": "[encoded data removed]",
      "text/plain": [
       "<Figure size 432x288 with 1 Axes>"
      ]
     },
     "metadata": {
      "needs_background": "light"
     },
     "output_type": "display_data"
    }
   ],
   "source": [
    "#First Diff\n",
    "for sample_stock in sample_stocks:\n",
    "\n",
    "    df_sample = df[(df[\"SecuritiesCode\"] == sample_stock)][\"close_adj\"].diff().dropna()\n",
    "    result = adfuller(df_sample)\n",
    "    print(\"ADF statistic of first diff of stock {}\".format(sample_stock), result[0])\n",
    "    print(\"p-value for first diff of stock {}\".format(sample_stock), result[1])\n",
    "    plt.plot(df_sample)\n",
    "    plt.title(\"First diff of stock {}\".format(sample_stock))\n",
    "    plt.ylabel(\"Diff\")\n",
    "    plt.xlabel(\"Date\")\n",
    "    plt.show()"
   ]
  },
  {
   "cell_type": "markdown",
   "metadata": {},
   "source": [
    "Running the adfuller test against the first difference, we get a p-value of 0.0 for each stock with a test statistic ~-35.\n",
    "The low p-value indicates that we are able to reject the null hypothesis that the data is non-stationary, meaning we can use\n",
    "the first difference to make our data stationary. "
   ]
  },
  {
   "cell_type": "code",
   "execution_count": 20,
   "metadata": {},
   "outputs": [
    {
     "name": "stdout",
     "output_type": "stream",
     "text": [
      "SecuritiesCode    0\n",
      "close_adj         0\n",
      "dtype: int64\n"
     ]
    }
   ],
   "source": [
    "df_7309 = df[(df[\"SecuritiesCode\"] == 7309)].diff().dropna()\n",
    "df_7287 = df[(df[\"SecuritiesCode\"] == 7287)].diff().dropna()\n",
    "df_7282 = df[(df[\"SecuritiesCode\"] == 7282)].diff().dropna()\n",
    "\n"
   ]
  },
  {
   "cell_type": "code",
   "execution_count": null,
   "metadata": {},
   "outputs": [],
   "source": []
  }
 ],
 "metadata": {
  "colab": {
   "name": "anime_country_stonks",
   "provenance": []
  },
  "kernelspec": {
   "display_name": "Python 3 (ipykernel)",
   "language": "python",
   "name": "python3"
  },
  "language_info": {
   "codemirror_mode": {
    "name": "ipython",
    "version": 3
   },
   "file_extension": ".py",
   "mimetype": "text/x-python",
   "name": "python",
   "nbconvert_exporter": "python",
   "pygments_lexer": "ipython3",
   "version": "3.9.7"
  }
 },
 "nbformat": 4,
 "nbformat_minor": 1
}
